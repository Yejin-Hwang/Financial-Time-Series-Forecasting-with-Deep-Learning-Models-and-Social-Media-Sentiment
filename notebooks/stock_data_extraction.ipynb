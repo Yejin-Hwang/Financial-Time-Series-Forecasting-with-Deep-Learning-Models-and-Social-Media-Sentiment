{
 "cells": [
  {
   "cell_type": "code",
   "execution_count": 1,
   "metadata": {},
   "outputs": [
    {
     "data": {
      "text/html": [
       "<div>\n",
       "<style scoped>\n",
       "    .dataframe tbody tr th:only-of-type {\n",
       "        vertical-align: middle;\n",
       "    }\n",
       "\n",
       "    .dataframe tbody tr th {\n",
       "        vertical-align: top;\n",
       "    }\n",
       "\n",
       "    .dataframe thead th {\n",
       "        text-align: right;\n",
       "    }\n",
       "</style>\n",
       "<table border=\"1\" class=\"dataframe\">\n",
       "  <thead>\n",
       "    <tr style=\"text-align: right;\">\n",
       "      <th></th>\n",
       "      <th>Date</th>\n",
       "      <th>Open</th>\n",
       "      <th>High</th>\n",
       "      <th>Low</th>\n",
       "      <th>Close</th>\n",
       "      <th>Volume</th>\n",
       "      <th>last_earnings_date</th>\n",
       "      <th>days_since_earning</th>\n",
       "      <th>month</th>\n",
       "      <th>day_of_week</th>\n",
       "      <th>quarter</th>\n",
       "      <th>year</th>\n",
       "      <th>is_month_end</th>\n",
       "      <th>is_month_start</th>\n",
       "      <th>rolling_volatility</th>\n",
       "      <th>return_1d</th>\n",
       "      <th>cumulative_return</th>\n",
       "      <th>time_idx</th>\n",
       "      <th>unique_id</th>\n",
       "    </tr>\n",
       "  </thead>\n",
       "  <tbody>\n",
       "  </tbody>\n",
       "</table>\n",
       "</div>"
      ],
      "text/plain": [
       "Empty DataFrame\n",
       "Columns: [Date, Open, High, Low, Close, Volume, last_earnings_date, days_since_earning, month, day_of_week, quarter, year, is_month_end, is_month_start, rolling_volatility, return_1d, cumulative_return, time_idx, unique_id]\n",
       "Index: []"
      ]
     },
     "execution_count": 1,
     "metadata": {},
     "output_type": "execute_result"
    }
   ],
   "source": [
    "# Delegate to models/stock_data_extraction.py\n",
    "from pathlib import Path\n",
    "import sys\n",
    "\n",
    "# Resolve project root when running from notebooks/\n",
    "cwd = Path.cwd().resolve()\n",
    "PROJECT_ROOT = cwd.parent if cwd.name == 'notebooks' else cwd\n",
    "if str(PROJECT_ROOT) not in sys.path:\n",
    "  sys.path.insert(0, str(PROJECT_ROOT))\n",
    "\n",
    "from models.stock_data_extraction import run_stock_data_extraction\n",
    "\n",
    "TICKER = 'TSLA'\n",
    "OUTPUT_CSV = PROJECT_ROOT / f'{TICKER}_price.csv'\n",
    "\n",
    "df = run_stock_data_extraction(ticker=TICKER, output_csv=str(OUTPUT_CSV))\n",
    "\n",
    "df.head()\n"
   ]
  }
 ],
 "metadata": {
  "kernelspec": {
   "display_name": "base",
   "language": "python",
   "name": "python3"
  },
  "language_info": {
   "codemirror_mode": {
    "name": "ipython",
    "version": 3
   },
   "file_extension": ".py",
   "mimetype": "text/x-python",
   "name": "python",
   "nbconvert_exporter": "python",
   "pygments_lexer": "ipython3",
   "version": "3.12.2"
  }
 },
 "nbformat": 4,
 "nbformat_minor": 2
}

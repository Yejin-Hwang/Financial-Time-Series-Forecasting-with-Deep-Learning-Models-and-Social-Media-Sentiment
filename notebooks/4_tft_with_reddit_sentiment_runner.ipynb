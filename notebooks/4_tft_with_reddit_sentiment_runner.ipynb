{
  "cells": [
    {
      "cell_type": "markdown",
      "metadata": {},
      "source": [
        "# TFT with Reddit Sentiment & Spike - Notebook Pipeline\n",
        "\n",
        "This notebook imports the TFT pipeline from `models/tft_with_reddit_sentiment.py` and runs it non-interactively:\n",
        "\n",
        "- Configure training hyperparameters in a cell\n",
        "- Load processed data\n",
        "- Train, evaluate, and visualize predictions\n",
        "- Optionally interpret the model and save results\n"
      ]
    },
    {
      "cell_type": "code",
      "execution_count": 1,
      "metadata": {},
      "outputs": [],
      "source": [
        "# Ensure project root is on sys.path for `import models`\n",
        "import sys, os\n",
        "PROJECT_ROOT = os.path.abspath(os.path.join(os.getcwd(), '..'))\n",
        "if PROJECT_ROOT not in sys.path:\n",
        "    sys.path.insert(0, PROJECT_ROOT)\n"
      ]
    },
    {
      "cell_type": "code",
      "execution_count": 2,
      "metadata": {},
      "outputs": [
        {
          "data": {
            "text/plain": [
              "<module 'models.tft_with_reddit_sentiment' from '/Users/hwang-yejin/Desktop/Financial Time Series Forecasting with Deep Learning Models and Social Media Sentiment/models/tft_with_reddit_sentiment.py'>"
            ]
          },
          "execution_count": 2,
          "metadata": {},
          "output_type": "execute_result"
        }
      ],
      "source": [
        "# Import and reload module\n",
        "import importlib\n",
        "from models import tft_with_reddit_sentiment as tft_reddit\n",
        "importlib.reload(tft_reddit)\n"
      ]
    },
    {
      "cell_type": "code",
      "execution_count": null,
      "metadata": {},
      "outputs": [
        {
          "name": "stdout",
          "output_type": "stream",
          "text": [
            "Starting Automated TFT Analysis with Reddit Sentiment & Spike Data...\n",
            "Seed set to 42 (default)\n",
            "🔧 Checking and installing dependencies...\n",
            "✓ pytorch_forecasting already installed\n",
            "✓ yfinance already installed\n",
            "📚 Importing libraries...\n",
            "✓ All libraries imported successfully!\n",
            "\n",
            "=== TFT Configuration (96-day training, 5-day prediction) ===\n",
            "\n",
            "✓ Configuration set:\n",
            "  - Training start: 2025-02-01\n",
            "  - Training days: 96\n",
            "  - Prediction days: 5\n",
            "  - Max epochs: 30\n",
            "  - Batch size: 128\n",
            "  - Learning rate: 0.03\n",
            "\n",
            "=== Loading and Preparing Data ===\n",
            "✓ Data loaded successfully from /Users/hwang-yejin/Desktop/Financial Time Series Forecasting with Deep Learning Models and Social Media Sentiment/data/processed/tsla_price_sentiment_spike_merged_20220721_20250915.csv\n",
            "  - Shape: (114, 35)\n",
            "  - Date range: 2025-02-03 to 2025-07-17\n",
            "\n",
            "Data columns:\n",
            "['date', 'open', 'high', 'low', 'close', 'volume', 'last_earnings_date', 'days_since_earning', 'month', 'day_of_week', 'quarter', 'year', 'is_month_end', 'is_month_start', 'rolling_volatility', 'return_1d', 'cumulative_return', 'time_idx', 'unique_id', 'daily_sentiment', 'spike_impact_trading_day', 'spike_post_count', 'spike_smoothed', 'spike_spike_presence', 'spike_spike_intensity', 'spike_loess_upper', 'has_sentiment', 'daily_sentiment_mean_3', 'daily_sentiment_std_3', 'daily_sentiment_mean_7', 'daily_sentiment_std_7', 'daily_sentiment_mean_14', 'daily_sentiment_std_14', 'has_spike', 'daily_sentiment_lag1', 'daily_sentiment_lag2', 'daily_sentiment_lag3', 'daily_sentiment_lag4', 'daily_sentiment_lag5']\n",
            "✓ Using date_anchor approach with user-specified start date\n",
            "  - Training start: 2025-02-01\n",
            "  - Training days: 96\n",
            "  - Prediction days: 5\n",
            "✓ Using 96 training days + 5 prediction days from 2025-02-01\n",
            "  - Total data range: 2025-02-03 00:00:00 to 2025-06-27 00:00:00\n",
            "  - Total data points: 101\n",
            "\n",
            "First few rows:\n",
            "        date        open        high         low       close    volume  \\\n",
            "0 2025-02-03  386.679993  389.170013  374.359985  383.679993  93732100   \n",
            "1 2025-02-04  382.630005  394.000000  381.399994  392.209991  57072200   \n",
            "2 2025-02-05  387.510010  388.390015  375.529999  378.170013  57223300   \n",
            "3 2025-02-06  373.029999  375.399994  363.179993  374.320007  77918200   \n",
            "4 2025-02-07  370.190002  380.549988  360.339996  361.619995  70298300   \n",
            "\n",
            "          last_earnings_date  days_since_earning  month  day_of_week  ...  \\\n",
            "0  2025-01-29 16:12:00-05:00                 4.0      2            0  ...   \n",
            "1  2025-01-29 16:12:00-05:00                 5.0      2            1  ...   \n",
            "2  2025-01-29 16:12:00-05:00                 6.0      2            2  ...   \n",
            "3  2025-01-29 16:12:00-05:00                 7.0      2            3  ...   \n",
            "4  2025-01-29 16:12:00-05:00                 8.0      2            4  ...   \n",
            "\n",
            "   daily_sentiment_mean_7  daily_sentiment_std_7  daily_sentiment_mean_14  \\\n",
            "0                0.846911               1.070261                 0.846911   \n",
            "1                0.846911               1.070261                 0.846911   \n",
            "2                0.090122               1.070261                 0.090122   \n",
            "3                0.349622               0.880199                 0.349622   \n",
            "4                0.262217               0.739635                 0.262217   \n",
            "\n",
            "   daily_sentiment_std_14  has_spike  daily_sentiment_lag1  \\\n",
            "0                1.070261          0              0.846911   \n",
            "1                1.070261          0              0.846911   \n",
            "2                1.070261          0             -0.666667   \n",
            "3                0.880199          0              0.868623   \n",
            "4                0.739635          0              0.000000   \n",
            "\n",
            "   daily_sentiment_lag2  daily_sentiment_lag3 daily_sentiment_lag4  \\\n",
            "0              0.846911              0.846911             0.846911   \n",
            "1              0.846911              0.846911             0.846911   \n",
            "2              0.846911              0.846911             0.846911   \n",
            "3             -0.666667              0.846911             0.846911   \n",
            "4              0.868623             -0.666667             0.846911   \n",
            "\n",
            "   daily_sentiment_lag5  \n",
            "0              0.846911  \n",
            "1              0.846911  \n",
            "2              0.846911  \n",
            "3              0.846911  \n",
            "4              0.846911  \n",
            "\n",
            "[5 rows x 39 columns]\n",
            "\n",
            "=== Creating TFT Dataset ===\n",
            "  - Total data points: 101\n",
            "  - Encoder length: 96 days\n",
            "  - Prediction length: 5 days\n",
            "  - Minimum required length: 101 days\n",
            "  - Adjusted encoder length to 95 to use all available data\n",
            "  - Using all 101 data points for training\n",
            "  - Known features: ['time_idx', 'month', 'day_of_week', 'quarter', 'year', 'is_month_end', 'is_month_start', 'days_since_earning', 'daily_sentiment_lag2', 'daily_sentiment_lag3', 'daily_sentiment_lag4', 'daily_sentiment_lag5', 'daily_sentiment_mean_3', 'daily_sentiment_mean_7', 'daily_sentiment_mean_14', 'daily_sentiment_std_7', 'daily_sentiment_std_14']\n",
            "  - Unknown features: ['close', 'volume']\n",
            "✓ Training dataset created with 2 samples\n",
            "\n",
            "=== Creating Model and DataLoader ===\n",
            "✓ DataLoader created with batch size 128\n",
            "✓ TFT model created with 40030 parameters\n",
            "  - Learning rate: 0.03\n",
            "  - Hidden size: 16\n",
            "  - Attention heads: 1\n",
            "\n",
            "=== Training TFT Model ===\n"
          ]
        },
        {
          "name": "stderr",
          "output_type": "stream",
          "text": [
            "GPU available: True (mps), used: True\n",
            "TPU available: False, using: 0 TPU cores\n",
            "HPU available: False, using: 0 HPUs\n"
          ]
        },
        {
          "name": "stdout",
          "output_type": "stream",
          "text": [
            "✓ Trainer configured with 30 max epochs (monitoring train_loss)\n",
            "  - Early stopping enabled\n",
            "  - Learning rate monitoring enabled\n",
            "  - Model checkpointing enabled\n",
            "\n",
            "Starting model training...\n"
          ]
        },
        {
          "name": "stderr",
          "output_type": "stream",
          "text": [
            "\n",
            "   | Name                               | Type                            | Params | Mode \n",
            "------------------------------------------------------------------------------------------------\n",
            "0  | loss                               | TorchMetricWrapper              | 0      | train\n",
            "1  | logging_metrics                    | ModuleList                      | 0      | train\n",
            "2  | input_embeddings                   | MultiEmbedding                  | 1      | train\n",
            "3  | prescalers                         | ModuleDict                      | 304    | train\n",
            "4  | static_variable_selection          | VariableSelectionNetwork        | 48     | train\n",
            "5  | encoder_variable_selection         | VariableSelectionNetwork        | 13.7 K | train\n",
            "6  | decoder_variable_selection         | VariableSelectionNetwork        | 12.4 K | train\n",
            "7  | static_context_variable_selection  | GatedResidualNetwork            | 1.1 K  | train\n",
            "8  | static_context_initial_hidden_lstm | GatedResidualNetwork            | 1.1 K  | train\n",
            "9  | static_context_initial_cell_lstm   | GatedResidualNetwork            | 1.1 K  | train\n",
            "10 | static_context_enrichment          | GatedResidualNetwork            | 1.1 K  | train\n",
            "11 | lstm_encoder                       | LSTM                            | 2.2 K  | train\n",
            "12 | lstm_decoder                       | LSTM                            | 2.2 K  | train\n",
            "13 | post_lstm_gate_encoder             | GatedLinearUnit                 | 544    | train\n",
            "14 | post_lstm_add_norm_encoder         | AddNorm                         | 32     | train\n",
            "15 | static_enrichment                  | GatedResidualNetwork            | 1.4 K  | train\n",
            "16 | multihead_attn                     | InterpretableMultiHeadAttention | 1.1 K  | train\n",
            "17 | post_attn_gate_norm                | GateAddNorm                     | 576    | train\n",
            "18 | pos_wise_ff                        | GatedResidualNetwork            | 1.1 K  | train\n",
            "19 | pre_output_gate_norm               | GateAddNorm                     | 576    | train\n",
            "20 | output_layer                       | Linear                          | 17     | train\n",
            "------------------------------------------------------------------------------------------------\n",
            "40.0 K    Trainable params\n",
            "0         Non-trainable params\n",
            "40.0 K    Total params\n",
            "0.160     Total estimated model params size (MB)\n",
            "670       Modules in train mode\n",
            "0         Modules in eval mode\n"
          ]
        },
        {
          "data": {
            "application/vnd.jupyter.widget-view+json": {
              "model_id": "57f3c667e67547a18ca78f4c0406ff97",
              "version_major": 2,
              "version_minor": 0
            },
            "text/plain": [
              "Sanity Checking: |          | 0/? [00:00<?, ?it/s]"
            ]
          },
          "metadata": {},
          "output_type": "display_data"
        },
        {
          "data": {
            "application/vnd.jupyter.widget-view+json": {
              "model_id": "08ac7a83634541368356f0a20b6df19c",
              "version_major": 2,
              "version_minor": 0
            },
            "text/plain": [
              "Training: |          | 0/? [00:00<?, ?it/s]"
            ]
          },
          "metadata": {},
          "output_type": "display_data"
        },
        {
          "data": {
            "application/vnd.jupyter.widget-view+json": {
              "model_id": "cb29a5aba0174aeeae92f55996e874c1",
              "version_major": 2,
              "version_minor": 0
            },
            "text/plain": [
              "Validation: |          | 0/? [00:00<?, ?it/s]"
            ]
          },
          "metadata": {},
          "output_type": "display_data"
        },
        {
          "name": "stderr",
          "output_type": "stream",
          "text": [
            "Metric train_loss improved. New best score: 3574.234\n"
          ]
        },
        {
          "data": {
            "application/vnd.jupyter.widget-view+json": {
              "model_id": "0ceb466d9ac945caa3ea751b009b44f2",
              "version_major": 2,
              "version_minor": 0
            },
            "text/plain": [
              "Validation: |          | 0/? [00:00<?, ?it/s]"
            ]
          },
          "metadata": {},
          "output_type": "display_data"
        },
        {
          "name": "stderr",
          "output_type": "stream",
          "text": [
            "Metric train_loss improved by 798.695 >= min_delta = 0.0001. New best score: 2775.540\n"
          ]
        },
        {
          "data": {
            "application/vnd.jupyter.widget-view+json": {
              "model_id": "749defda8cdd434cb4b6e0b362f226b3",
              "version_major": 2,
              "version_minor": 0
            },
            "text/plain": [
              "Validation: |          | 0/? [00:00<?, ?it/s]"
            ]
          },
          "metadata": {},
          "output_type": "display_data"
        },
        {
          "name": "stderr",
          "output_type": "stream",
          "text": [
            "Metric train_loss improved by 1474.528 >= min_delta = 0.0001. New best score: 1301.011\n"
          ]
        },
        {
          "data": {
            "application/vnd.jupyter.widget-view+json": {
              "model_id": "99737923f3c54efdb28ae5f726232b65",
              "version_major": 2,
              "version_minor": 0
            },
            "text/plain": [
              "Validation: |          | 0/? [00:00<?, ?it/s]"
            ]
          },
          "metadata": {},
          "output_type": "display_data"
        },
        {
          "name": "stderr",
          "output_type": "stream",
          "text": [
            "Metric train_loss improved by 1135.705 >= min_delta = 0.0001. New best score: 165.307\n"
          ]
        },
        {
          "data": {
            "application/vnd.jupyter.widget-view+json": {
              "model_id": "152576a41edf408a947a4b5ddd664912",
              "version_major": 2,
              "version_minor": 0
            },
            "text/plain": [
              "Validation: |          | 0/? [00:00<?, ?it/s]"
            ]
          },
          "metadata": {},
          "output_type": "display_data"
        },
        {
          "data": {
            "application/vnd.jupyter.widget-view+json": {
              "model_id": "60f85b35efa548dcb87104342f75e375",
              "version_major": 2,
              "version_minor": 0
            },
            "text/plain": [
              "Validation: |          | 0/? [00:00<?, ?it/s]"
            ]
          },
          "metadata": {},
          "output_type": "display_data"
        },
        {
          "name": "stderr",
          "output_type": "stream",
          "text": [
            "Metric train_loss improved by 49.361 >= min_delta = 0.0001. New best score: 115.946\n"
          ]
        },
        {
          "data": {
            "application/vnd.jupyter.widget-view+json": {
              "model_id": "682a564bd92249939c7b3a228240dc76",
              "version_major": 2,
              "version_minor": 0
            },
            "text/plain": [
              "Validation: |          | 0/? [00:00<?, ?it/s]"
            ]
          },
          "metadata": {},
          "output_type": "display_data"
        },
        {
          "name": "stderr",
          "output_type": "stream",
          "text": [
            "Metric train_loss improved by 52.773 >= min_delta = 0.0001. New best score: 63.173\n"
          ]
        },
        {
          "data": {
            "application/vnd.jupyter.widget-view+json": {
              "model_id": "b6da95afe7b24539bcd49a1f08924a64",
              "version_major": 2,
              "version_minor": 0
            },
            "text/plain": [
              "Validation: |          | 0/? [00:00<?, ?it/s]"
            ]
          },
          "metadata": {},
          "output_type": "display_data"
        },
        {
          "data": {
            "application/vnd.jupyter.widget-view+json": {
              "model_id": "f02ad6477cd2497c8d52e32dbd297c22",
              "version_major": 2,
              "version_minor": 0
            },
            "text/plain": [
              "Validation: |          | 0/? [00:00<?, ?it/s]"
            ]
          },
          "metadata": {},
          "output_type": "display_data"
        },
        {
          "name": "stderr",
          "output_type": "stream",
          "text": [
            "Metric train_loss improved by 16.333 >= min_delta = 0.0001. New best score: 46.840\n"
          ]
        },
        {
          "data": {
            "application/vnd.jupyter.widget-view+json": {
              "model_id": "53394d8a27b942c9a0f8e92e2919f386",
              "version_major": 2,
              "version_minor": 0
            },
            "text/plain": [
              "Validation: |          | 0/? [00:00<?, ?it/s]"
            ]
          },
          "metadata": {},
          "output_type": "display_data"
        },
        {
          "data": {
            "application/vnd.jupyter.widget-view+json": {
              "model_id": "5191f944450c4c8c9a9206d87952045d",
              "version_major": 2,
              "version_minor": 0
            },
            "text/plain": [
              "Validation: |          | 0/? [00:00<?, ?it/s]"
            ]
          },
          "metadata": {},
          "output_type": "display_data"
        },
        {
          "data": {
            "application/vnd.jupyter.widget-view+json": {
              "model_id": "5b7fae2df9cc4f298690a2402c5c2d01",
              "version_major": 2,
              "version_minor": 0
            },
            "text/plain": [
              "Validation: |          | 0/? [00:00<?, ?it/s]"
            ]
          },
          "metadata": {},
          "output_type": "display_data"
        },
        {
          "data": {
            "application/vnd.jupyter.widget-view+json": {
              "model_id": "f34797de959a48adb0170340195cba7f",
              "version_major": 2,
              "version_minor": 0
            },
            "text/plain": [
              "Validation: |          | 0/? [00:00<?, ?it/s]"
            ]
          },
          "metadata": {},
          "output_type": "display_data"
        },
        {
          "name": "stderr",
          "output_type": "stream",
          "text": [
            "Metric train_loss improved by 12.205 >= min_delta = 0.0001. New best score: 34.636\n"
          ]
        },
        {
          "data": {
            "application/vnd.jupyter.widget-view+json": {
              "model_id": "ac06d8c9774e42f1b793146a45f8f6b0",
              "version_major": 2,
              "version_minor": 0
            },
            "text/plain": [
              "Validation: |          | 0/? [00:00<?, ?it/s]"
            ]
          },
          "metadata": {},
          "output_type": "display_data"
        },
        {
          "name": "stderr",
          "output_type": "stream",
          "text": [
            "Metric train_loss improved by 2.810 >= min_delta = 0.0001. New best score: 31.825\n"
          ]
        },
        {
          "data": {
            "application/vnd.jupyter.widget-view+json": {
              "model_id": "7d52ca66ce5b42a8bd51535e1eede8db",
              "version_major": 2,
              "version_minor": 0
            },
            "text/plain": [
              "Validation: |          | 0/? [00:00<?, ?it/s]"
            ]
          },
          "metadata": {},
          "output_type": "display_data"
        },
        {
          "data": {
            "application/vnd.jupyter.widget-view+json": {
              "model_id": "049ffad7211b4edeb4bc811e9b086066",
              "version_major": 2,
              "version_minor": 0
            },
            "text/plain": [
              "Validation: |          | 0/? [00:00<?, ?it/s]"
            ]
          },
          "metadata": {},
          "output_type": "display_data"
        },
        {
          "data": {
            "application/vnd.jupyter.widget-view+json": {
              "model_id": "076dff8dad6e4f8485f2c30a7d2c7936",
              "version_major": 2,
              "version_minor": 0
            },
            "text/plain": [
              "Validation: |          | 0/? [00:00<?, ?it/s]"
            ]
          },
          "metadata": {},
          "output_type": "display_data"
        },
        {
          "name": "stderr",
          "output_type": "stream",
          "text": [
            "Metric train_loss improved by 6.815 >= min_delta = 0.0001. New best score: 25.010\n"
          ]
        },
        {
          "data": {
            "application/vnd.jupyter.widget-view+json": {
              "model_id": "11c7789042e54deaa8d2cb589ce76627",
              "version_major": 2,
              "version_minor": 0
            },
            "text/plain": [
              "Validation: |          | 0/? [00:00<?, ?it/s]"
            ]
          },
          "metadata": {},
          "output_type": "display_data"
        },
        {
          "name": "stderr",
          "output_type": "stream",
          "text": [
            "Metric train_loss improved by 1.310 >= min_delta = 0.0001. New best score: 23.701\n"
          ]
        },
        {
          "data": {
            "application/vnd.jupyter.widget-view+json": {
              "model_id": "b0db40c602cc4d8794284e76c37e91dc",
              "version_major": 2,
              "version_minor": 0
            },
            "text/plain": [
              "Validation: |          | 0/? [00:00<?, ?it/s]"
            ]
          },
          "metadata": {},
          "output_type": "display_data"
        },
        {
          "name": "stderr",
          "output_type": "stream",
          "text": [
            "Metric train_loss improved by 0.648 >= min_delta = 0.0001. New best score: 23.053\n"
          ]
        },
        {
          "data": {
            "application/vnd.jupyter.widget-view+json": {
              "model_id": "51677a80fd43427fa2c5742cf3267147",
              "version_major": 2,
              "version_minor": 0
            },
            "text/plain": [
              "Validation: |          | 0/? [00:00<?, ?it/s]"
            ]
          },
          "metadata": {},
          "output_type": "display_data"
        },
        {
          "name": "stderr",
          "output_type": "stream",
          "text": [
            "Metric train_loss improved by 5.188 >= min_delta = 0.0001. New best score: 17.865\n"
          ]
        },
        {
          "data": {
            "application/vnd.jupyter.widget-view+json": {
              "model_id": "7c6cc73c52674a22ab3fd0a2f2d66dcd",
              "version_major": 2,
              "version_minor": 0
            },
            "text/plain": [
              "Validation: |          | 0/? [00:00<?, ?it/s]"
            ]
          },
          "metadata": {},
          "output_type": "display_data"
        },
        {
          "name": "stderr",
          "output_type": "stream",
          "text": [
            "Metric train_loss improved by 8.675 >= min_delta = 0.0001. New best score: 9.190\n"
          ]
        },
        {
          "data": {
            "application/vnd.jupyter.widget-view+json": {
              "model_id": "367b21c60ee946f78ae0cf62a343947f",
              "version_major": 2,
              "version_minor": 0
            },
            "text/plain": [
              "Validation: |          | 0/? [00:00<?, ?it/s]"
            ]
          },
          "metadata": {},
          "output_type": "display_data"
        },
        {
          "name": "stderr",
          "output_type": "stream",
          "text": [
            "Metric train_loss improved by 2.786 >= min_delta = 0.0001. New best score: 6.404\n"
          ]
        },
        {
          "data": {
            "application/vnd.jupyter.widget-view+json": {
              "model_id": "6d8fcab2a12b47279802c3ae16bc2a27",
              "version_major": 2,
              "version_minor": 0
            },
            "text/plain": [
              "Validation: |          | 0/? [00:00<?, ?it/s]"
            ]
          },
          "metadata": {},
          "output_type": "display_data"
        },
        {
          "name": "stderr",
          "output_type": "stream",
          "text": [
            "Metric train_loss improved by 1.529 >= min_delta = 0.0001. New best score: 4.875\n"
          ]
        },
        {
          "data": {
            "application/vnd.jupyter.widget-view+json": {
              "model_id": "8f303b21131641b397839074e3cb5b77",
              "version_major": 2,
              "version_minor": 0
            },
            "text/plain": [
              "Validation: |          | 0/? [00:00<?, ?it/s]"
            ]
          },
          "metadata": {},
          "output_type": "display_data"
        },
        {
          "data": {
            "application/vnd.jupyter.widget-view+json": {
              "model_id": "6a04b4bcd0584e8eb1fefce975657165",
              "version_major": 2,
              "version_minor": 0
            },
            "text/plain": [
              "Validation: |          | 0/? [00:00<?, ?it/s]"
            ]
          },
          "metadata": {},
          "output_type": "display_data"
        },
        {
          "data": {
            "application/vnd.jupyter.widget-view+json": {
              "model_id": "df63f0de9a0e4d56ae9fc11ea09a5424",
              "version_major": 2,
              "version_minor": 0
            },
            "text/plain": [
              "Validation: |          | 0/? [00:00<?, ?it/s]"
            ]
          },
          "metadata": {},
          "output_type": "display_data"
        },
        {
          "name": "stderr",
          "output_type": "stream",
          "text": [
            "Metric train_loss improved by 2.337 >= min_delta = 0.0001. New best score: 2.538\n"
          ]
        },
        {
          "data": {
            "application/vnd.jupyter.widget-view+json": {
              "model_id": "6105bafd502c46808021734c90294e1b",
              "version_major": 2,
              "version_minor": 0
            },
            "text/plain": [
              "Validation: |          | 0/? [00:00<?, ?it/s]"
            ]
          },
          "metadata": {},
          "output_type": "display_data"
        },
        {
          "name": "stderr",
          "output_type": "stream",
          "text": [
            "Metric train_loss improved by 1.001 >= min_delta = 0.0001. New best score: 1.537\n"
          ]
        },
        {
          "data": {
            "application/vnd.jupyter.widget-view+json": {
              "model_id": "271e7bc252d54f6698c8754ec3464218",
              "version_major": 2,
              "version_minor": 0
            },
            "text/plain": [
              "Validation: |          | 0/? [00:00<?, ?it/s]"
            ]
          },
          "metadata": {},
          "output_type": "display_data"
        },
        {
          "data": {
            "application/vnd.jupyter.widget-view+json": {
              "model_id": "3afd34ce7b864d1784dc8a7a3b58ce6e",
              "version_major": 2,
              "version_minor": 0
            },
            "text/plain": [
              "Validation: |          | 0/? [00:00<?, ?it/s]"
            ]
          },
          "metadata": {},
          "output_type": "display_data"
        },
        {
          "data": {
            "application/vnd.jupyter.widget-view+json": {
              "model_id": "966cdda3395b4875a2a2f68156c1097a",
              "version_major": 2,
              "version_minor": 0
            },
            "text/plain": [
              "Validation: |          | 0/? [00:00<?, ?it/s]"
            ]
          },
          "metadata": {},
          "output_type": "display_data"
        },
        {
          "name": "stderr",
          "output_type": "stream",
          "text": [
            "`Trainer.fit` stopped: `max_epochs=30` reached.\n"
          ]
        },
        {
          "name": "stdout",
          "output_type": "stream",
          "text": [
            "✅ Training completed!\n",
            "\n",
            "=== Loading Best Model and Creating Validation Dataset ===\n"
          ]
        },
        {
          "name": "stderr",
          "output_type": "stream",
          "text": [
            "💡 Tip: For seamless cloud uploads and versioning, try installing [litmodels](https://pypi.org/project/litmodels/) to enable LitModelCheckpoint, which syncs automatically with the Lightning model registry.\n"
          ]
        },
        {
          "name": "stdout",
          "output_type": "stream",
          "text": [
            "✓ Best model loaded from: /Users/hwang-yejin/Desktop/Financial Time Series Forecasting with Deep Learning Models and Social Media Sentiment/notebooks/checkpoints/tft-epoch=26-train_loss=1.5367.ckpt\n",
            "✓ Validation dataset created with 1 samples\n",
            "\n",
            "=== Making Predictions ===\n"
          ]
        },
        {
          "name": "stderr",
          "output_type": "stream",
          "text": [
            "GPU available: True (mps), used: True\n",
            "TPU available: False, using: 0 TPU cores\n",
            "HPU available: False, using: 0 HPUs\n"
          ]
        },
        {
          "name": "stdout",
          "output_type": "stream",
          "text": [
            "✓ Predictions made successfully\n",
            "  - Prediction shape: torch.Size([1, 5])\n",
            "  - Actuals shape: torch.Size([1, 5])\n",
            "\n",
            "=== Performance Evaluation ===\n",
            "\n",
            "📊 Model Performance Metrics:\n",
            "  Metric   Value\n",
            "0    MAE  2.5349\n",
            "1    MSE  8.8225\n",
            "2   RMSE  2.9703\n",
            "3   MAPE  0.7486\n",
            "4     DA  1.0000\n",
            "\n",
            "=== Creating Visualizations ===\n",
            "\n",
            "=== Creating Standalone Training + Prediction Plot ===\n",
            "Plot saved to /Users/hwang-yejin/Desktop/Financial Time Series Forecasting with Deep Learning Models and Social Media Sentiment/results/TSLA_TFT_with_reddit_sentiment_forecast.png\n"
          ]
        },
        {
          "data": {
            "image/png": "[encoded data removed]",
            "text/plain": [
              "<Figure size 1600x800 with 1 Axes>"
            ]
          },
          "metadata": {},
          "output_type": "display_data"
        },
        {
          "name": "stderr",
          "output_type": "stream",
          "text": [
            "💡 Tip: For seamless cloud uploads and versioning, try installing [litmodels](https://pypi.org/project/litmodels/) to enable LitModelCheckpoint, which syncs automatically with the Lightning model registry.\n"
          ]
        },
        {
          "name": "stdout",
          "output_type": "stream",
          "text": [
            "✓ Standalone plot created successfully!\n",
            "\n",
            "=== Model Interpretation ===\n"
          ]
        },
        {
          "name": "stderr",
          "output_type": "stream",
          "text": [
            "GPU available: True (mps), used: True\n",
            "TPU available: False, using: 0 TPU cores\n",
            "HPU available: False, using: 0 HPUs\n"
          ]
        }
      ],
      "source": [
        "# Run (interactive prompts inside main)\n",
        "from models.tft_with_reddit_sentiment import main as tft_main\n",
        "import time\n",
        "\n",
        "start_time = time.time()\n",
        "tft_main()\n",
        "end_time = time.time()\n",
        "\n",
        "execution_time = end_time - start_time\n",
        "print(f\"Execution time: {end_time - start_time:.2f} seconds\")"
      ]
    },
    {
      "cell_type": "code",
      "execution_count": null,
      "metadata": {},
      "outputs": [],
      "source": [
        "# Display training loss plot saved by the script\n",
        "import os\n",
        "from IPython.display import display, Image\n",
        "\n",
        "project_root = os.path.abspath(os.path.join(os.getcwd(), '..'))\n",
        "plot_path = os.path.join(project_root, 'results', 'TSLA_TFT_reddit_train_loss.png')\n",
        "\n",
        "if os.path.exists(plot_path):\n",
        "  display(Image(filename=plot_path))\n",
        "else:\n",
        "  print('Training loss plot not found at:', plot_path)\n",
        "  print('Run the pipeline cell above first, then re-run this cell.')\n"
      ]
    },
    {
      "cell_type": "code",
      "execution_count": null,
      "metadata": {},
      "outputs": [],
      "source": [
        "#print global results matrix\n",
        "import pandas as pd\n",
        "\n",
        "try:\n",
        "    results_csv_path = '../results/result_matrix.csv'\n",
        "    global_matrix = pd.read_csv(results_csv_path, index_col=0)\n",
        "    print(global_matrix)\n",
        "except Exception as e:\n",
        "    print('Failed to load global_matrix:', e)"
      ]
    },
    {
      "cell_type": "code",
      "execution_count": null,
      "metadata": {},
      "outputs": [],
      "source": [
        "# Save/append execution time to a unified matrix under results/\n",
        "import os, pickle, pathlib\n",
        "import pandas as pd\n",
        "\n",
        "PROJECT_ROOT = os.path.abspath(os.path.join(os.getcwd(), '..'))\n",
        "results_dir = os.path.join(PROJECT_ROOT, 'results')\n",
        "os.makedirs(results_dir, exist_ok=True)\n",
        "\n",
        "ticker = 'TSLA'\n",
        "model_name = 'TFT_with_Reddit_Sentiment'\n",
        "pkl_path = pathlib.Path(results_dir) / f'{ticker}_execution_time.pkl'\n",
        "csv_path = pathlib.Path(results_dir) / f'{ticker}_execution_time_matrix.csv'\n",
        "\n",
        "# Ensure execution_time exists\n",
        "try:\n",
        "  execution_time\n",
        "except NameError:\n",
        "  execution_time = None\n",
        "\n",
        "if execution_time is None:\n",
        "  print('⚠️ execution_time is not defined; skipped saving.')\n",
        "else:\n",
        "  # Load existing\n",
        "  try:\n",
        "    if pkl_path.exists():\n",
        "      with open(pkl_path, 'rb') as f:\n",
        "        exec_df = pickle.load(f)\n",
        "    else:\n",
        "      exec_df = pd.DataFrame(columns=['Execution Time'])\n",
        "  except Exception:\n",
        "    exec_df = pd.DataFrame(columns=['Execution Time'])\n",
        "\n",
        "  # Append/update row\n",
        "  exec_df.loc[model_name] = [execution_time]\n",
        "\n",
        "  # Save\n",
        "  with open(pkl_path, 'wb') as f:\n",
        "    pickle.dump(exec_df, f)\n",
        "  exec_df.to_csv(csv_path, index=True)\n",
        "\n",
        "  print('\\nTotal Execution Time Matrix:')\n",
        "  print(exec_df)"
      ]
    }
  ],
  "metadata": {
    "kernelspec": {
      "display_name": "base",
      "language": "python",
      "name": "python3"
    },
    "language_info": {
      "codemirror_mode": {
        "name": "ipython",
        "version": 3
      },
      "file_extension": ".py",
      "mimetype": "text/x-python",
      "name": "python",
      "nbconvert_exporter": "python",
      "pygments_lexer": "ipython3",
      "version": "3.12.2"
    }
  },
  "nbformat": 4,
  "nbformat_minor": 2
}

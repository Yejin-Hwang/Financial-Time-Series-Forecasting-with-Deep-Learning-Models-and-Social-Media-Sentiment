{
 "cells": [
  {
   "cell_type": "markdown",
   "metadata": {},
   "source": [
    "### Sentiment Benchmark with FinancialPhraseBank\n",
    "\n",
    "This notebook evaluates sentiment classification accuracy on the FinancialPhraseBank dataset using three tools:\n",
    "- NLTK VADER (lexicon-based)\n",
    "- FinBERT (finance-domain transformer)\n",
    "- DistilBERT (general-domain transformer)\n",
    "\n",
    "Data files are loaded from `data/external/FinancialPhraseBank-v1.0`. We report accuracy for multiple agreement splits (AllAgree, 75%, 66%, 50%). In our runs, FinBERT achieved the highest accuracy; VADER was moderate; DistilBERT underperformed due to its binary label space and limited handling of \"neutral\"."
   ]
  },
  {
   "cell_type": "code",
   "execution_count": 1,
   "metadata": {},
   "outputs": [
    {
     "name": "stdout",
     "output_type": "stream",
     "text": [
      "\n",
      "--- Evaluating models on Sentences_AllAgree.txt ---\n",
      "VADER Accuracy: 0.5707\n"
     ]
    },
    {
     "name": "stderr",
     "output_type": "stream",
     "text": [
      "Device set to use mps:0\n",
      "Device set to use mps:0\n"
     ]
    },
    {
     "name": "stdout",
     "output_type": "stream",
     "text": [
      "FinBERT Accuracy: 0.9717\n",
      "DistilBERT Accuracy: 0.2584 (binary model, neutral handling may differ)\n",
      "\n",
      "--- Evaluating models on Sentences_75Agree.txt ---\n",
      "VADER Accuracy: 0.5627\n"
     ]
    },
    {
     "name": "stderr",
     "output_type": "stream",
     "text": [
      "Device set to use mps:0\n",
      "Device set to use mps:0\n"
     ]
    },
    {
     "name": "stdout",
     "output_type": "stream",
     "text": [
      "FinBERT Accuracy: 0.9473\n",
      "DistilBERT Accuracy: 0.2667 (binary model, neutral handling may differ)\n",
      "\n",
      "--- Evaluating models on Sentences_66Agree.txt ---\n",
      "VADER Accuracy: 0.5563\n"
     ]
    },
    {
     "name": "stderr",
     "output_type": "stream",
     "text": [
      "Device set to use mps:0\n",
      "Device set to use mps:0\n"
     ]
    },
    {
     "name": "stdout",
     "output_type": "stream",
     "text": [
      "FinBERT Accuracy: 0.9182\n",
      "DistilBERT Accuracy: 0.2912 (binary model, neutral handling may differ)\n",
      "\n",
      "--- Evaluating models on Sentences_50Agree.txt ---\n",
      "VADER Accuracy: 0.5429\n"
     ]
    },
    {
     "name": "stderr",
     "output_type": "stream",
     "text": [
      "Device set to use mps:0\n"
     ]
    },
    {
     "name": "stdout",
     "output_type": "stream",
     "text": [
      "FinBERT Accuracy: 0.8896\n"
     ]
    },
    {
     "name": "stderr",
     "output_type": "stream",
     "text": [
      "Device set to use mps:0\n"
     ]
    },
    {
     "name": "stdout",
     "output_type": "stream",
     "text": [
      "DistilBERT Accuracy: 0.2992 (binary model, neutral handling may differ)\n"
     ]
    },
    {
     "data": {
      "text/plain": [
       "{'Sentences_AllAgree.txt': {'vader': 0.5706713780918727,\n",
       "  'finbert': 0.9717314487632509,\n",
       "  'distilbert': 0.2583922261484099},\n",
       " 'Sentences_75Agree.txt': {'vader': 0.562699102229945,\n",
       "  'finbert': 0.9472922096727483,\n",
       "  'distilbert': 0.26672458731537796},\n",
       " 'Sentences_66Agree.txt': {'vader': 0.5563196585250177,\n",
       "  'finbert': 0.9181882855110268,\n",
       "  'distilbert': 0.29120227649988145},\n",
       " 'Sentences_50Agree.txt': {'vader': 0.5429219975237309,\n",
       "  'finbert': 0.8895996698307883,\n",
       "  'distilbert': 0.2992158481221626}}"
      ]
     },
     "execution_count": 1,
     "metadata": {},
     "output_type": "execute_result"
    }
   ],
   "source": [
    "# Delegate to models/sentiment_analysis.py\n",
    "import sys\n",
    "from pathlib import Path\n",
    "\n",
    "PROJECT_ROOT = Path('/Users/hwang-yejin/Desktop/Summer1/Proposal/code_cleaning/Financial Time Series Forecasting with Deep Learning Models and Social Media Sentiment')\n",
    "if str(PROJECT_ROOT) not in sys.path:\n",
    "    sys.path.insert(0, str(PROJECT_ROOT))\n",
    "\n",
    "from models.sentiment_analysis import run_sentiment_benchmark\n",
    "\n",
    "DATASET_DIR = PROJECT_ROOT / 'data' / 'external' / 'FinancialPhraseBank-v1.0'\n",
    "\n",
    "metrics = run_sentiment_benchmark(\n",
    "    dataset_dir=str(DATASET_DIR),\n",
    "    focus_filename='Sentences_AllAgree.txt',\n",
    "    extra_filenames=('Sentences_75Agree.txt', 'Sentences_66Agree.txt', 'Sentences_50Agree.txt'),\n",
    "    run_vader=True,\n",
    "    run_finbert=True,\n",
    "    run_distilbert=True,\n",
    "    verbose=True,\n",
    ")\n",
    "\n",
    "metrics\n"
   ]
  }
 ],
 "metadata": {
  "kernelspec": {
   "display_name": "base",
   "language": "python",
   "name": "python3"
  },
  "language_info": {
   "codemirror_mode": {
    "name": "ipython",
    "version": 3
   },
   "file_extension": ".py",
   "mimetype": "text/x-python",
   "name": "python",
   "nbconvert_exporter": "python",
   "pygments_lexer": "ipython3",
   "version": "3.12.2"
  }
 },
 "nbformat": 4,
 "nbformat_minor": 2
}

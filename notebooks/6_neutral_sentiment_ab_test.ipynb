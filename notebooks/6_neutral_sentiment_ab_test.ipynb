{
  "cells": [
    {
      "cell_type": "markdown",
      "metadata": {},
      "source": [
        "# Neutral Sentiment A/B Test (Upvote vs FinBERT) with Robustness\n",
        "\n",
        "Compare TFT+Reddit when neutral class is defined by Upvote ratio (A) vs FinBERT (B), and run robustness across multiple seeds (mean/std).\n"
      ]
    },
    {
      "cell_type": "code",
      "execution_count": 1,
      "metadata": {},
      "outputs": [
        {
          "name": "stdout",
          "output_type": "stream",
          "text": [
            "A: /Users/hwang-yejin/Desktop/Financial Time Series Forecasting with Deep Learning Models and Social Media Sentiment/data/processed/tsla_price_sentiment_spike.csv\n",
            "B: /Users/hwang-yejin/Desktop/Financial Time Series Forecasting with Deep Learning Models and Social Media Sentiment/data/processed/tsla_price_sentiment_spike_new.csv\n"
          ]
        }
      ],
      "source": [
        "# Path setup\n",
        "import os, sys\n",
        "PROJECT_ROOT = os.path.abspath(os.path.join(os.getcwd(), '..'))\n",
        "if PROJECT_ROOT not in sys.path:\n",
        "    sys.path.insert(0, PROJECT_ROOT)\n",
        "DATA_DIR = os.path.join(PROJECT_ROOT, 'data', 'processed')\n",
        "A_PATH = os.path.join(DATA_DIR, 'tsla_price_sentiment_spike.csv')       # Upvote neutral\n",
        "B_PATH = os.path.join(DATA_DIR, 'tsla_price_sentiment_spike_new.csv')  # FinBERT neutral\n",
        "RESULTS_DIR = os.path.join(PROJECT_ROOT, 'results')\n",
        "print('A:', A_PATH)\n",
        "print('B:', B_PATH)\n",
        "\n"
      ]
    },
    {
      "cell_type": "code",
      "execution_count": 2,
      "metadata": {},
      "outputs": [],
      "source": [
        "# Deterministic seed helper\n",
        "import os, random, numpy as np, torch\n",
        "try:\n",
        "    import lightning.pytorch as pl\n",
        "except Exception:\n",
        "    pl = None\n",
        "\n",
        "def set_seed(seed: int):\n",
        "    os.environ[\"PYTHONHASHSEED\"] = str(seed)\n",
        "    random.seed(seed)\n",
        "    np.random.seed(seed)\n",
        "    torch.manual_seed(seed)\n",
        "    if pl is not None:\n",
        "        try:\n",
        "            pl.seed_everything(seed, workers=False)\n",
        "        except Exception:\n",
        "            pass\n",
        "    try:\n",
        "        torch.backends.cudnn.deterministic = True\n",
        "        torch.backends.cudnn.benchmark = False\n",
        "    except Exception:\n",
        "        pass\n"
      ]
    },
    {
      "cell_type": "code",
      "execution_count": 3,
      "metadata": {},
      "outputs": [],
      "source": [
        "# Runner wrappers\n",
        "from importlib import reload\n",
        "from models import tft_with_reddit_sentiment as tft_r\n",
        "reload(tft_r)\n",
        "\n",
        "def run_with_data_seeded(data_path: str, seed: int):\n",
        "    set_seed(seed)\n",
        "    config = tft_r.get_user_config()\n",
        "    config['train_start'] = '2025-02-01'\n",
        "    config['training_days'] = 96\n",
        "    config['prediction_days'] = 5\n",
        "    df = tft_r.load_and_prepare_data(data_path, config)\n",
        "    training_dataset, _ = tft_r.create_tft_dataset(df, config)\n",
        "    tft, train_loader = tft_r.create_model_and_dataloader(training_dataset, config)\n",
        "    trainer = tft_r.train_model(tft, train_loader, training_dataset, config)\n",
        "    best_tft, val_loader = tft_r.load_best_model_and_validate(trainer, training_dataset, df, tft, config)\n",
        "    preds, actuals = tft_r.make_predictions(best_tft, val_loader)\n",
        "    return tft_r.evaluate_performance(preds, actuals)\n"
      ]
    },
    {
      "cell_type": "code",
      "execution_count": null,
      "metadata": {},
      "outputs": [],
      "source": [
        "# Override runner to be fully non-interactive (no input prompts)\n",
        "from importlib import reload\n",
        "from models import tft_with_reddit_sentiment as tft_r\n",
        "reload(tft_r)\n",
        "\n",
        "def run_with_data_seeded(data_path: str, seed: int):\n",
        "    set_seed(seed)\n",
        "    # Fixed config (no prompts)\n",
        "    config = {\n",
        "        'training_type': 'date_anchor',\n",
        "        'train_start': '2025-02-01',\n",
        "        'training_days': 96,\n",
        "        'prediction_days': 5,\n",
        "        'max_epochs': 30,\n",
        "        'batch_size': 128,\n",
        "        'learning_rate': 0.03,\n",
        "    }\n",
        "    df = tft_r.load_and_prepare_data(data_path, config)\n",
        "    training_dataset, _ = tft_r.create_tft_dataset(df, config)\n",
        "    tft, train_loader = tft_r.create_model_and_dataloader(training_dataset, config)\n",
        "    trainer = tft_r.train_model(tft, train_loader, training_dataset, config)\n",
        "    best_tft, val_loader = tft_r.load_best_model_and_validate(trainer, training_dataset, df, tft, config)\n",
        "    preds, actuals = tft_r.make_predictions(best_tft, val_loader)\n",
        "    return tft_r.evaluate_performance(preds, actuals)\n"
      ]
    },
    {
      "cell_type": "code",
      "execution_count": 4,
      "metadata": {},
      "outputs": [
        {
          "name": "stderr",
          "output_type": "stream",
          "text": [
            "Seed set to 42\n"
          ]
        },
        {
          "name": "stdout",
          "output_type": "stream",
          "text": [
            "Running A (Upvote neutral) ...\n",
            "\n",
            "=== TFT Configuration (96-day training, 5-day prediction) ===\n",
            "\n",
            "✓ Configuration set:\n",
            "  - Training start: 2025-02-01\n",
            "  - Training days: 96\n",
            "  - Prediction days: 5\n",
            "  - Max epochs: 30\n",
            "  - Batch size: 128\n",
            "  - Learning rate: 0.03\n",
            "\n",
            "=== Loading and Preparing Data ===\n",
            "✓ Data loaded successfully from /Users/hwang-yejin/Desktop/Financial Time Series Forecasting with Deep Learning Models and Social Media Sentiment/data/processed/tsla_price_sentiment_spike.csv\n",
            "  - Shape: (232, 19)\n",
            "  - Date range: 2024-06-04 to 2025-07-22\n",
            "\n",
            "Data columns:\n",
            "['time_idx', 'date', 'close', 'volume', 'days_since_earning', 'month', 'day_of_week', 'quarter', 'year', 'is_month_end', 'is_month_start', 'rolling_volatility', 'return_1d', 'cumulative_return', 'unique_id', 'daily_sentiment', 'post_count', 'spike_presence', 'spike_intensity', 'daily_sentiment_lag1', 'daily_sentiment_lag2', 'daily_sentiment_lag3', 'daily_sentiment_lag4', 'daily_sentiment_lag5', 'daily_sentiment_mean_3', 'daily_sentiment_std_3', 'daily_sentiment_mean_7', 'daily_sentiment_std_7', 'daily_sentiment_mean_14', 'daily_sentiment_std_14', 'spike_presence_sum_3', 'spike_presence_sum_7', 'spike_presence_sum_14', 'spike_intensity_max_3', 'spike_intensity_max_7', 'spike_intensity_max_14']\n",
            "✓ Using date_anchor approach with user-specified start date\n",
            "  - Training start: 2025-02-01\n",
            "  - Training days: 96\n",
            "  - Prediction days: 5\n",
            "✓ Using 96 training days + 5 prediction days from 2025-02-01\n",
            "  - Total data range: 2025-02-03 00:00:00 to 2025-07-17 00:00:00\n",
            "  - Total data points: 101\n",
            "\n",
            "First few rows:\n",
            "     time_idx       date       close    volume  days_since_earning  month  \\\n",
            "128         0 2025-02-03  383.679993  93732100                   4      2   \n",
            "129         1 2025-02-04  392.209992  57072200                   5      2   \n",
            "130         2 2025-02-05  378.170013  57223300                   6      2   \n",
            "131         3 2025-02-06  374.320007  77918200                   7      2   \n",
            "132         4 2025-02-07  361.619995  70298300                   8      2   \n",
            "\n",
            "     day_of_week  quarter  year  is_month_end  ...  daily_sentiment_mean_7  \\\n",
            "128            0        1  2025             0  ...                0.096856   \n",
            "129            1        1  2025             0  ...                0.194673   \n",
            "130            2        1  2025             0  ...                0.099435   \n",
            "131            3        1  2025             0  ...                0.156311   \n",
            "132            4        1  2025             0  ...                0.030148   \n",
            "\n",
            "     daily_sentiment_std_7  daily_sentiment_mean_14  daily_sentiment_std_14  \\\n",
            "128               0.579758                 0.346741                0.566595   \n",
            "129               0.646536                 0.343357                0.563205   \n",
            "130               0.724404                 0.233630                0.601175   \n",
            "131               0.772430                 0.299381                0.617658   \n",
            "132               0.702926                 0.266204                0.620576   \n",
            "\n",
            "    spike_presence_sum_3  spike_presence_sum_7  spike_presence_sum_14  \\\n",
            "128                  0.0                   0.0                    0.0   \n",
            "129                  0.0                   0.0                    0.0   \n",
            "130                  0.0                   0.0                    0.0   \n",
            "131                  0.0                   0.0                    0.0   \n",
            "132                  0.0                   0.0                    0.0   \n",
            "\n",
            "     spike_intensity_max_3  spike_intensity_max_7  spike_intensity_max_14  \n",
            "128                    0.0                    0.0                     0.0  \n",
            "129                    0.0                    0.0                     0.0  \n",
            "130                    0.0                    0.0                     0.0  \n",
            "131                    0.0                    0.0                     0.0  \n",
            "132                    0.0                    0.0                     0.0  \n",
            "\n",
            "[5 rows x 36 columns]\n",
            "\n",
            "=== Creating TFT Dataset ===\n",
            "  - Total data points: 101\n",
            "  - Encoder length: 96 days\n",
            "  - Prediction length: 5 days\n",
            "  - Minimum required length: 101 days\n",
            "  - Adjusted encoder length to 95 to use all available data\n",
            "  - Using all 101 data points for training\n",
            "  - Known features: ['time_idx', 'month', 'day_of_week', 'quarter', 'year', 'is_month_end', 'is_month_start', 'days_since_earning', 'daily_sentiment_lag1', 'daily_sentiment_lag2', 'daily_sentiment_lag3', 'daily_sentiment_lag4', 'daily_sentiment_lag5', 'daily_sentiment_mean_3', 'daily_sentiment_mean_7', 'daily_sentiment_mean_14', 'daily_sentiment_std_7', 'daily_sentiment_std_14', 'spike_presence_sum_3', 'spike_presence_sum_7', 'spike_presence_sum_14', 'spike_intensity_max_3', 'spike_intensity_max_7', 'spike_intensity_max_14']\n",
            "  - Unknown features: ['close', 'volume', 'rolling_volatility']\n",
            "✓ Training dataset created with 2 samples\n",
            "\n",
            "=== Creating Model and DataLoader ===\n",
            "✓ DataLoader created with batch size 128\n"
          ]
        },
        {
          "name": "stderr",
          "output_type": "stream",
          "text": [
            "GPU available: True (mps), used: True\n",
            "TPU available: False, using: 0 TPU cores\n",
            "HPU available: False, using: 0 HPUs\n"
          ]
        },
        {
          "name": "stdout",
          "output_type": "stream",
          "text": [
            "✓ TFT model created with 50343 parameters\n",
            "  - Learning rate: 0.03\n",
            "  - Hidden size: 16\n",
            "  - Attention heads: 1\n",
            "\n",
            "=== Training TFT Model ===\n",
            "✓ Trainer configured with 30 max epochs (monitoring train_loss)\n",
            "  - Early stopping enabled\n",
            "  - Learning rate monitoring enabled\n",
            "  - Model checkpointing enabled\n",
            "\n",
            "Starting model training...\n"
          ]
        },
        {
          "name": "stderr",
          "output_type": "stream",
          "text": [
            "\n",
            "   | Name                               | Type                            | Params | Mode \n",
            "------------------------------------------------------------------------------------------------\n",
            "0  | loss                               | TorchMetricWrapper              | 0      | train\n",
            "1  | logging_metrics                    | ModuleList                      | 0      | train\n",
            "2  | input_embeddings                   | MultiEmbedding                  | 1      | train\n",
            "3  | prescalers                         | ModuleDict                      | 432    | train\n",
            "4  | static_variable_selection          | VariableSelectionNetwork        | 48     | train\n",
            "5  | encoder_variable_selection         | VariableSelectionNetwork        | 19.3 K | train\n",
            "6  | decoder_variable_selection         | VariableSelectionNetwork        | 17.2 K | train\n",
            "7  | static_context_variable_selection  | GatedResidualNetwork            | 1.1 K  | train\n",
            "8  | static_context_initial_hidden_lstm | GatedResidualNetwork            | 1.1 K  | train\n",
            "9  | static_context_initial_cell_lstm   | GatedResidualNetwork            | 1.1 K  | train\n",
            "10 | static_context_enrichment          | GatedResidualNetwork            | 1.1 K  | train\n",
            "11 | lstm_encoder                       | LSTM                            | 2.2 K  | train\n",
            "12 | lstm_decoder                       | LSTM                            | 2.2 K  | train\n",
            "13 | post_lstm_gate_encoder             | GatedLinearUnit                 | 544    | train\n",
            "14 | post_lstm_add_norm_encoder         | AddNorm                         | 32     | train\n",
            "15 | static_enrichment                  | GatedResidualNetwork            | 1.4 K  | train\n",
            "16 | multihead_attn                     | InterpretableMultiHeadAttention | 1.1 K  | train\n",
            "17 | post_attn_gate_norm                | GateAddNorm                     | 576    | train\n",
            "18 | pos_wise_ff                        | GatedResidualNetwork            | 1.1 K  | train\n",
            "19 | pre_output_gate_norm               | GateAddNorm                     | 576    | train\n",
            "20 | output_layer                       | Linear                          | 17     | train\n",
            "------------------------------------------------------------------------------------------------\n",
            "50.3 K    Trainable params\n",
            "0         Non-trainable params\n",
            "50.3 K    Total params\n",
            "0.201     Total estimated model params size (MB)\n",
            "888       Modules in train mode\n",
            "0         Modules in eval mode\n"
          ]
        },
        {
          "data": {
            "application/vnd.jupyter.widget-view+json": {
              "model_id": "c5b490218ca841a4834f4c9ae81c1a64",
              "version_major": 2,
              "version_minor": 0
            },
            "text/plain": [
              "Sanity Checking: |          | 0/? [00:00<?, ?it/s]"
            ]
          },
          "metadata": {},
          "output_type": "display_data"
        },
        {
          "data": {
            "application/vnd.jupyter.widget-view+json": {
              "model_id": "a6f4dd4598714d0b882fdd6255fcebcc",
              "version_major": 2,
              "version_minor": 0
            },
            "text/plain": [
              "Training: |          | 0/? [00:00<?, ?it/s]"
            ]
          },
          "metadata": {},
          "output_type": "display_data"
        },
        {
          "data": {
            "application/vnd.jupyter.widget-view+json": {
              "model_id": "667653065f1a478fa0dffe24ae507b6c",
              "version_major": 2,
              "version_minor": 0
            },
            "text/plain": [
              "Validation: |          | 0/? [00:00<?, ?it/s]"
            ]
          },
          "metadata": {},
          "output_type": "display_data"
        },
        {
          "name": "stderr",
          "output_type": "stream",
          "text": [
            "Metric train_loss improved. New best score: 254.523\n"
          ]
        },
        {
          "data": {
            "application/vnd.jupyter.widget-view+json": {
              "model_id": "69d487fece3f45dcb5dc4254b93ecea5",
              "version_major": 2,
              "version_minor": 0
            },
            "text/plain": [
              "Validation: |          | 0/? [00:00<?, ?it/s]"
            ]
          },
          "metadata": {},
          "output_type": "display_data"
        },
        {
          "data": {
            "application/vnd.jupyter.widget-view+json": {
              "model_id": "ee04968e00b14dd8ac945cd5a0fdc0d5",
              "version_major": 2,
              "version_minor": 0
            },
            "text/plain": [
              "Validation: |          | 0/? [00:00<?, ?it/s]"
            ]
          },
          "metadata": {},
          "output_type": "display_data"
        },
        {
          "data": {
            "application/vnd.jupyter.widget-view+json": {
              "model_id": "104d575473c74ce3b7fecd48f6d081d8",
              "version_major": 2,
              "version_minor": 0
            },
            "text/plain": [
              "Validation: |          | 0/? [00:00<?, ?it/s]"
            ]
          },
          "metadata": {},
          "output_type": "display_data"
        },
        {
          "name": "stderr",
          "output_type": "stream",
          "text": [
            "Metric train_loss improved by 58.860 >= min_delta = 0.0001. New best score: 195.663\n"
          ]
        },
        {
          "data": {
            "application/vnd.jupyter.widget-view+json": {
              "model_id": "fdc54a9c82994205a2deb66e4566e4c1",
              "version_major": 2,
              "version_minor": 0
            },
            "text/plain": [
              "Validation: |          | 0/? [00:00<?, ?it/s]"
            ]
          },
          "metadata": {},
          "output_type": "display_data"
        },
        {
          "name": "stderr",
          "output_type": "stream",
          "text": [
            "Metric train_loss improved by 124.237 >= min_delta = 0.0001. New best score: 71.426\n"
          ]
        },
        {
          "data": {
            "application/vnd.jupyter.widget-view+json": {
              "model_id": "73b88d93e0194c17b4fb64af87d26ea5",
              "version_major": 2,
              "version_minor": 0
            },
            "text/plain": [
              "Validation: |          | 0/? [00:00<?, ?it/s]"
            ]
          },
          "metadata": {},
          "output_type": "display_data"
        },
        {
          "data": {
            "application/vnd.jupyter.widget-view+json": {
              "model_id": "f393d38db7c8438b8fc5e0e171a9be0b",
              "version_major": 2,
              "version_minor": 0
            },
            "text/plain": [
              "Validation: |          | 0/? [00:00<?, ?it/s]"
            ]
          },
          "metadata": {},
          "output_type": "display_data"
        },
        {
          "name": "stderr",
          "output_type": "stream",
          "text": [
            "Metric train_loss improved by 20.703 >= min_delta = 0.0001. New best score: 50.723\n"
          ]
        },
        {
          "data": {
            "application/vnd.jupyter.widget-view+json": {
              "model_id": "ef3a39c2739443c09f8900a1269e7f55",
              "version_major": 2,
              "version_minor": 0
            },
            "text/plain": [
              "Validation: |          | 0/? [00:00<?, ?it/s]"
            ]
          },
          "metadata": {},
          "output_type": "display_data"
        },
        {
          "name": "stderr",
          "output_type": "stream",
          "text": [
            "Metric train_loss improved by 6.994 >= min_delta = 0.0001. New best score: 43.729\n"
          ]
        },
        {
          "data": {
            "application/vnd.jupyter.widget-view+json": {
              "model_id": "acaee6e1bc6345c69dc8c215db8b0042",
              "version_major": 2,
              "version_minor": 0
            },
            "text/plain": [
              "Validation: |          | 0/? [00:00<?, ?it/s]"
            ]
          },
          "metadata": {},
          "output_type": "display_data"
        },
        {
          "data": {
            "application/vnd.jupyter.widget-view+json": {
              "model_id": "83c4616de7ec4526ac7117a8e3a9c561",
              "version_major": 2,
              "version_minor": 0
            },
            "text/plain": [
              "Validation: |          | 0/? [00:00<?, ?it/s]"
            ]
          },
          "metadata": {},
          "output_type": "display_data"
        },
        {
          "name": "stderr",
          "output_type": "stream",
          "text": [
            "Metric train_loss improved by 12.662 >= min_delta = 0.0001. New best score: 31.068\n"
          ]
        },
        {
          "data": {
            "application/vnd.jupyter.widget-view+json": {
              "model_id": "2661e8d3739343c1a464a8d8a340e466",
              "version_major": 2,
              "version_minor": 0
            },
            "text/plain": [
              "Validation: |          | 0/? [00:00<?, ?it/s]"
            ]
          },
          "metadata": {},
          "output_type": "display_data"
        },
        {
          "data": {
            "application/vnd.jupyter.widget-view+json": {
              "model_id": "767cd904334a49c0911eaa695ac75a23",
              "version_major": 2,
              "version_minor": 0
            },
            "text/plain": [
              "Validation: |          | 0/? [00:00<?, ?it/s]"
            ]
          },
          "metadata": {},
          "output_type": "display_data"
        },
        {
          "data": {
            "application/vnd.jupyter.widget-view+json": {
              "model_id": "3e63b2be225b4bdca127208301dc877b",
              "version_major": 2,
              "version_minor": 0
            },
            "text/plain": [
              "Validation: |          | 0/? [00:00<?, ?it/s]"
            ]
          },
          "metadata": {},
          "output_type": "display_data"
        },
        {
          "name": "stderr",
          "output_type": "stream",
          "text": [
            "Metric train_loss improved by 17.611 >= min_delta = 0.0001. New best score: 13.456\n"
          ]
        },
        {
          "data": {
            "application/vnd.jupyter.widget-view+json": {
              "model_id": "3e0d2ac31aca467cac47cf7c1b3d8c3c",
              "version_major": 2,
              "version_minor": 0
            },
            "text/plain": [
              "Validation: |          | 0/? [00:00<?, ?it/s]"
            ]
          },
          "metadata": {},
          "output_type": "display_data"
        },
        {
          "data": {
            "application/vnd.jupyter.widget-view+json": {
              "model_id": "89ff3792e8964831bac102ad58c90dd6",
              "version_major": 2,
              "version_minor": 0
            },
            "text/plain": [
              "Validation: |          | 0/? [00:00<?, ?it/s]"
            ]
          },
          "metadata": {},
          "output_type": "display_data"
        },
        {
          "data": {
            "application/vnd.jupyter.widget-view+json": {
              "model_id": "0c175470029441eebc4611f9f388a0b2",
              "version_major": 2,
              "version_minor": 0
            },
            "text/plain": [
              "Validation: |          | 0/? [00:00<?, ?it/s]"
            ]
          },
          "metadata": {},
          "output_type": "display_data"
        },
        {
          "name": "stderr",
          "output_type": "stream",
          "text": [
            "Metric train_loss improved by 5.246 >= min_delta = 0.0001. New best score: 8.211\n"
          ]
        },
        {
          "data": {
            "application/vnd.jupyter.widget-view+json": {
              "model_id": "49c8543758ab42d692b3016a5b17f593",
              "version_major": 2,
              "version_minor": 0
            },
            "text/plain": [
              "Validation: |          | 0/? [00:00<?, ?it/s]"
            ]
          },
          "metadata": {},
          "output_type": "display_data"
        },
        {
          "data": {
            "application/vnd.jupyter.widget-view+json": {
              "model_id": "16e0078c063b49aaa8675f3837a5a4a6",
              "version_major": 2,
              "version_minor": 0
            },
            "text/plain": [
              "Validation: |          | 0/? [00:00<?, ?it/s]"
            ]
          },
          "metadata": {},
          "output_type": "display_data"
        },
        {
          "data": {
            "application/vnd.jupyter.widget-view+json": {
              "model_id": "92e6e097cd224bb2bd99f37b2ec99db7",
              "version_major": 2,
              "version_minor": 0
            },
            "text/plain": [
              "Validation: |          | 0/? [00:00<?, ?it/s]"
            ]
          },
          "metadata": {},
          "output_type": "display_data"
        },
        {
          "data": {
            "application/vnd.jupyter.widget-view+json": {
              "model_id": "8a414a2d7fa945fb8629cad35ce95fb7",
              "version_major": 2,
              "version_minor": 0
            },
            "text/plain": [
              "Validation: |          | 0/? [00:00<?, ?it/s]"
            ]
          },
          "metadata": {},
          "output_type": "display_data"
        },
        {
          "name": "stderr",
          "output_type": "stream",
          "text": [
            "Metric train_loss improved by 2.875 >= min_delta = 0.0001. New best score: 5.336\n"
          ]
        },
        {
          "data": {
            "application/vnd.jupyter.widget-view+json": {
              "model_id": "8bd3f81b4d134e68a9eb157fd9e4828a",
              "version_major": 2,
              "version_minor": 0
            },
            "text/plain": [
              "Validation: |          | 0/? [00:00<?, ?it/s]"
            ]
          },
          "metadata": {},
          "output_type": "display_data"
        },
        {
          "data": {
            "application/vnd.jupyter.widget-view+json": {
              "model_id": "6bb5a0ebb4ae4a7db7474a194f365cc0",
              "version_major": 2,
              "version_minor": 0
            },
            "text/plain": [
              "Validation: |          | 0/? [00:00<?, ?it/s]"
            ]
          },
          "metadata": {},
          "output_type": "display_data"
        },
        {
          "data": {
            "application/vnd.jupyter.widget-view+json": {
              "model_id": "8ca34d69349e4e65ae84ffb32ae8a39f",
              "version_major": 2,
              "version_minor": 0
            },
            "text/plain": [
              "Validation: |          | 0/? [00:00<?, ?it/s]"
            ]
          },
          "metadata": {},
          "output_type": "display_data"
        },
        {
          "data": {
            "application/vnd.jupyter.widget-view+json": {
              "model_id": "60bd37f153244288a0514511e1556f60",
              "version_major": 2,
              "version_minor": 0
            },
            "text/plain": [
              "Validation: |          | 0/? [00:00<?, ?it/s]"
            ]
          },
          "metadata": {},
          "output_type": "display_data"
        },
        {
          "data": {
            "application/vnd.jupyter.widget-view+json": {
              "model_id": "6e597042f2fc472b8e467e6f0ea37775",
              "version_major": 2,
              "version_minor": 0
            },
            "text/plain": [
              "Validation: |          | 0/? [00:00<?, ?it/s]"
            ]
          },
          "metadata": {},
          "output_type": "display_data"
        },
        {
          "name": "stderr",
          "output_type": "stream",
          "text": [
            "Monitored metric train_loss did not improve in the last 5 records. Best score: 5.336. Signaling Trainer to stop.\n"
          ]
        },
        {
          "name": "stdout",
          "output_type": "stream",
          "text": [
            "✅ Training completed!\n",
            "\n",
            "=== Loading Best Model and Creating Validation Dataset ===\n"
          ]
        },
        {
          "name": "stderr",
          "output_type": "stream",
          "text": [
            "💡 Tip: For seamless cloud uploads and versioning, try installing [litmodels](https://pypi.org/project/litmodels/) to enable LitModelCheckpoint, which syncs automatically with the Lightning model registry.\n",
            "GPU available: True (mps), used: True\n",
            "TPU available: False, using: 0 TPU cores\n",
            "HPU available: False, using: 0 HPUs\n"
          ]
        },
        {
          "name": "stdout",
          "output_type": "stream",
          "text": [
            "✓ Best model loaded from: /Users/hwang-yejin/Desktop/Financial Time Series Forecasting with Deep Learning Models and Social Media Sentiment/notebooks/checkpoints/tft-epoch=19-train_loss=5.3358-v14.ckpt\n",
            "✓ Validation dataset created with 1 samples\n",
            "\n",
            "=== Making Predictions ===\n"
          ]
        },
        {
          "name": "stderr",
          "output_type": "stream",
          "text": [
            "Seed set to 42\n"
          ]
        },
        {
          "name": "stdout",
          "output_type": "stream",
          "text": [
            "✓ Predictions made successfully\n",
            "  - Prediction shape: torch.Size([1, 5])\n",
            "  - Actuals shape: torch.Size([1, 5])\n",
            "\n",
            "=== Performance Evaluation ===\n",
            "\n",
            "📊 Model Performance Metrics:\n",
            "  Metric    Value\n",
            "0    MAE   4.3978\n",
            "1    MSE  20.1926\n",
            "2   RMSE   4.4936\n",
            "3   MAPE   1.3903\n",
            "A: {'MAE': 4.397833347320557, 'MSE': 20.192596435546875, 'RMSE': 4.493617534637451, 'MAPE': 1.39031982421875} (80.50s)\n",
            "\n",
            "Running B (FinBERT neutral) ...\n",
            "\n",
            "=== TFT Configuration (96-day training, 5-day prediction) ===\n",
            "\n",
            "✓ Configuration set:\n",
            "  - Training start: 2025-02-01\n",
            "  - Training days: 96\n",
            "  - Prediction days: 5\n",
            "  - Max epochs: 30\n",
            "  - Batch size: 128\n",
            "  - Learning rate: 0.03\n",
            "\n",
            "=== Loading and Preparing Data ===\n",
            "✓ Data loaded successfully from /Users/hwang-yejin/Desktop/Financial Time Series Forecasting with Deep Learning Models and Social Media Sentiment/data/processed/tsla_price_sentiment_spike_new.csv\n",
            "  - Shape: (232, 20)\n",
            "  - Date range: 2024-06-04 to 2025-07-22\n",
            "\n",
            "Data columns:\n",
            "['time_idx', 'date', 'close', 'volume', 'days_since_earning', 'month', 'day_of_week', 'quarter', 'year', 'is_month_end', 'is_month_start', 'rolling_volatility', 'return_1d', 'cumulative_return', 'unique_id', 'daily_sentiment', 'post_count', 'spike_presence', 'spike_intensity', 'log_close', 'daily_sentiment_lag1', 'daily_sentiment_lag2', 'daily_sentiment_lag3', 'daily_sentiment_lag4', 'daily_sentiment_lag5', 'daily_sentiment_mean_3', 'daily_sentiment_std_3', 'daily_sentiment_mean_7', 'daily_sentiment_std_7', 'daily_sentiment_mean_14', 'daily_sentiment_std_14', 'spike_presence_sum_3', 'spike_presence_sum_7', 'spike_presence_sum_14', 'spike_intensity_max_3', 'spike_intensity_max_7', 'spike_intensity_max_14']\n",
            "✓ Using date_anchor approach with user-specified start date\n",
            "  - Training start: 2025-02-01\n",
            "  - Training days: 96\n",
            "  - Prediction days: 5\n",
            "✓ Using 96 training days + 5 prediction days from 2025-02-01\n",
            "  - Total data range: 2025-02-03 00:00:00 to 2025-07-17 00:00:00\n",
            "  - Total data points: 101\n",
            "\n",
            "First few rows:\n",
            "     time_idx       date       close    volume  days_since_earning  month  \\\n",
            "128         0 2025-02-03  383.679993  93732100                   4      2   \n",
            "129         1 2025-02-04  392.209992  57072200                   5      2   \n",
            "130         2 2025-02-05  378.170013  57223300                   6      2   \n",
            "131         3 2025-02-06  374.320007  77918200                   7      2   \n",
            "132         4 2025-02-07  361.619995  70298300                   8      2   \n",
            "\n",
            "     day_of_week  quarter  year  is_month_end  ...  daily_sentiment_mean_7  \\\n",
            "128            0        1  2025             0  ...                0.362728   \n",
            "129            1        1  2025             0  ...                0.413299   \n",
            "130            2        1  2025             0  ...                0.222823   \n",
            "131            3        1  2025             0  ...                0.206395   \n",
            "132            4        1  2025             0  ...                0.202109   \n",
            "\n",
            "     daily_sentiment_std_7  daily_sentiment_mean_14  daily_sentiment_std_14  \\\n",
            "128               0.696502                 0.574935                0.556323   \n",
            "129               0.721875                 0.575293                0.556525   \n",
            "130               0.747503                 0.479340                0.607818   \n",
            "131               0.730046                 0.520769                0.610743   \n",
            "132               0.725506                 0.542554                0.617081   \n",
            "\n",
            "    spike_presence_sum_3  spike_presence_sum_7  spike_presence_sum_14  \\\n",
            "128                  0.0                   0.0                    0.0   \n",
            "129                  0.0                   0.0                    0.0   \n",
            "130                  0.0                   0.0                    0.0   \n",
            "131                  0.0                   0.0                    0.0   \n",
            "132                  0.0                   0.0                    0.0   \n",
            "\n",
            "     spike_intensity_max_3  spike_intensity_max_7  spike_intensity_max_14  \n",
            "128                    0.0                    0.0                     0.0  \n",
            "129                    0.0                    0.0                     0.0  \n",
            "130                    0.0                    0.0                     0.0  \n",
            "131                    0.0                    0.0                     0.0  \n",
            "132                    0.0                    0.0                     0.0  \n",
            "\n",
            "[5 rows x 37 columns]\n",
            "\n",
            "=== Creating TFT Dataset ===\n",
            "  - Total data points: 101\n",
            "  - Encoder length: 96 days\n",
            "  - Prediction length: 5 days\n",
            "  - Minimum required length: 101 days\n",
            "  - Adjusted encoder length to 95 to use all available data\n",
            "  - Using all 101 data points for training\n",
            "  - Known features: ['time_idx', 'month', 'day_of_week', 'quarter', 'year', 'is_month_end', 'is_month_start', 'days_since_earning', 'daily_sentiment_lag1', 'daily_sentiment_lag2', 'daily_sentiment_lag3', 'daily_sentiment_lag4', 'daily_sentiment_lag5', 'daily_sentiment_mean_3', 'daily_sentiment_mean_7', 'daily_sentiment_mean_14', 'daily_sentiment_std_7', 'daily_sentiment_std_14', 'spike_presence_sum_3', 'spike_presence_sum_7', 'spike_presence_sum_14', 'spike_intensity_max_3', 'spike_intensity_max_7', 'spike_intensity_max_14']\n",
            "  - Unknown features: ['close', 'volume', 'rolling_volatility']\n"
          ]
        },
        {
          "name": "stderr",
          "output_type": "stream",
          "text": [
            "GPU available: True (mps), used: True\n",
            "TPU available: False, using: 0 TPU cores\n",
            "HPU available: False, using: 0 HPUs\n"
          ]
        },
        {
          "name": "stdout",
          "output_type": "stream",
          "text": [
            "✓ Training dataset created with 2 samples\n",
            "\n",
            "=== Creating Model and DataLoader ===\n",
            "✓ DataLoader created with batch size 128\n",
            "✓ TFT model created with 50343 parameters\n",
            "  - Learning rate: 0.03\n",
            "  - Hidden size: 16\n",
            "  - Attention heads: 1\n",
            "\n",
            "=== Training TFT Model ===\n",
            "✓ Trainer configured with 30 max epochs (monitoring train_loss)\n",
            "  - Early stopping enabled\n",
            "  - Learning rate monitoring enabled\n",
            "  - Model checkpointing enabled\n",
            "\n",
            "Starting model training...\n"
          ]
        },
        {
          "name": "stderr",
          "output_type": "stream",
          "text": [
            "\n",
            "   | Name                               | Type                            | Params | Mode \n",
            "------------------------------------------------------------------------------------------------\n",
            "0  | loss                               | TorchMetricWrapper              | 0      | train\n",
            "1  | logging_metrics                    | ModuleList                      | 0      | train\n",
            "2  | input_embeddings                   | MultiEmbedding                  | 1      | train\n",
            "3  | prescalers                         | ModuleDict                      | 432    | train\n",
            "4  | static_variable_selection          | VariableSelectionNetwork        | 48     | train\n",
            "5  | encoder_variable_selection         | VariableSelectionNetwork        | 19.3 K | train\n",
            "6  | decoder_variable_selection         | VariableSelectionNetwork        | 17.2 K | train\n",
            "7  | static_context_variable_selection  | GatedResidualNetwork            | 1.1 K  | train\n",
            "8  | static_context_initial_hidden_lstm | GatedResidualNetwork            | 1.1 K  | train\n",
            "9  | static_context_initial_cell_lstm   | GatedResidualNetwork            | 1.1 K  | train\n",
            "10 | static_context_enrichment          | GatedResidualNetwork            | 1.1 K  | train\n",
            "11 | lstm_encoder                       | LSTM                            | 2.2 K  | train\n",
            "12 | lstm_decoder                       | LSTM                            | 2.2 K  | train\n",
            "13 | post_lstm_gate_encoder             | GatedLinearUnit                 | 544    | train\n",
            "14 | post_lstm_add_norm_encoder         | AddNorm                         | 32     | train\n",
            "15 | static_enrichment                  | GatedResidualNetwork            | 1.4 K  | train\n",
            "16 | multihead_attn                     | InterpretableMultiHeadAttention | 1.1 K  | train\n",
            "17 | post_attn_gate_norm                | GateAddNorm                     | 576    | train\n",
            "18 | pos_wise_ff                        | GatedResidualNetwork            | 1.1 K  | train\n",
            "19 | pre_output_gate_norm               | GateAddNorm                     | 576    | train\n",
            "20 | output_layer                       | Linear                          | 17     | train\n",
            "------------------------------------------------------------------------------------------------\n",
            "50.3 K    Trainable params\n",
            "0         Non-trainable params\n",
            "50.3 K    Total params\n",
            "0.201     Total estimated model params size (MB)\n",
            "888       Modules in train mode\n",
            "0         Modules in eval mode\n"
          ]
        },
        {
          "data": {
            "application/vnd.jupyter.widget-view+json": {
              "model_id": "3de3c10303004746946872a583530563",
              "version_major": 2,
              "version_minor": 0
            },
            "text/plain": [
              "Sanity Checking: |          | 0/? [00:00<?, ?it/s]"
            ]
          },
          "metadata": {},
          "output_type": "display_data"
        },
        {
          "data": {
            "application/vnd.jupyter.widget-view+json": {
              "model_id": "1b27e8b5e71d48f4ad092f40aad184a4",
              "version_major": 2,
              "version_minor": 0
            },
            "text/plain": [
              "Training: |          | 0/? [00:00<?, ?it/s]"
            ]
          },
          "metadata": {},
          "output_type": "display_data"
        },
        {
          "data": {
            "application/vnd.jupyter.widget-view+json": {
              "model_id": "099587facefe4ba8bba604450b6a8d05",
              "version_major": 2,
              "version_minor": 0
            },
            "text/plain": [
              "Validation: |          | 0/? [00:00<?, ?it/s]"
            ]
          },
          "metadata": {},
          "output_type": "display_data"
        },
        {
          "name": "stderr",
          "output_type": "stream",
          "text": [
            "Metric train_loss improved. New best score: 263.357\n"
          ]
        },
        {
          "data": {
            "application/vnd.jupyter.widget-view+json": {
              "model_id": "db16fc9a94bd4ee2bfd4ee36ec4e9134",
              "version_major": 2,
              "version_minor": 0
            },
            "text/plain": [
              "Validation: |          | 0/? [00:00<?, ?it/s]"
            ]
          },
          "metadata": {},
          "output_type": "display_data"
        },
        {
          "data": {
            "application/vnd.jupyter.widget-view+json": {
              "model_id": "91eda0883b7642469a5f9d2d9dbbe67b",
              "version_major": 2,
              "version_minor": 0
            },
            "text/plain": [
              "Validation: |          | 0/? [00:00<?, ?it/s]"
            ]
          },
          "metadata": {},
          "output_type": "display_data"
        },
        {
          "data": {
            "application/vnd.jupyter.widget-view+json": {
              "model_id": "84ce378dca954fd9bb13d8d9b0ed034e",
              "version_major": 2,
              "version_minor": 0
            },
            "text/plain": [
              "Validation: |          | 0/? [00:00<?, ?it/s]"
            ]
          },
          "metadata": {},
          "output_type": "display_data"
        },
        {
          "data": {
            "application/vnd.jupyter.widget-view+json": {
              "model_id": "1accce94af224cb8af894f1ef33a34e8",
              "version_major": 2,
              "version_minor": 0
            },
            "text/plain": [
              "Validation: |          | 0/? [00:00<?, ?it/s]"
            ]
          },
          "metadata": {},
          "output_type": "display_data"
        },
        {
          "name": "stderr",
          "output_type": "stream",
          "text": [
            "Metric train_loss improved by 208.562 >= min_delta = 0.0001. New best score: 54.796\n"
          ]
        },
        {
          "data": {
            "application/vnd.jupyter.widget-view+json": {
              "model_id": "299ecc7b0f344733823ce76057480002",
              "version_major": 2,
              "version_minor": 0
            },
            "text/plain": [
              "Validation: |          | 0/? [00:00<?, ?it/s]"
            ]
          },
          "metadata": {},
          "output_type": "display_data"
        },
        {
          "data": {
            "application/vnd.jupyter.widget-view+json": {
              "model_id": "7e43e45f3352416bade849e9fcdeab31",
              "version_major": 2,
              "version_minor": 0
            },
            "text/plain": [
              "Validation: |          | 0/? [00:00<?, ?it/s]"
            ]
          },
          "metadata": {},
          "output_type": "display_data"
        },
        {
          "name": "stderr",
          "output_type": "stream",
          "text": [
            "Metric train_loss improved by 0.161 >= min_delta = 0.0001. New best score: 54.635\n"
          ]
        },
        {
          "data": {
            "application/vnd.jupyter.widget-view+json": {
              "model_id": "c883a7baa8ae4a50bb332b71df0fe005",
              "version_major": 2,
              "version_minor": 0
            },
            "text/plain": [
              "Validation: |          | 0/? [00:00<?, ?it/s]"
            ]
          },
          "metadata": {},
          "output_type": "display_data"
        },
        {
          "name": "stderr",
          "output_type": "stream",
          "text": [
            "Metric train_loss improved by 4.076 >= min_delta = 0.0001. New best score: 50.559\n"
          ]
        },
        {
          "data": {
            "application/vnd.jupyter.widget-view+json": {
              "model_id": "e347d27451064f4d8d86381ba2d2a705",
              "version_major": 2,
              "version_minor": 0
            },
            "text/plain": [
              "Validation: |          | 0/? [00:00<?, ?it/s]"
            ]
          },
          "metadata": {},
          "output_type": "display_data"
        },
        {
          "name": "stderr",
          "output_type": "stream",
          "text": [
            "Metric train_loss improved by 13.255 >= min_delta = 0.0001. New best score: 37.304\n"
          ]
        },
        {
          "data": {
            "application/vnd.jupyter.widget-view+json": {
              "model_id": "1d10734300d9420b956eb1bdc514aaba",
              "version_major": 2,
              "version_minor": 0
            },
            "text/plain": [
              "Validation: |          | 0/? [00:00<?, ?it/s]"
            ]
          },
          "metadata": {},
          "output_type": "display_data"
        },
        {
          "data": {
            "application/vnd.jupyter.widget-view+json": {
              "model_id": "9282a50f6dd043a1a1d6e9dd63c52b3c",
              "version_major": 2,
              "version_minor": 0
            },
            "text/plain": [
              "Validation: |          | 0/? [00:00<?, ?it/s]"
            ]
          },
          "metadata": {},
          "output_type": "display_data"
        },
        {
          "name": "stderr",
          "output_type": "stream",
          "text": [
            "Metric train_loss improved by 23.498 >= min_delta = 0.0001. New best score: 13.806\n"
          ]
        },
        {
          "data": {
            "application/vnd.jupyter.widget-view+json": {
              "model_id": "f0f242ebdf034020af2d9daed333f4d9",
              "version_major": 2,
              "version_minor": 0
            },
            "text/plain": [
              "Validation: |          | 0/? [00:00<?, ?it/s]"
            ]
          },
          "metadata": {},
          "output_type": "display_data"
        },
        {
          "data": {
            "application/vnd.jupyter.widget-view+json": {
              "model_id": "bfa3269ce36a412d912bcb0224df7f25",
              "version_major": 2,
              "version_minor": 0
            },
            "text/plain": [
              "Validation: |          | 0/? [00:00<?, ?it/s]"
            ]
          },
          "metadata": {},
          "output_type": "display_data"
        },
        {
          "data": {
            "application/vnd.jupyter.widget-view+json": {
              "model_id": "3666e1057c7848cfa87f466fc16188eb",
              "version_major": 2,
              "version_minor": 0
            },
            "text/plain": [
              "Validation: |          | 0/? [00:00<?, ?it/s]"
            ]
          },
          "metadata": {},
          "output_type": "display_data"
        },
        {
          "data": {
            "application/vnd.jupyter.widget-view+json": {
              "model_id": "c676dfe6e5bc4627a4122ec8c323b670",
              "version_major": 2,
              "version_minor": 0
            },
            "text/plain": [
              "Validation: |          | 0/? [00:00<?, ?it/s]"
            ]
          },
          "metadata": {},
          "output_type": "display_data"
        },
        {
          "data": {
            "application/vnd.jupyter.widget-view+json": {
              "model_id": "14b0e1c16d8b4a6b9d92a0d2a5ec9c59",
              "version_major": 2,
              "version_minor": 0
            },
            "text/plain": [
              "Validation: |          | 0/? [00:00<?, ?it/s]"
            ]
          },
          "metadata": {},
          "output_type": "display_data"
        },
        {
          "name": "stderr",
          "output_type": "stream",
          "text": [
            "Monitored metric train_loss did not improve in the last 5 records. Best score: 13.806. Signaling Trainer to stop.\n"
          ]
        },
        {
          "name": "stdout",
          "output_type": "stream",
          "text": [
            "✅ Training completed!\n",
            "\n",
            "=== Loading Best Model and Creating Validation Dataset ===\n"
          ]
        },
        {
          "name": "stderr",
          "output_type": "stream",
          "text": [
            "💡 Tip: For seamless cloud uploads and versioning, try installing [litmodels](https://pypi.org/project/litmodels/) to enable LitModelCheckpoint, which syncs automatically with the Lightning model registry.\n",
            "GPU available: True (mps), used: True\n",
            "TPU available: False, using: 0 TPU cores\n",
            "HPU available: False, using: 0 HPUs\n"
          ]
        },
        {
          "name": "stdout",
          "output_type": "stream",
          "text": [
            "✓ Best model loaded from: /Users/hwang-yejin/Desktop/Financial Time Series Forecasting with Deep Learning Models and Social Media Sentiment/notebooks/checkpoints/tft-epoch=10-train_loss=13.8061.ckpt\n",
            "✓ Validation dataset created with 1 samples\n",
            "\n",
            "=== Making Predictions ===\n",
            "✓ Predictions made successfully\n",
            "  - Prediction shape: torch.Size([1, 5])\n",
            "  - Actuals shape: torch.Size([1, 5])\n",
            "\n",
            "=== Performance Evaluation ===\n",
            "\n",
            "📊 Model Performance Metrics:\n",
            "  Metric    Value\n",
            "0    MAE   5.5511\n",
            "1    MSE  34.0470\n",
            "2   RMSE   5.8350\n",
            "3   MAPE   1.7598\n",
            "B: {'MAE': 5.551110744476318, 'MSE': 34.046958923339844, 'RMSE': 5.834977149963379, 'MAPE': 1.7598493099212646} (61.47s)\n",
            "\n",
            "Single-seed comparison:\n",
            "       A Upvote  B FinBERT\n",
            "MAE    4.397833   5.551111\n",
            "MSE   20.192596  34.046959\n",
            "RMSE   4.493618   5.834977\n",
            "MAPE   1.390320   1.759849\n"
          ]
        }
      ],
      "source": [
        "# A/B single run (optional)\n",
        "import time, pandas as pd\n",
        "print('Running A (Upvote neutral) ...')\n",
        "start = time.time(); A = run_with_data_seeded(A_PATH, 42); A_t = time.time()-start\n",
        "print('A:', A, f'({A_t:.2f}s)')\n",
        "print('\\nRunning B (FinBERT neutral) ...')\n",
        "start = time.time(); B = run_with_data_seeded(B_PATH, 42); B_t = time.time()-start\n",
        "print('B:', B, f'({B_t:.2f}s)')\n",
        "\n",
        "cmp = pd.DataFrame({'A Upvote': A, 'B FinBERT': B})\n",
        "print('\\nSingle-seed comparison:')\n",
        "print(cmp)\n",
        "\n"
      ]
    },
    {
      "cell_type": "code",
      "execution_count": 6,
      "metadata": {},
      "outputs": [
        {
          "name": "stderr",
          "output_type": "stream",
          "text": [
            "Seed set to 42\n"
          ]
        },
        {
          "name": "stdout",
          "output_type": "stream",
          "text": [
            "\n",
            "=== TFT Configuration (96-day training, 5-day prediction) ===\n",
            "\n",
            "✓ Configuration set:\n",
            "  - Training start: 2025-02-01\n",
            "  - Training days: 96\n",
            "  - Prediction days: 5\n",
            "  - Max epochs: 30\n",
            "  - Batch size: 128\n",
            "  - Learning rate: 0.03\n",
            "\n",
            "=== Loading and Preparing Data ===\n",
            "✓ Data loaded successfully from /Users/hwang-yejin/Desktop/Financial Time Series Forecasting with Deep Learning Models and Social Media Sentiment/data/processed/tsla_price_sentiment_spike.csv\n",
            "  - Shape: (232, 19)\n",
            "  - Date range: 2024-06-04 to 2025-07-22\n",
            "\n",
            "Data columns:\n",
            "['time_idx', 'date', 'close', 'volume', 'days_since_earning', 'month', 'day_of_week', 'quarter', 'year', 'is_month_end', 'is_month_start', 'rolling_volatility', 'return_1d', 'cumulative_return', 'unique_id', 'daily_sentiment', 'post_count', 'spike_presence', 'spike_intensity', 'daily_sentiment_lag1', 'daily_sentiment_lag2', 'daily_sentiment_lag3', 'daily_sentiment_lag4', 'daily_sentiment_lag5', 'daily_sentiment_mean_3', 'daily_sentiment_std_3', 'daily_sentiment_mean_7', 'daily_sentiment_std_7', 'daily_sentiment_mean_14', 'daily_sentiment_std_14', 'spike_presence_sum_3', 'spike_presence_sum_7', 'spike_presence_sum_14', 'spike_intensity_max_3', 'spike_intensity_max_7', 'spike_intensity_max_14']\n",
            "✓ Using date_anchor approach with user-specified start date\n",
            "  - Training start: 2025-02-01\n",
            "  - Training days: 96\n",
            "  - Prediction days: 5\n",
            "✓ Using 96 training days + 5 prediction days from 2025-02-01\n",
            "  - Total data range: 2025-02-03 00:00:00 to 2025-07-17 00:00:00\n",
            "  - Total data points: 101\n",
            "\n",
            "First few rows:\n",
            "     time_idx       date       close    volume  days_since_earning  month  \\\n",
            "128         0 2025-02-03  383.679993  93732100                   4      2   \n",
            "129         1 2025-02-04  392.209992  57072200                   5      2   \n",
            "130         2 2025-02-05  378.170013  57223300                   6      2   \n",
            "131         3 2025-02-06  374.320007  77918200                   7      2   \n",
            "132         4 2025-02-07  361.619995  70298300                   8      2   \n",
            "\n",
            "     day_of_week  quarter  year  is_month_end  ...  daily_sentiment_mean_7  \\\n",
            "128            0        1  2025             0  ...                0.096856   \n",
            "129            1        1  2025             0  ...                0.194673   \n",
            "130            2        1  2025             0  ...                0.099435   \n",
            "131            3        1  2025             0  ...                0.156311   \n",
            "132            4        1  2025             0  ...                0.030148   \n",
            "\n",
            "     daily_sentiment_std_7  daily_sentiment_mean_14  daily_sentiment_std_14  \\\n",
            "128               0.579758                 0.346741                0.566595   \n",
            "129               0.646536                 0.343357                0.563205   \n",
            "130               0.724404                 0.233630                0.601175   \n",
            "131               0.772430                 0.299381                0.617658   \n",
            "132               0.702926                 0.266204                0.620576   \n",
            "\n",
            "    spike_presence_sum_3  spike_presence_sum_7  spike_presence_sum_14  \\\n",
            "128                  0.0                   0.0                    0.0   \n",
            "129                  0.0                   0.0                    0.0   \n",
            "130                  0.0                   0.0                    0.0   \n",
            "131                  0.0                   0.0                    0.0   \n",
            "132                  0.0                   0.0                    0.0   \n",
            "\n",
            "     spike_intensity_max_3  spike_intensity_max_7  spike_intensity_max_14  \n",
            "128                    0.0                    0.0                     0.0  \n",
            "129                    0.0                    0.0                     0.0  \n",
            "130                    0.0                    0.0                     0.0  \n",
            "131                    0.0                    0.0                     0.0  \n",
            "132                    0.0                    0.0                     0.0  \n",
            "\n",
            "[5 rows x 36 columns]\n",
            "\n",
            "=== Creating TFT Dataset ===\n",
            "  - Total data points: 101\n",
            "  - Encoder length: 96 days\n",
            "  - Prediction length: 5 days\n",
            "  - Minimum required length: 101 days\n",
            "  - Adjusted encoder length to 95 to use all available data\n",
            "  - Using all 101 data points for training\n",
            "  - Known features: ['time_idx', 'month', 'day_of_week', 'quarter', 'year', 'is_month_end', 'is_month_start', 'days_since_earning', 'daily_sentiment_lag1', 'daily_sentiment_lag2', 'daily_sentiment_lag3', 'daily_sentiment_lag4', 'daily_sentiment_lag5', 'daily_sentiment_mean_3', 'daily_sentiment_mean_7', 'daily_sentiment_mean_14', 'daily_sentiment_std_7', 'daily_sentiment_std_14', 'spike_presence_sum_3', 'spike_presence_sum_7', 'spike_presence_sum_14', 'spike_intensity_max_3', 'spike_intensity_max_7', 'spike_intensity_max_14']\n",
            "  - Unknown features: ['close', 'volume', 'rolling_volatility']\n",
            "✓ Training dataset created with 2 samples\n",
            "\n",
            "=== Creating Model and DataLoader ===\n",
            "✓ DataLoader created with batch size 128\n",
            "✓ TFT model created with 50343 parameters\n",
            "  - Learning rate: 0.03\n",
            "  - Hidden size: 16\n",
            "  - Attention heads: 1\n",
            "\n",
            "=== Training TFT Model ===\n"
          ]
        },
        {
          "name": "stderr",
          "output_type": "stream",
          "text": [
            "GPU available: True (mps), used: True\n",
            "TPU available: False, using: 0 TPU cores\n",
            "HPU available: False, using: 0 HPUs\n"
          ]
        },
        {
          "name": "stdout",
          "output_type": "stream",
          "text": [
            "✓ Trainer configured with 30 max epochs (monitoring train_loss)\n",
            "  - Early stopping enabled\n",
            "  - Learning rate monitoring enabled\n",
            "  - Model checkpointing enabled\n",
            "\n",
            "Starting model training...\n"
          ]
        },
        {
          "name": "stderr",
          "output_type": "stream",
          "text": [
            "\n",
            "   | Name                               | Type                            | Params | Mode \n",
            "------------------------------------------------------------------------------------------------\n",
            "0  | loss                               | TorchMetricWrapper              | 0      | train\n",
            "1  | logging_metrics                    | ModuleList                      | 0      | train\n",
            "2  | input_embeddings                   | MultiEmbedding                  | 1      | train\n",
            "3  | prescalers                         | ModuleDict                      | 432    | train\n",
            "4  | static_variable_selection          | VariableSelectionNetwork        | 48     | train\n",
            "5  | encoder_variable_selection         | VariableSelectionNetwork        | 19.3 K | train\n",
            "6  | decoder_variable_selection         | VariableSelectionNetwork        | 17.2 K | train\n",
            "7  | static_context_variable_selection  | GatedResidualNetwork            | 1.1 K  | train\n",
            "8  | static_context_initial_hidden_lstm | GatedResidualNetwork            | 1.1 K  | train\n",
            "9  | static_context_initial_cell_lstm   | GatedResidualNetwork            | 1.1 K  | train\n",
            "10 | static_context_enrichment          | GatedResidualNetwork            | 1.1 K  | train\n",
            "11 | lstm_encoder                       | LSTM                            | 2.2 K  | train\n",
            "12 | lstm_decoder                       | LSTM                            | 2.2 K  | train\n",
            "13 | post_lstm_gate_encoder             | GatedLinearUnit                 | 544    | train\n",
            "14 | post_lstm_add_norm_encoder         | AddNorm                         | 32     | train\n",
            "15 | static_enrichment                  | GatedResidualNetwork            | 1.4 K  | train\n",
            "16 | multihead_attn                     | InterpretableMultiHeadAttention | 1.1 K  | train\n",
            "17 | post_attn_gate_norm                | GateAddNorm                     | 576    | train\n",
            "18 | pos_wise_ff                        | GatedResidualNetwork            | 1.1 K  | train\n",
            "19 | pre_output_gate_norm               | GateAddNorm                     | 576    | train\n",
            "20 | output_layer                       | Linear                          | 17     | train\n",
            "------------------------------------------------------------------------------------------------\n",
            "50.3 K    Trainable params\n",
            "0         Non-trainable params\n",
            "50.3 K    Total params\n",
            "0.201     Total estimated model params size (MB)\n",
            "888       Modules in train mode\n",
            "0         Modules in eval mode\n"
          ]
        },
        {
          "data": {
            "application/vnd.jupyter.widget-view+json": {
              "model_id": "5c5564403cbe41cea11ef97fc8599482",
              "version_major": 2,
              "version_minor": 0
            },
            "text/plain": [
              "Sanity Checking: |          | 0/? [00:00<?, ?it/s]"
            ]
          },
          "metadata": {},
          "output_type": "display_data"
        },
        {
          "data": {
            "application/vnd.jupyter.widget-view+json": {
              "model_id": "b59b9c2f571e4e0b80cab26dfb853dfe",
              "version_major": 2,
              "version_minor": 0
            },
            "text/plain": [
              "Training: |          | 0/? [00:00<?, ?it/s]"
            ]
          },
          "metadata": {},
          "output_type": "display_data"
        },
        {
          "data": {
            "application/vnd.jupyter.widget-view+json": {
              "model_id": "d068a8214a9541aca2e9c2a7f819335b",
              "version_major": 2,
              "version_minor": 0
            },
            "text/plain": [
              "Validation: |          | 0/? [00:00<?, ?it/s]"
            ]
          },
          "metadata": {},
          "output_type": "display_data"
        },
        {
          "name": "stderr",
          "output_type": "stream",
          "text": [
            "Metric train_loss improved. New best score: 254.523\n"
          ]
        },
        {
          "data": {
            "application/vnd.jupyter.widget-view+json": {
              "model_id": "783877f1032c4e0ca0396eef2bc9be56",
              "version_major": 2,
              "version_minor": 0
            },
            "text/plain": [
              "Validation: |          | 0/? [00:00<?, ?it/s]"
            ]
          },
          "metadata": {},
          "output_type": "display_data"
        },
        {
          "data": {
            "application/vnd.jupyter.widget-view+json": {
              "model_id": "bcdca837e8ee44008b7ad36baf573c01",
              "version_major": 2,
              "version_minor": 0
            },
            "text/plain": [
              "Validation: |          | 0/? [00:00<?, ?it/s]"
            ]
          },
          "metadata": {},
          "output_type": "display_data"
        },
        {
          "data": {
            "application/vnd.jupyter.widget-view+json": {
              "model_id": "69314d449ed34745b736212330b4e957",
              "version_major": 2,
              "version_minor": 0
            },
            "text/plain": [
              "Validation: |          | 0/? [00:00<?, ?it/s]"
            ]
          },
          "metadata": {},
          "output_type": "display_data"
        },
        {
          "name": "stderr",
          "output_type": "stream",
          "text": [
            "Metric train_loss improved by 58.860 >= min_delta = 0.0001. New best score: 195.663\n"
          ]
        },
        {
          "data": {
            "application/vnd.jupyter.widget-view+json": {
              "model_id": "c858c04ef12743e8b103e13bb561d4a2",
              "version_major": 2,
              "version_minor": 0
            },
            "text/plain": [
              "Validation: |          | 0/? [00:00<?, ?it/s]"
            ]
          },
          "metadata": {},
          "output_type": "display_data"
        },
        {
          "name": "stderr",
          "output_type": "stream",
          "text": [
            "Metric train_loss improved by 124.237 >= min_delta = 0.0001. New best score: 71.426\n"
          ]
        },
        {
          "data": {
            "application/vnd.jupyter.widget-view+json": {
              "model_id": "cabbccc6778a47b6a7d0794a389f7786",
              "version_major": 2,
              "version_minor": 0
            },
            "text/plain": [
              "Validation: |          | 0/? [00:00<?, ?it/s]"
            ]
          },
          "metadata": {},
          "output_type": "display_data"
        },
        {
          "data": {
            "application/vnd.jupyter.widget-view+json": {
              "model_id": "c6164c8cf4b64505a350cb34e4e2b433",
              "version_major": 2,
              "version_minor": 0
            },
            "text/plain": [
              "Validation: |          | 0/? [00:00<?, ?it/s]"
            ]
          },
          "metadata": {},
          "output_type": "display_data"
        },
        {
          "name": "stderr",
          "output_type": "stream",
          "text": [
            "Metric train_loss improved by 20.703 >= min_delta = 0.0001. New best score: 50.723\n"
          ]
        },
        {
          "data": {
            "application/vnd.jupyter.widget-view+json": {
              "model_id": "b6d5fb7d9d164ae381d54977ac33515c",
              "version_major": 2,
              "version_minor": 0
            },
            "text/plain": [
              "Validation: |          | 0/? [00:00<?, ?it/s]"
            ]
          },
          "metadata": {},
          "output_type": "display_data"
        },
        {
          "name": "stderr",
          "output_type": "stream",
          "text": [
            "Metric train_loss improved by 6.994 >= min_delta = 0.0001. New best score: 43.729\n"
          ]
        },
        {
          "data": {
            "application/vnd.jupyter.widget-view+json": {
              "model_id": "0f8fa68de48e4273a8ffc1161f386ef5",
              "version_major": 2,
              "version_minor": 0
            },
            "text/plain": [
              "Validation: |          | 0/? [00:00<?, ?it/s]"
            ]
          },
          "metadata": {},
          "output_type": "display_data"
        },
        {
          "data": {
            "application/vnd.jupyter.widget-view+json": {
              "model_id": "da3c553404cf40e1ac93f84c6140dff1",
              "version_major": 2,
              "version_minor": 0
            },
            "text/plain": [
              "Validation: |          | 0/? [00:00<?, ?it/s]"
            ]
          },
          "metadata": {},
          "output_type": "display_data"
        },
        {
          "name": "stderr",
          "output_type": "stream",
          "text": [
            "Metric train_loss improved by 12.662 >= min_delta = 0.0001. New best score: 31.068\n"
          ]
        },
        {
          "data": {
            "application/vnd.jupyter.widget-view+json": {
              "model_id": "e5f5d458473549b7a5e4313562c59056",
              "version_major": 2,
              "version_minor": 0
            },
            "text/plain": [
              "Validation: |          | 0/? [00:00<?, ?it/s]"
            ]
          },
          "metadata": {},
          "output_type": "display_data"
        },
        {
          "data": {
            "application/vnd.jupyter.widget-view+json": {
              "model_id": "aa9ef3cb44224083855567415a978fae",
              "version_major": 2,
              "version_minor": 0
            },
            "text/plain": [
              "Validation: |          | 0/? [00:00<?, ?it/s]"
            ]
          },
          "metadata": {},
          "output_type": "display_data"
        },
        {
          "data": {
            "application/vnd.jupyter.widget-view+json": {
              "model_id": "540ae8f08a1d413baedb35cecfb536b8",
              "version_major": 2,
              "version_minor": 0
            },
            "text/plain": [
              "Validation: |          | 0/? [00:00<?, ?it/s]"
            ]
          },
          "metadata": {},
          "output_type": "display_data"
        },
        {
          "name": "stderr",
          "output_type": "stream",
          "text": [
            "Metric train_loss improved by 17.611 >= min_delta = 0.0001. New best score: 13.456\n"
          ]
        },
        {
          "data": {
            "application/vnd.jupyter.widget-view+json": {
              "model_id": "fbe3bbd5256c4c47a8d8f24ecdb4888c",
              "version_major": 2,
              "version_minor": 0
            },
            "text/plain": [
              "Validation: |          | 0/? [00:00<?, ?it/s]"
            ]
          },
          "metadata": {},
          "output_type": "display_data"
        },
        {
          "data": {
            "application/vnd.jupyter.widget-view+json": {
              "model_id": "25afd1524ca7414b95f3589a9c0aeebf",
              "version_major": 2,
              "version_minor": 0
            },
            "text/plain": [
              "Validation: |          | 0/? [00:00<?, ?it/s]"
            ]
          },
          "metadata": {},
          "output_type": "display_data"
        },
        {
          "data": {
            "application/vnd.jupyter.widget-view+json": {
              "model_id": "a65e0ffec14148fca87b86a2504ebfee",
              "version_major": 2,
              "version_minor": 0
            },
            "text/plain": [
              "Validation: |          | 0/? [00:00<?, ?it/s]"
            ]
          },
          "metadata": {},
          "output_type": "display_data"
        },
        {
          "name": "stderr",
          "output_type": "stream",
          "text": [
            "Metric train_loss improved by 5.246 >= min_delta = 0.0001. New best score: 8.211\n"
          ]
        },
        {
          "data": {
            "application/vnd.jupyter.widget-view+json": {
              "model_id": "14dd8967097c4fcaa35ed217954048f0",
              "version_major": 2,
              "version_minor": 0
            },
            "text/plain": [
              "Validation: |          | 0/? [00:00<?, ?it/s]"
            ]
          },
          "metadata": {},
          "output_type": "display_data"
        },
        {
          "data": {
            "application/vnd.jupyter.widget-view+json": {
              "model_id": "e77952b555b14ab8a953f76e3ec8b3c3",
              "version_major": 2,
              "version_minor": 0
            },
            "text/plain": [
              "Validation: |          | 0/? [00:00<?, ?it/s]"
            ]
          },
          "metadata": {},
          "output_type": "display_data"
        },
        {
          "data": {
            "application/vnd.jupyter.widget-view+json": {
              "model_id": "fe2bd34349b646e5bb0c303de3f0954c",
              "version_major": 2,
              "version_minor": 0
            },
            "text/plain": [
              "Validation: |          | 0/? [00:00<?, ?it/s]"
            ]
          },
          "metadata": {},
          "output_type": "display_data"
        },
        {
          "data": {
            "application/vnd.jupyter.widget-view+json": {
              "model_id": "79b4ae0f41fa4fcfb09f024b9bfeef3a",
              "version_major": 2,
              "version_minor": 0
            },
            "text/plain": [
              "Validation: |          | 0/? [00:00<?, ?it/s]"
            ]
          },
          "metadata": {},
          "output_type": "display_data"
        },
        {
          "name": "stderr",
          "output_type": "stream",
          "text": [
            "Metric train_loss improved by 2.875 >= min_delta = 0.0001. New best score: 5.336\n"
          ]
        },
        {
          "data": {
            "application/vnd.jupyter.widget-view+json": {
              "model_id": "a5a4b733a18e4f2da0b00078326d80fa",
              "version_major": 2,
              "version_minor": 0
            },
            "text/plain": [
              "Validation: |          | 0/? [00:00<?, ?it/s]"
            ]
          },
          "metadata": {},
          "output_type": "display_data"
        },
        {
          "data": {
            "application/vnd.jupyter.widget-view+json": {
              "model_id": "136ea1a925eb4d88b0d9d9d2d77a71b1",
              "version_major": 2,
              "version_minor": 0
            },
            "text/plain": [
              "Validation: |          | 0/? [00:00<?, ?it/s]"
            ]
          },
          "metadata": {},
          "output_type": "display_data"
        },
        {
          "data": {
            "application/vnd.jupyter.widget-view+json": {
              "model_id": "0cccbaab96714316a0806ea8296f6714",
              "version_major": 2,
              "version_minor": 0
            },
            "text/plain": [
              "Validation: |          | 0/? [00:00<?, ?it/s]"
            ]
          },
          "metadata": {},
          "output_type": "display_data"
        },
        {
          "data": {
            "application/vnd.jupyter.widget-view+json": {
              "model_id": "b130d332d6b74d74a701d5f5ea400fc6",
              "version_major": 2,
              "version_minor": 0
            },
            "text/plain": [
              "Validation: |          | 0/? [00:00<?, ?it/s]"
            ]
          },
          "metadata": {},
          "output_type": "display_data"
        },
        {
          "data": {
            "application/vnd.jupyter.widget-view+json": {
              "model_id": "7e68822bb22f4857b03a2f0c40221aea",
              "version_major": 2,
              "version_minor": 0
            },
            "text/plain": [
              "Validation: |          | 0/? [00:00<?, ?it/s]"
            ]
          },
          "metadata": {},
          "output_type": "display_data"
        },
        {
          "name": "stderr",
          "output_type": "stream",
          "text": [
            "Monitored metric train_loss did not improve in the last 5 records. Best score: 5.336. Signaling Trainer to stop.\n"
          ]
        },
        {
          "name": "stdout",
          "output_type": "stream",
          "text": [
            "✅ Training completed!\n",
            "\n",
            "=== Loading Best Model and Creating Validation Dataset ===\n"
          ]
        },
        {
          "name": "stderr",
          "output_type": "stream",
          "text": [
            "💡 Tip: For seamless cloud uploads and versioning, try installing [litmodels](https://pypi.org/project/litmodels/) to enable LitModelCheckpoint, which syncs automatically with the Lightning model registry.\n"
          ]
        },
        {
          "name": "stdout",
          "output_type": "stream",
          "text": [
            "✓ Best model loaded from: /Users/hwang-yejin/Desktop/Financial Time Series Forecasting with Deep Learning Models and Social Media Sentiment/notebooks/checkpoints/tft-epoch=19-train_loss=5.3358-v15.ckpt\n",
            "✓ Validation dataset created with 1 samples\n",
            "\n",
            "=== Making Predictions ===\n"
          ]
        },
        {
          "name": "stderr",
          "output_type": "stream",
          "text": [
            "GPU available: True (mps), used: True\n",
            "TPU available: False, using: 0 TPU cores\n",
            "HPU available: False, using: 0 HPUs\n",
            "Seed set to 42\n"
          ]
        },
        {
          "name": "stdout",
          "output_type": "stream",
          "text": [
            "✓ Predictions made successfully\n",
            "  - Prediction shape: torch.Size([1, 5])\n",
            "  - Actuals shape: torch.Size([1, 5])\n",
            "\n",
            "=== Performance Evaluation ===\n",
            "\n",
            "📊 Model Performance Metrics:\n",
            "  Metric    Value\n",
            "0    MAE   4.3978\n",
            "1    MSE  20.1926\n",
            "2   RMSE   4.4936\n",
            "3   MAPE   1.3903\n",
            "\n",
            "=== TFT Configuration (96-day training, 5-day prediction) ===\n"
          ]
        },
        {
          "name": "stderr",
          "output_type": "stream",
          "text": [
            "GPU available: True (mps), used: True\n",
            "TPU available: False, using: 0 TPU cores\n",
            "HPU available: False, using: 0 HPUs\n"
          ]
        },
        {
          "name": "stdout",
          "output_type": "stream",
          "text": [
            "\n",
            "✓ Configuration set:\n",
            "  - Training start: 2025-02-01\n",
            "  - Training days: 96\n",
            "  - Prediction days: 5\n",
            "  - Max epochs: 30\n",
            "  - Batch size: 128\n",
            "  - Learning rate: 0.03\n",
            "\n",
            "=== Loading and Preparing Data ===\n",
            "✓ Data loaded successfully from /Users/hwang-yejin/Desktop/Financial Time Series Forecasting with Deep Learning Models and Social Media Sentiment/data/processed/tsla_price_sentiment_spike_new.csv\n",
            "  - Shape: (232, 20)\n",
            "  - Date range: 2024-06-04 to 2025-07-22\n",
            "\n",
            "Data columns:\n",
            "['time_idx', 'date', 'close', 'volume', 'days_since_earning', 'month', 'day_of_week', 'quarter', 'year', 'is_month_end', 'is_month_start', 'rolling_volatility', 'return_1d', 'cumulative_return', 'unique_id', 'daily_sentiment', 'post_count', 'spike_presence', 'spike_intensity', 'log_close', 'daily_sentiment_lag1', 'daily_sentiment_lag2', 'daily_sentiment_lag3', 'daily_sentiment_lag4', 'daily_sentiment_lag5', 'daily_sentiment_mean_3', 'daily_sentiment_std_3', 'daily_sentiment_mean_7', 'daily_sentiment_std_7', 'daily_sentiment_mean_14', 'daily_sentiment_std_14', 'spike_presence_sum_3', 'spike_presence_sum_7', 'spike_presence_sum_14', 'spike_intensity_max_3', 'spike_intensity_max_7', 'spike_intensity_max_14']\n",
            "✓ Using date_anchor approach with user-specified start date\n",
            "  - Training start: 2025-02-01\n",
            "  - Training days: 96\n",
            "  - Prediction days: 5\n",
            "✓ Using 96 training days + 5 prediction days from 2025-02-01\n",
            "  - Total data range: 2025-02-03 00:00:00 to 2025-07-17 00:00:00\n",
            "  - Total data points: 101\n",
            "\n",
            "First few rows:\n",
            "     time_idx       date       close    volume  days_since_earning  month  \\\n",
            "128         0 2025-02-03  383.679993  93732100                   4      2   \n",
            "129         1 2025-02-04  392.209992  57072200                   5      2   \n",
            "130         2 2025-02-05  378.170013  57223300                   6      2   \n",
            "131         3 2025-02-06  374.320007  77918200                   7      2   \n",
            "132         4 2025-02-07  361.619995  70298300                   8      2   \n",
            "\n",
            "     day_of_week  quarter  year  is_month_end  ...  daily_sentiment_mean_7  \\\n",
            "128            0        1  2025             0  ...                0.362728   \n",
            "129            1        1  2025             0  ...                0.413299   \n",
            "130            2        1  2025             0  ...                0.222823   \n",
            "131            3        1  2025             0  ...                0.206395   \n",
            "132            4        1  2025             0  ...                0.202109   \n",
            "\n",
            "     daily_sentiment_std_7  daily_sentiment_mean_14  daily_sentiment_std_14  \\\n",
            "128               0.696502                 0.574935                0.556323   \n",
            "129               0.721875                 0.575293                0.556525   \n",
            "130               0.747503                 0.479340                0.607818   \n",
            "131               0.730046                 0.520769                0.610743   \n",
            "132               0.725506                 0.542554                0.617081   \n",
            "\n",
            "    spike_presence_sum_3  spike_presence_sum_7  spike_presence_sum_14  \\\n",
            "128                  0.0                   0.0                    0.0   \n",
            "129                  0.0                   0.0                    0.0   \n",
            "130                  0.0                   0.0                    0.0   \n",
            "131                  0.0                   0.0                    0.0   \n",
            "132                  0.0                   0.0                    0.0   \n",
            "\n",
            "     spike_intensity_max_3  spike_intensity_max_7  spike_intensity_max_14  \n",
            "128                    0.0                    0.0                     0.0  \n",
            "129                    0.0                    0.0                     0.0  \n",
            "130                    0.0                    0.0                     0.0  \n",
            "131                    0.0                    0.0                     0.0  \n",
            "132                    0.0                    0.0                     0.0  \n",
            "\n",
            "[5 rows x 37 columns]\n",
            "\n",
            "=== Creating TFT Dataset ===\n",
            "  - Total data points: 101\n",
            "  - Encoder length: 96 days\n",
            "  - Prediction length: 5 days\n",
            "  - Minimum required length: 101 days\n",
            "  - Adjusted encoder length to 95 to use all available data\n",
            "  - Using all 101 data points for training\n",
            "  - Known features: ['time_idx', 'month', 'day_of_week', 'quarter', 'year', 'is_month_end', 'is_month_start', 'days_since_earning', 'daily_sentiment_lag1', 'daily_sentiment_lag2', 'daily_sentiment_lag3', 'daily_sentiment_lag4', 'daily_sentiment_lag5', 'daily_sentiment_mean_3', 'daily_sentiment_mean_7', 'daily_sentiment_mean_14', 'daily_sentiment_std_7', 'daily_sentiment_std_14', 'spike_presence_sum_3', 'spike_presence_sum_7', 'spike_presence_sum_14', 'spike_intensity_max_3', 'spike_intensity_max_7', 'spike_intensity_max_14']\n",
            "  - Unknown features: ['close', 'volume', 'rolling_volatility']\n",
            "✓ Training dataset created with 2 samples\n",
            "\n",
            "=== Creating Model and DataLoader ===\n",
            "✓ DataLoader created with batch size 128\n",
            "✓ TFT model created with 50343 parameters\n",
            "  - Learning rate: 0.03\n",
            "  - Hidden size: 16\n",
            "  - Attention heads: 1\n",
            "\n",
            "=== Training TFT Model ===\n",
            "✓ Trainer configured with 30 max epochs (monitoring train_loss)\n",
            "  - Early stopping enabled\n",
            "  - Learning rate monitoring enabled\n",
            "  - Model checkpointing enabled\n",
            "\n",
            "Starting model training...\n"
          ]
        },
        {
          "name": "stderr",
          "output_type": "stream",
          "text": [
            "\n",
            "   | Name                               | Type                            | Params | Mode \n",
            "------------------------------------------------------------------------------------------------\n",
            "0  | loss                               | TorchMetricWrapper              | 0      | train\n",
            "1  | logging_metrics                    | ModuleList                      | 0      | train\n",
            "2  | input_embeddings                   | MultiEmbedding                  | 1      | train\n",
            "3  | prescalers                         | ModuleDict                      | 432    | train\n",
            "4  | static_variable_selection          | VariableSelectionNetwork        | 48     | train\n",
            "5  | encoder_variable_selection         | VariableSelectionNetwork        | 19.3 K | train\n",
            "6  | decoder_variable_selection         | VariableSelectionNetwork        | 17.2 K | train\n",
            "7  | static_context_variable_selection  | GatedResidualNetwork            | 1.1 K  | train\n",
            "8  | static_context_initial_hidden_lstm | GatedResidualNetwork            | 1.1 K  | train\n",
            "9  | static_context_initial_cell_lstm   | GatedResidualNetwork            | 1.1 K  | train\n",
            "10 | static_context_enrichment          | GatedResidualNetwork            | 1.1 K  | train\n",
            "11 | lstm_encoder                       | LSTM                            | 2.2 K  | train\n",
            "12 | lstm_decoder                       | LSTM                            | 2.2 K  | train\n",
            "13 | post_lstm_gate_encoder             | GatedLinearUnit                 | 544    | train\n",
            "14 | post_lstm_add_norm_encoder         | AddNorm                         | 32     | train\n",
            "15 | static_enrichment                  | GatedResidualNetwork            | 1.4 K  | train\n",
            "16 | multihead_attn                     | InterpretableMultiHeadAttention | 1.1 K  | train\n",
            "17 | post_attn_gate_norm                | GateAddNorm                     | 576    | train\n",
            "18 | pos_wise_ff                        | GatedResidualNetwork            | 1.1 K  | train\n",
            "19 | pre_output_gate_norm               | GateAddNorm                     | 576    | train\n",
            "20 | output_layer                       | Linear                          | 17     | train\n",
            "------------------------------------------------------------------------------------------------\n",
            "50.3 K    Trainable params\n",
            "0         Non-trainable params\n",
            "50.3 K    Total params\n",
            "0.201     Total estimated model params size (MB)\n",
            "888       Modules in train mode\n",
            "0         Modules in eval mode\n"
          ]
        },
        {
          "data": {
            "application/vnd.jupyter.widget-view+json": {
              "model_id": "d7bf3a7acebf4c509aec851218c3d84d",
              "version_major": 2,
              "version_minor": 0
            },
            "text/plain": [
              "Sanity Checking: |          | 0/? [00:00<?, ?it/s]"
            ]
          },
          "metadata": {},
          "output_type": "display_data"
        },
        {
          "data": {
            "application/vnd.jupyter.widget-view+json": {
              "model_id": "1bb9dd45986347c890bfad6049ec2c55",
              "version_major": 2,
              "version_minor": 0
            },
            "text/plain": [
              "Training: |          | 0/? [00:00<?, ?it/s]"
            ]
          },
          "metadata": {},
          "output_type": "display_data"
        },
        {
          "data": {
            "application/vnd.jupyter.widget-view+json": {
              "model_id": "694135a6ebc84c439e0feb026c122276",
              "version_major": 2,
              "version_minor": 0
            },
            "text/plain": [
              "Validation: |          | 0/? [00:00<?, ?it/s]"
            ]
          },
          "metadata": {},
          "output_type": "display_data"
        },
        {
          "name": "stderr",
          "output_type": "stream",
          "text": [
            "Metric train_loss improved. New best score: 263.357\n"
          ]
        },
        {
          "data": {
            "application/vnd.jupyter.widget-view+json": {
              "model_id": "d6772837bc7e458ab17d5f9ffa4867cd",
              "version_major": 2,
              "version_minor": 0
            },
            "text/plain": [
              "Validation: |          | 0/? [00:00<?, ?it/s]"
            ]
          },
          "metadata": {},
          "output_type": "display_data"
        },
        {
          "data": {
            "application/vnd.jupyter.widget-view+json": {
              "model_id": "dae0485bc0074722b4a41a8860ff69ba",
              "version_major": 2,
              "version_minor": 0
            },
            "text/plain": [
              "Validation: |          | 0/? [00:00<?, ?it/s]"
            ]
          },
          "metadata": {},
          "output_type": "display_data"
        },
        {
          "data": {
            "application/vnd.jupyter.widget-view+json": {
              "model_id": "df51820e60ee4c31ae48b1e1414d9093",
              "version_major": 2,
              "version_minor": 0
            },
            "text/plain": [
              "Validation: |          | 0/? [00:00<?, ?it/s]"
            ]
          },
          "metadata": {},
          "output_type": "display_data"
        },
        {
          "data": {
            "application/vnd.jupyter.widget-view+json": {
              "model_id": "bcda376cf88a41aa8709c9443e92a44e",
              "version_major": 2,
              "version_minor": 0
            },
            "text/plain": [
              "Validation: |          | 0/? [00:00<?, ?it/s]"
            ]
          },
          "metadata": {},
          "output_type": "display_data"
        },
        {
          "name": "stderr",
          "output_type": "stream",
          "text": [
            "Metric train_loss improved by 208.562 >= min_delta = 0.0001. New best score: 54.796\n"
          ]
        },
        {
          "data": {
            "application/vnd.jupyter.widget-view+json": {
              "model_id": "67b5f24c48174eeb819f158f1bac5593",
              "version_major": 2,
              "version_minor": 0
            },
            "text/plain": [
              "Validation: |          | 0/? [00:00<?, ?it/s]"
            ]
          },
          "metadata": {},
          "output_type": "display_data"
        },
        {
          "data": {
            "application/vnd.jupyter.widget-view+json": {
              "model_id": "9d2c300492d146a69eed7891e16e1595",
              "version_major": 2,
              "version_minor": 0
            },
            "text/plain": [
              "Validation: |          | 0/? [00:00<?, ?it/s]"
            ]
          },
          "metadata": {},
          "output_type": "display_data"
        },
        {
          "name": "stderr",
          "output_type": "stream",
          "text": [
            "Metric train_loss improved by 0.161 >= min_delta = 0.0001. New best score: 54.635\n"
          ]
        },
        {
          "data": {
            "application/vnd.jupyter.widget-view+json": {
              "model_id": "ce2d894ba0b64c0dbeafe17492773393",
              "version_major": 2,
              "version_minor": 0
            },
            "text/plain": [
              "Validation: |          | 0/? [00:00<?, ?it/s]"
            ]
          },
          "metadata": {},
          "output_type": "display_data"
        },
        {
          "name": "stderr",
          "output_type": "stream",
          "text": [
            "Metric train_loss improved by 4.076 >= min_delta = 0.0001. New best score: 50.559\n"
          ]
        },
        {
          "data": {
            "application/vnd.jupyter.widget-view+json": {
              "model_id": "0e0ea62f5d4f4af2afa659493522118b",
              "version_major": 2,
              "version_minor": 0
            },
            "text/plain": [
              "Validation: |          | 0/? [00:00<?, ?it/s]"
            ]
          },
          "metadata": {},
          "output_type": "display_data"
        },
        {
          "name": "stderr",
          "output_type": "stream",
          "text": [
            "Metric train_loss improved by 13.255 >= min_delta = 0.0001. New best score: 37.304\n"
          ]
        },
        {
          "data": {
            "application/vnd.jupyter.widget-view+json": {
              "model_id": "3defe860ec984f7881d6e729470685ff",
              "version_major": 2,
              "version_minor": 0
            },
            "text/plain": [
              "Validation: |          | 0/? [00:00<?, ?it/s]"
            ]
          },
          "metadata": {},
          "output_type": "display_data"
        },
        {
          "data": {
            "application/vnd.jupyter.widget-view+json": {
              "model_id": "cbc3065ec16b4f8a94d002f41ffa7a99",
              "version_major": 2,
              "version_minor": 0
            },
            "text/plain": [
              "Validation: |          | 0/? [00:00<?, ?it/s]"
            ]
          },
          "metadata": {},
          "output_type": "display_data"
        },
        {
          "name": "stderr",
          "output_type": "stream",
          "text": [
            "Metric train_loss improved by 23.498 >= min_delta = 0.0001. New best score: 13.806\n"
          ]
        },
        {
          "data": {
            "application/vnd.jupyter.widget-view+json": {
              "model_id": "7ea96365dbec4aa2aa1b0e21f5f3ca60",
              "version_major": 2,
              "version_minor": 0
            },
            "text/plain": [
              "Validation: |          | 0/? [00:00<?, ?it/s]"
            ]
          },
          "metadata": {},
          "output_type": "display_data"
        },
        {
          "data": {
            "application/vnd.jupyter.widget-view+json": {
              "model_id": "6fee0a5f111c4a2ca380e91f3cefc30d",
              "version_major": 2,
              "version_minor": 0
            },
            "text/plain": [
              "Validation: |          | 0/? [00:00<?, ?it/s]"
            ]
          },
          "metadata": {},
          "output_type": "display_data"
        },
        {
          "data": {
            "application/vnd.jupyter.widget-view+json": {
              "model_id": "080b0179dbd345dd953e8e1d146b85e5",
              "version_major": 2,
              "version_minor": 0
            },
            "text/plain": [
              "Validation: |          | 0/? [00:00<?, ?it/s]"
            ]
          },
          "metadata": {},
          "output_type": "display_data"
        },
        {
          "data": {
            "application/vnd.jupyter.widget-view+json": {
              "model_id": "6ef9719562d845b2be655cf8c6b09d63",
              "version_major": 2,
              "version_minor": 0
            },
            "text/plain": [
              "Validation: |          | 0/? [00:00<?, ?it/s]"
            ]
          },
          "metadata": {},
          "output_type": "display_data"
        },
        {
          "data": {
            "application/vnd.jupyter.widget-view+json": {
              "model_id": "a598d3332008495ebc8af08ed716eb87",
              "version_major": 2,
              "version_minor": 0
            },
            "text/plain": [
              "Validation: |          | 0/? [00:00<?, ?it/s]"
            ]
          },
          "metadata": {},
          "output_type": "display_data"
        },
        {
          "name": "stderr",
          "output_type": "stream",
          "text": [
            "Monitored metric train_loss did not improve in the last 5 records. Best score: 13.806. Signaling Trainer to stop.\n"
          ]
        },
        {
          "name": "stdout",
          "output_type": "stream",
          "text": [
            "✅ Training completed!\n",
            "\n",
            "=== Loading Best Model and Creating Validation Dataset ===\n"
          ]
        },
        {
          "name": "stderr",
          "output_type": "stream",
          "text": [
            "💡 Tip: For seamless cloud uploads and versioning, try installing [litmodels](https://pypi.org/project/litmodels/) to enable LitModelCheckpoint, which syncs automatically with the Lightning model registry.\n",
            "GPU available: True (mps), used: True\n",
            "TPU available: False, using: 0 TPU cores\n",
            "HPU available: False, using: 0 HPUs\n"
          ]
        },
        {
          "name": "stdout",
          "output_type": "stream",
          "text": [
            "✓ Best model loaded from: /Users/hwang-yejin/Desktop/Financial Time Series Forecasting with Deep Learning Models and Social Media Sentiment/notebooks/checkpoints/tft-epoch=10-train_loss=13.8061-v1.ckpt\n",
            "✓ Validation dataset created with 1 samples\n",
            "\n",
            "=== Making Predictions ===\n"
          ]
        },
        {
          "name": "stderr",
          "output_type": "stream",
          "text": [
            "Seed set to 43\n"
          ]
        },
        {
          "name": "stdout",
          "output_type": "stream",
          "text": [
            "✓ Predictions made successfully\n",
            "  - Prediction shape: torch.Size([1, 5])\n",
            "  - Actuals shape: torch.Size([1, 5])\n",
            "\n",
            "=== Performance Evaluation ===\n",
            "\n",
            "📊 Model Performance Metrics:\n",
            "  Metric    Value\n",
            "0    MAE   5.5511\n",
            "1    MSE  34.0470\n",
            "2   RMSE   5.8350\n",
            "3   MAPE   1.7598\n",
            "\n",
            "=== TFT Configuration (96-day training, 5-day prediction) ===\n"
          ]
        },
        {
          "name": "stderr",
          "output_type": "stream",
          "text": [
            "GPU available: True (mps), used: True\n",
            "TPU available: False, using: 0 TPU cores\n",
            "HPU available: False, using: 0 HPUs\n"
          ]
        },
        {
          "name": "stdout",
          "output_type": "stream",
          "text": [
            "\n",
            "✓ Configuration set:\n",
            "  - Training start: 2025-02-01\n",
            "  - Training days: 96\n",
            "  - Prediction days: 5\n",
            "  - Max epochs: 30\n",
            "  - Batch size: 128\n",
            "  - Learning rate: 0.03\n",
            "\n",
            "=== Loading and Preparing Data ===\n",
            "✓ Data loaded successfully from /Users/hwang-yejin/Desktop/Financial Time Series Forecasting with Deep Learning Models and Social Media Sentiment/data/processed/tsla_price_sentiment_spike.csv\n",
            "  - Shape: (232, 19)\n",
            "  - Date range: 2024-06-04 to 2025-07-22\n",
            "\n",
            "Data columns:\n",
            "['time_idx', 'date', 'close', 'volume', 'days_since_earning', 'month', 'day_of_week', 'quarter', 'year', 'is_month_end', 'is_month_start', 'rolling_volatility', 'return_1d', 'cumulative_return', 'unique_id', 'daily_sentiment', 'post_count', 'spike_presence', 'spike_intensity', 'daily_sentiment_lag1', 'daily_sentiment_lag2', 'daily_sentiment_lag3', 'daily_sentiment_lag4', 'daily_sentiment_lag5', 'daily_sentiment_mean_3', 'daily_sentiment_std_3', 'daily_sentiment_mean_7', 'daily_sentiment_std_7', 'daily_sentiment_mean_14', 'daily_sentiment_std_14', 'spike_presence_sum_3', 'spike_presence_sum_7', 'spike_presence_sum_14', 'spike_intensity_max_3', 'spike_intensity_max_7', 'spike_intensity_max_14']\n",
            "✓ Using date_anchor approach with user-specified start date\n",
            "  - Training start: 2025-02-01\n",
            "  - Training days: 96\n",
            "  - Prediction days: 5\n",
            "✓ Using 96 training days + 5 prediction days from 2025-02-01\n",
            "  - Total data range: 2025-02-03 00:00:00 to 2025-07-17 00:00:00\n",
            "  - Total data points: 101\n",
            "\n",
            "First few rows:\n",
            "     time_idx       date       close    volume  days_since_earning  month  \\\n",
            "128         0 2025-02-03  383.679993  93732100                   4      2   \n",
            "129         1 2025-02-04  392.209992  57072200                   5      2   \n",
            "130         2 2025-02-05  378.170013  57223300                   6      2   \n",
            "131         3 2025-02-06  374.320007  77918200                   7      2   \n",
            "132         4 2025-02-07  361.619995  70298300                   8      2   \n",
            "\n",
            "     day_of_week  quarter  year  is_month_end  ...  daily_sentiment_mean_7  \\\n",
            "128            0        1  2025             0  ...                0.096856   \n",
            "129            1        1  2025             0  ...                0.194673   \n",
            "130            2        1  2025             0  ...                0.099435   \n",
            "131            3        1  2025             0  ...                0.156311   \n",
            "132            4        1  2025             0  ...                0.030148   \n",
            "\n",
            "     daily_sentiment_std_7  daily_sentiment_mean_14  daily_sentiment_std_14  \\\n",
            "128               0.579758                 0.346741                0.566595   \n",
            "129               0.646536                 0.343357                0.563205   \n",
            "130               0.724404                 0.233630                0.601175   \n",
            "131               0.772430                 0.299381                0.617658   \n",
            "132               0.702926                 0.266204                0.620576   \n",
            "\n",
            "    spike_presence_sum_3  spike_presence_sum_7  spike_presence_sum_14  \\\n",
            "128                  0.0                   0.0                    0.0   \n",
            "129                  0.0                   0.0                    0.0   \n",
            "130                  0.0                   0.0                    0.0   \n",
            "131                  0.0                   0.0                    0.0   \n",
            "132                  0.0                   0.0                    0.0   \n",
            "\n",
            "     spike_intensity_max_3  spike_intensity_max_7  spike_intensity_max_14  \n",
            "128                    0.0                    0.0                     0.0  \n",
            "129                    0.0                    0.0                     0.0  \n",
            "130                    0.0                    0.0                     0.0  \n",
            "131                    0.0                    0.0                     0.0  \n",
            "132                    0.0                    0.0                     0.0  \n",
            "\n",
            "[5 rows x 36 columns]\n",
            "\n",
            "=== Creating TFT Dataset ===\n",
            "  - Total data points: 101\n",
            "  - Encoder length: 96 days\n",
            "  - Prediction length: 5 days\n",
            "  - Minimum required length: 101 days\n",
            "  - Adjusted encoder length to 95 to use all available data\n",
            "  - Using all 101 data points for training\n",
            "  - Known features: ['time_idx', 'month', 'day_of_week', 'quarter', 'year', 'is_month_end', 'is_month_start', 'days_since_earning', 'daily_sentiment_lag1', 'daily_sentiment_lag2', 'daily_sentiment_lag3', 'daily_sentiment_lag4', 'daily_sentiment_lag5', 'daily_sentiment_mean_3', 'daily_sentiment_mean_7', 'daily_sentiment_mean_14', 'daily_sentiment_std_7', 'daily_sentiment_std_14', 'spike_presence_sum_3', 'spike_presence_sum_7', 'spike_presence_sum_14', 'spike_intensity_max_3', 'spike_intensity_max_7', 'spike_intensity_max_14']\n",
            "  - Unknown features: ['close', 'volume', 'rolling_volatility']\n",
            "✓ Training dataset created with 2 samples\n",
            "\n",
            "=== Creating Model and DataLoader ===\n",
            "✓ DataLoader created with batch size 128\n",
            "✓ TFT model created with 50343 parameters\n",
            "  - Learning rate: 0.03\n",
            "  - Hidden size: 16\n",
            "  - Attention heads: 1\n",
            "\n",
            "=== Training TFT Model ===\n",
            "✓ Trainer configured with 30 max epochs (monitoring train_loss)\n",
            "  - Early stopping enabled\n",
            "  - Learning rate monitoring enabled\n",
            "  - Model checkpointing enabled\n",
            "\n",
            "Starting model training...\n"
          ]
        },
        {
          "name": "stderr",
          "output_type": "stream",
          "text": [
            "\n",
            "   | Name                               | Type                            | Params | Mode \n",
            "------------------------------------------------------------------------------------------------\n",
            "0  | loss                               | TorchMetricWrapper              | 0      | train\n",
            "1  | logging_metrics                    | ModuleList                      | 0      | train\n",
            "2  | input_embeddings                   | MultiEmbedding                  | 1      | train\n",
            "3  | prescalers                         | ModuleDict                      | 432    | train\n",
            "4  | static_variable_selection          | VariableSelectionNetwork        | 48     | train\n",
            "5  | encoder_variable_selection         | VariableSelectionNetwork        | 19.3 K | train\n",
            "6  | decoder_variable_selection         | VariableSelectionNetwork        | 17.2 K | train\n",
            "7  | static_context_variable_selection  | GatedResidualNetwork            | 1.1 K  | train\n",
            "8  | static_context_initial_hidden_lstm | GatedResidualNetwork            | 1.1 K  | train\n",
            "9  | static_context_initial_cell_lstm   | GatedResidualNetwork            | 1.1 K  | train\n",
            "10 | static_context_enrichment          | GatedResidualNetwork            | 1.1 K  | train\n",
            "11 | lstm_encoder                       | LSTM                            | 2.2 K  | train\n",
            "12 | lstm_decoder                       | LSTM                            | 2.2 K  | train\n",
            "13 | post_lstm_gate_encoder             | GatedLinearUnit                 | 544    | train\n",
            "14 | post_lstm_add_norm_encoder         | AddNorm                         | 32     | train\n",
            "15 | static_enrichment                  | GatedResidualNetwork            | 1.4 K  | train\n",
            "16 | multihead_attn                     | InterpretableMultiHeadAttention | 1.1 K  | train\n",
            "17 | post_attn_gate_norm                | GateAddNorm                     | 576    | train\n",
            "18 | pos_wise_ff                        | GatedResidualNetwork            | 1.1 K  | train\n",
            "19 | pre_output_gate_norm               | GateAddNorm                     | 576    | train\n",
            "20 | output_layer                       | Linear                          | 17     | train\n",
            "------------------------------------------------------------------------------------------------\n",
            "50.3 K    Trainable params\n",
            "0         Non-trainable params\n",
            "50.3 K    Total params\n",
            "0.201     Total estimated model params size (MB)\n",
            "888       Modules in train mode\n",
            "0         Modules in eval mode\n"
          ]
        },
        {
          "data": {
            "application/vnd.jupyter.widget-view+json": {
              "model_id": "a3e37c78bffe4473b43fa5740c0eb12b",
              "version_major": 2,
              "version_minor": 0
            },
            "text/plain": [
              "Sanity Checking: |          | 0/? [00:00<?, ?it/s]"
            ]
          },
          "metadata": {},
          "output_type": "display_data"
        },
        {
          "data": {
            "application/vnd.jupyter.widget-view+json": {
              "model_id": "b1f27e826b7547e9bff8f62730f3c5f9",
              "version_major": 2,
              "version_minor": 0
            },
            "text/plain": [
              "Training: |          | 0/? [00:00<?, ?it/s]"
            ]
          },
          "metadata": {},
          "output_type": "display_data"
        },
        {
          "data": {
            "application/vnd.jupyter.widget-view+json": {
              "model_id": "6bffb8a12ac44d568e286ecb5d5050cf",
              "version_major": 2,
              "version_minor": 0
            },
            "text/plain": [
              "Validation: |          | 0/? [00:00<?, ?it/s]"
            ]
          },
          "metadata": {},
          "output_type": "display_data"
        },
        {
          "name": "stderr",
          "output_type": "stream",
          "text": [
            "Metric train_loss improved. New best score: 451.978\n"
          ]
        },
        {
          "data": {
            "application/vnd.jupyter.widget-view+json": {
              "model_id": "491c60057de7474d97d2f7b7e352c9ce",
              "version_major": 2,
              "version_minor": 0
            },
            "text/plain": [
              "Validation: |          | 0/? [00:00<?, ?it/s]"
            ]
          },
          "metadata": {},
          "output_type": "display_data"
        },
        {
          "data": {
            "application/vnd.jupyter.widget-view+json": {
              "model_id": "6261afcf67624f4993150a52778f39f3",
              "version_major": 2,
              "version_minor": 0
            },
            "text/plain": [
              "Validation: |          | 0/? [00:00<?, ?it/s]"
            ]
          },
          "metadata": {},
          "output_type": "display_data"
        },
        {
          "name": "stderr",
          "output_type": "stream",
          "text": [
            "Metric train_loss improved by 339.759 >= min_delta = 0.0001. New best score: 112.219\n"
          ]
        },
        {
          "data": {
            "application/vnd.jupyter.widget-view+json": {
              "model_id": "1ddd5d7e08a24466bd9b22e83c00cf99",
              "version_major": 2,
              "version_minor": 0
            },
            "text/plain": [
              "Validation: |          | 0/? [00:00<?, ?it/s]"
            ]
          },
          "metadata": {},
          "output_type": "display_data"
        },
        {
          "data": {
            "application/vnd.jupyter.widget-view+json": {
              "model_id": "32dd89521b534acba63dc34f3043dbe4",
              "version_major": 2,
              "version_minor": 0
            },
            "text/plain": [
              "Validation: |          | 0/? [00:00<?, ?it/s]"
            ]
          },
          "metadata": {},
          "output_type": "display_data"
        },
        {
          "data": {
            "application/vnd.jupyter.widget-view+json": {
              "model_id": "b29686e92a3046559f3f257ed90a824c",
              "version_major": 2,
              "version_minor": 0
            },
            "text/plain": [
              "Validation: |          | 0/? [00:00<?, ?it/s]"
            ]
          },
          "metadata": {},
          "output_type": "display_data"
        },
        {
          "data": {
            "application/vnd.jupyter.widget-view+json": {
              "model_id": "3a223f9d960d41bcae80a45c59d93b6b",
              "version_major": 2,
              "version_minor": 0
            },
            "text/plain": [
              "Validation: |          | 0/? [00:00<?, ?it/s]"
            ]
          },
          "metadata": {},
          "output_type": "display_data"
        },
        {
          "name": "stderr",
          "output_type": "stream",
          "text": [
            "Metric train_loss improved by 25.297 >= min_delta = 0.0001. New best score: 86.923\n"
          ]
        },
        {
          "data": {
            "application/vnd.jupyter.widget-view+json": {
              "model_id": "621b48611e7243afbe8430e69f948ec1",
              "version_major": 2,
              "version_minor": 0
            },
            "text/plain": [
              "Validation: |          | 0/? [00:00<?, ?it/s]"
            ]
          },
          "metadata": {},
          "output_type": "display_data"
        },
        {
          "name": "stderr",
          "output_type": "stream",
          "text": [
            "Metric train_loss improved by 15.824 >= min_delta = 0.0001. New best score: 71.098\n"
          ]
        },
        {
          "data": {
            "application/vnd.jupyter.widget-view+json": {
              "model_id": "277db71a2177446ebef47f329cd86484",
              "version_major": 2,
              "version_minor": 0
            },
            "text/plain": [
              "Validation: |          | 0/? [00:00<?, ?it/s]"
            ]
          },
          "metadata": {},
          "output_type": "display_data"
        },
        {
          "name": "stderr",
          "output_type": "stream",
          "text": [
            "Metric train_loss improved by 1.197 >= min_delta = 0.0001. New best score: 69.902\n"
          ]
        },
        {
          "data": {
            "application/vnd.jupyter.widget-view+json": {
              "model_id": "2f95ef2b01804f22b5852a8818aa6bbb",
              "version_major": 2,
              "version_minor": 0
            },
            "text/plain": [
              "Validation: |          | 0/? [00:00<?, ?it/s]"
            ]
          },
          "metadata": {},
          "output_type": "display_data"
        },
        {
          "name": "stderr",
          "output_type": "stream",
          "text": [
            "Metric train_loss improved by 16.168 >= min_delta = 0.0001. New best score: 53.734\n"
          ]
        },
        {
          "data": {
            "application/vnd.jupyter.widget-view+json": {
              "model_id": "8cd5dd6cb7a94b2082c11590f48e9c01",
              "version_major": 2,
              "version_minor": 0
            },
            "text/plain": [
              "Validation: |          | 0/? [00:00<?, ?it/s]"
            ]
          },
          "metadata": {},
          "output_type": "display_data"
        },
        {
          "data": {
            "application/vnd.jupyter.widget-view+json": {
              "model_id": "dedb95c4cdf04f268e53f2632918cc87",
              "version_major": 2,
              "version_minor": 0
            },
            "text/plain": [
              "Validation: |          | 0/? [00:00<?, ?it/s]"
            ]
          },
          "metadata": {},
          "output_type": "display_data"
        },
        {
          "name": "stderr",
          "output_type": "stream",
          "text": [
            "Metric train_loss improved by 2.496 >= min_delta = 0.0001. New best score: 51.238\n"
          ]
        },
        {
          "data": {
            "application/vnd.jupyter.widget-view+json": {
              "model_id": "7a135106d0cc45a8a5609da784b38e26",
              "version_major": 2,
              "version_minor": 0
            },
            "text/plain": [
              "Validation: |          | 0/? [00:00<?, ?it/s]"
            ]
          },
          "metadata": {},
          "output_type": "display_data"
        },
        {
          "name": "stderr",
          "output_type": "stream",
          "text": [
            "Metric train_loss improved by 4.820 >= min_delta = 0.0001. New best score: 46.417\n"
          ]
        },
        {
          "data": {
            "application/vnd.jupyter.widget-view+json": {
              "model_id": "1fe4f97212c84d669f6b241274ea5291",
              "version_major": 2,
              "version_minor": 0
            },
            "text/plain": [
              "Validation: |          | 0/? [00:00<?, ?it/s]"
            ]
          },
          "metadata": {},
          "output_type": "display_data"
        },
        {
          "name": "stderr",
          "output_type": "stream",
          "text": [
            "Metric train_loss improved by 0.064 >= min_delta = 0.0001. New best score: 46.353\n"
          ]
        },
        {
          "data": {
            "application/vnd.jupyter.widget-view+json": {
              "model_id": "15883cd398824780b4b0894b33fcc681",
              "version_major": 2,
              "version_minor": 0
            },
            "text/plain": [
              "Validation: |          | 0/? [00:00<?, ?it/s]"
            ]
          },
          "metadata": {},
          "output_type": "display_data"
        },
        {
          "name": "stderr",
          "output_type": "stream",
          "text": [
            "Metric train_loss improved by 4.050 >= min_delta = 0.0001. New best score: 42.303\n"
          ]
        },
        {
          "data": {
            "application/vnd.jupyter.widget-view+json": {
              "model_id": "58aa906f84f448a581207072819fa921",
              "version_major": 2,
              "version_minor": 0
            },
            "text/plain": [
              "Validation: |          | 0/? [00:00<?, ?it/s]"
            ]
          },
          "metadata": {},
          "output_type": "display_data"
        },
        {
          "name": "stderr",
          "output_type": "stream",
          "text": [
            "Metric train_loss improved by 5.881 >= min_delta = 0.0001. New best score: 36.423\n"
          ]
        },
        {
          "data": {
            "application/vnd.jupyter.widget-view+json": {
              "model_id": "dcd64716098d4c81bd0ca2c95b8b6693",
              "version_major": 2,
              "version_minor": 0
            },
            "text/plain": [
              "Validation: |          | 0/? [00:00<?, ?it/s]"
            ]
          },
          "metadata": {},
          "output_type": "display_data"
        },
        {
          "name": "stderr",
          "output_type": "stream",
          "text": [
            "Metric train_loss improved by 7.453 >= min_delta = 0.0001. New best score: 28.970\n"
          ]
        },
        {
          "data": {
            "application/vnd.jupyter.widget-view+json": {
              "model_id": "88e7f4bd31184533b98ddbcd62dafdeb",
              "version_major": 2,
              "version_minor": 0
            },
            "text/plain": [
              "Validation: |          | 0/? [00:00<?, ?it/s]"
            ]
          },
          "metadata": {},
          "output_type": "display_data"
        },
        {
          "name": "stderr",
          "output_type": "stream",
          "text": [
            "Metric train_loss improved by 6.783 >= min_delta = 0.0001. New best score: 22.187\n"
          ]
        },
        {
          "data": {
            "application/vnd.jupyter.widget-view+json": {
              "model_id": "80a65a3876a84914ad495e683e7bde77",
              "version_major": 2,
              "version_minor": 0
            },
            "text/plain": [
              "Validation: |          | 0/? [00:00<?, ?it/s]"
            ]
          },
          "metadata": {},
          "output_type": "display_data"
        },
        {
          "name": "stderr",
          "output_type": "stream",
          "text": [
            "Metric train_loss improved by 5.612 >= min_delta = 0.0001. New best score: 16.575\n"
          ]
        },
        {
          "data": {
            "application/vnd.jupyter.widget-view+json": {
              "model_id": "ff7aca7400fd44c09246c744d7f35ec9",
              "version_major": 2,
              "version_minor": 0
            },
            "text/plain": [
              "Validation: |          | 0/? [00:00<?, ?it/s]"
            ]
          },
          "metadata": {},
          "output_type": "display_data"
        },
        {
          "data": {
            "application/vnd.jupyter.widget-view+json": {
              "model_id": "bf6573d3037b4c89951c9271c230ea33",
              "version_major": 2,
              "version_minor": 0
            },
            "text/plain": [
              "Validation: |          | 0/? [00:00<?, ?it/s]"
            ]
          },
          "metadata": {},
          "output_type": "display_data"
        },
        {
          "data": {
            "application/vnd.jupyter.widget-view+json": {
              "model_id": "3ba4f3c7259f4731bd49c1d4f8f181a7",
              "version_major": 2,
              "version_minor": 0
            },
            "text/plain": [
              "Validation: |          | 0/? [00:00<?, ?it/s]"
            ]
          },
          "metadata": {},
          "output_type": "display_data"
        },
        {
          "data": {
            "application/vnd.jupyter.widget-view+json": {
              "model_id": "e5276b55ec274e4daa6a2fbb5c7ad2ee",
              "version_major": 2,
              "version_minor": 0
            },
            "text/plain": [
              "Validation: |          | 0/? [00:00<?, ?it/s]"
            ]
          },
          "metadata": {},
          "output_type": "display_data"
        },
        {
          "data": {
            "application/vnd.jupyter.widget-view+json": {
              "model_id": "a7957ca71cd74d53864cd29d9f50b409",
              "version_major": 2,
              "version_minor": 0
            },
            "text/plain": [
              "Validation: |          | 0/? [00:00<?, ?it/s]"
            ]
          },
          "metadata": {},
          "output_type": "display_data"
        },
        {
          "name": "stderr",
          "output_type": "stream",
          "text": [
            "Monitored metric train_loss did not improve in the last 5 records. Best score: 16.575. Signaling Trainer to stop.\n"
          ]
        },
        {
          "name": "stdout",
          "output_type": "stream",
          "text": [
            "✅ Training completed!\n",
            "\n",
            "=== Loading Best Model and Creating Validation Dataset ===\n"
          ]
        },
        {
          "name": "stderr",
          "output_type": "stream",
          "text": [
            "💡 Tip: For seamless cloud uploads and versioning, try installing [litmodels](https://pypi.org/project/litmodels/) to enable LitModelCheckpoint, which syncs automatically with the Lightning model registry.\n",
            "GPU available: True (mps), used: True\n",
            "TPU available: False, using: 0 TPU cores\n",
            "HPU available: False, using: 0 HPUs\n"
          ]
        },
        {
          "name": "stdout",
          "output_type": "stream",
          "text": [
            "✓ Best model loaded from: /Users/hwang-yejin/Desktop/Financial Time Series Forecasting with Deep Learning Models and Social Media Sentiment/notebooks/checkpoints/tft-epoch=18-train_loss=16.5751.ckpt\n",
            "✓ Validation dataset created with 1 samples\n",
            "\n",
            "=== Making Predictions ===\n"
          ]
        },
        {
          "name": "stderr",
          "output_type": "stream",
          "text": [
            "Seed set to 43\n"
          ]
        },
        {
          "name": "stdout",
          "output_type": "stream",
          "text": [
            "✓ Predictions made successfully\n",
            "  - Prediction shape: torch.Size([1, 5])\n",
            "  - Actuals shape: torch.Size([1, 5])\n",
            "\n",
            "=== Performance Evaluation ===\n",
            "\n",
            "📊 Model Performance Metrics:\n",
            "  Metric    Value\n",
            "0    MAE   3.4582\n",
            "1    MSE  13.4551\n",
            "2   RMSE   3.6681\n",
            "3   MAPE   1.0946\n",
            "\n",
            "=== TFT Configuration (96-day training, 5-day prediction) ===\n",
            "\n",
            "✓ Configuration set:\n",
            "  - Training start: 2025-02-01\n",
            "  - Training days: 96\n",
            "  - Prediction days: 5\n",
            "  - Max epochs: 30\n",
            "  - Batch size: 128\n",
            "  - Learning rate: 0.03\n",
            "\n",
            "=== Loading and Preparing Data ===\n",
            "✓ Data loaded successfully from /Users/hwang-yejin/Desktop/Financial Time Series Forecasting with Deep Learning Models and Social Media Sentiment/data/processed/tsla_price_sentiment_spike_new.csv\n",
            "  - Shape: (232, 20)\n",
            "  - Date range: 2024-06-04 to 2025-07-22\n",
            "\n",
            "Data columns:\n",
            "['time_idx', 'date', 'close', 'volume', 'days_since_earning', 'month', 'day_of_week', 'quarter', 'year', 'is_month_end', 'is_month_start', 'rolling_volatility', 'return_1d', 'cumulative_return', 'unique_id', 'daily_sentiment', 'post_count', 'spike_presence', 'spike_intensity', 'log_close', 'daily_sentiment_lag1', 'daily_sentiment_lag2', 'daily_sentiment_lag3', 'daily_sentiment_lag4', 'daily_sentiment_lag5', 'daily_sentiment_mean_3', 'daily_sentiment_std_3', 'daily_sentiment_mean_7', 'daily_sentiment_std_7', 'daily_sentiment_mean_14', 'daily_sentiment_std_14', 'spike_presence_sum_3', 'spike_presence_sum_7', 'spike_presence_sum_14', 'spike_intensity_max_3', 'spike_intensity_max_7', 'spike_intensity_max_14']\n",
            "✓ Using date_anchor approach with user-specified start date\n",
            "  - Training start: 2025-02-01\n",
            "  - Training days: 96\n",
            "  - Prediction days: 5\n"
          ]
        },
        {
          "name": "stderr",
          "output_type": "stream",
          "text": [
            "GPU available: True (mps), used: True\n",
            "TPU available: False, using: 0 TPU cores\n",
            "HPU available: False, using: 0 HPUs\n"
          ]
        },
        {
          "name": "stdout",
          "output_type": "stream",
          "text": [
            "✓ Using 96 training days + 5 prediction days from 2025-02-01\n",
            "  - Total data range: 2025-02-03 00:00:00 to 2025-07-17 00:00:00\n",
            "  - Total data points: 101\n",
            "\n",
            "First few rows:\n",
            "     time_idx       date       close    volume  days_since_earning  month  \\\n",
            "128         0 2025-02-03  383.679993  93732100                   4      2   \n",
            "129         1 2025-02-04  392.209992  57072200                   5      2   \n",
            "130         2 2025-02-05  378.170013  57223300                   6      2   \n",
            "131         3 2025-02-06  374.320007  77918200                   7      2   \n",
            "132         4 2025-02-07  361.619995  70298300                   8      2   \n",
            "\n",
            "     day_of_week  quarter  year  is_month_end  ...  daily_sentiment_mean_7  \\\n",
            "128            0        1  2025             0  ...                0.362728   \n",
            "129            1        1  2025             0  ...                0.413299   \n",
            "130            2        1  2025             0  ...                0.222823   \n",
            "131            3        1  2025             0  ...                0.206395   \n",
            "132            4        1  2025             0  ...                0.202109   \n",
            "\n",
            "     daily_sentiment_std_7  daily_sentiment_mean_14  daily_sentiment_std_14  \\\n",
            "128               0.696502                 0.574935                0.556323   \n",
            "129               0.721875                 0.575293                0.556525   \n",
            "130               0.747503                 0.479340                0.607818   \n",
            "131               0.730046                 0.520769                0.610743   \n",
            "132               0.725506                 0.542554                0.617081   \n",
            "\n",
            "    spike_presence_sum_3  spike_presence_sum_7  spike_presence_sum_14  \\\n",
            "128                  0.0                   0.0                    0.0   \n",
            "129                  0.0                   0.0                    0.0   \n",
            "130                  0.0                   0.0                    0.0   \n",
            "131                  0.0                   0.0                    0.0   \n",
            "132                  0.0                   0.0                    0.0   \n",
            "\n",
            "     spike_intensity_max_3  spike_intensity_max_7  spike_intensity_max_14  \n",
            "128                    0.0                    0.0                     0.0  \n",
            "129                    0.0                    0.0                     0.0  \n",
            "130                    0.0                    0.0                     0.0  \n",
            "131                    0.0                    0.0                     0.0  \n",
            "132                    0.0                    0.0                     0.0  \n",
            "\n",
            "[5 rows x 37 columns]\n",
            "\n",
            "=== Creating TFT Dataset ===\n",
            "  - Total data points: 101\n",
            "  - Encoder length: 96 days\n",
            "  - Prediction length: 5 days\n",
            "  - Minimum required length: 101 days\n",
            "  - Adjusted encoder length to 95 to use all available data\n",
            "  - Using all 101 data points for training\n",
            "  - Known features: ['time_idx', 'month', 'day_of_week', 'quarter', 'year', 'is_month_end', 'is_month_start', 'days_since_earning', 'daily_sentiment_lag1', 'daily_sentiment_lag2', 'daily_sentiment_lag3', 'daily_sentiment_lag4', 'daily_sentiment_lag5', 'daily_sentiment_mean_3', 'daily_sentiment_mean_7', 'daily_sentiment_mean_14', 'daily_sentiment_std_7', 'daily_sentiment_std_14', 'spike_presence_sum_3', 'spike_presence_sum_7', 'spike_presence_sum_14', 'spike_intensity_max_3', 'spike_intensity_max_7', 'spike_intensity_max_14']\n",
            "  - Unknown features: ['close', 'volume', 'rolling_volatility']\n",
            "✓ Training dataset created with 2 samples\n",
            "\n",
            "=== Creating Model and DataLoader ===\n",
            "✓ DataLoader created with batch size 128\n",
            "✓ TFT model created with 50343 parameters\n",
            "  - Learning rate: 0.03\n",
            "  - Hidden size: 16\n",
            "  - Attention heads: 1\n",
            "\n",
            "=== Training TFT Model ===\n",
            "✓ Trainer configured with 30 max epochs (monitoring train_loss)\n",
            "  - Early stopping enabled\n",
            "  - Learning rate monitoring enabled\n",
            "  - Model checkpointing enabled\n",
            "\n",
            "Starting model training...\n"
          ]
        },
        {
          "name": "stderr",
          "output_type": "stream",
          "text": [
            "\n",
            "   | Name                               | Type                            | Params | Mode \n",
            "------------------------------------------------------------------------------------------------\n",
            "0  | loss                               | TorchMetricWrapper              | 0      | train\n",
            "1  | logging_metrics                    | ModuleList                      | 0      | train\n",
            "2  | input_embeddings                   | MultiEmbedding                  | 1      | train\n",
            "3  | prescalers                         | ModuleDict                      | 432    | train\n",
            "4  | static_variable_selection          | VariableSelectionNetwork        | 48     | train\n",
            "5  | encoder_variable_selection         | VariableSelectionNetwork        | 19.3 K | train\n",
            "6  | decoder_variable_selection         | VariableSelectionNetwork        | 17.2 K | train\n",
            "7  | static_context_variable_selection  | GatedResidualNetwork            | 1.1 K  | train\n",
            "8  | static_context_initial_hidden_lstm | GatedResidualNetwork            | 1.1 K  | train\n",
            "9  | static_context_initial_cell_lstm   | GatedResidualNetwork            | 1.1 K  | train\n",
            "10 | static_context_enrichment          | GatedResidualNetwork            | 1.1 K  | train\n",
            "11 | lstm_encoder                       | LSTM                            | 2.2 K  | train\n",
            "12 | lstm_decoder                       | LSTM                            | 2.2 K  | train\n",
            "13 | post_lstm_gate_encoder             | GatedLinearUnit                 | 544    | train\n",
            "14 | post_lstm_add_norm_encoder         | AddNorm                         | 32     | train\n",
            "15 | static_enrichment                  | GatedResidualNetwork            | 1.4 K  | train\n",
            "16 | multihead_attn                     | InterpretableMultiHeadAttention | 1.1 K  | train\n",
            "17 | post_attn_gate_norm                | GateAddNorm                     | 576    | train\n",
            "18 | pos_wise_ff                        | GatedResidualNetwork            | 1.1 K  | train\n",
            "19 | pre_output_gate_norm               | GateAddNorm                     | 576    | train\n",
            "20 | output_layer                       | Linear                          | 17     | train\n",
            "------------------------------------------------------------------------------------------------\n",
            "50.3 K    Trainable params\n",
            "0         Non-trainable params\n",
            "50.3 K    Total params\n",
            "0.201     Total estimated model params size (MB)\n",
            "888       Modules in train mode\n",
            "0         Modules in eval mode\n"
          ]
        },
        {
          "data": {
            "application/vnd.jupyter.widget-view+json": {
              "model_id": "1f89157ac2e345989d377ad2f3295166",
              "version_major": 2,
              "version_minor": 0
            },
            "text/plain": [
              "Sanity Checking: |          | 0/? [00:00<?, ?it/s]"
            ]
          },
          "metadata": {},
          "output_type": "display_data"
        },
        {
          "data": {
            "application/vnd.jupyter.widget-view+json": {
              "model_id": "9beb4a5974f34107b6a31fbf47f2cbf4",
              "version_major": 2,
              "version_minor": 0
            },
            "text/plain": [
              "Training: |          | 0/? [00:00<?, ?it/s]"
            ]
          },
          "metadata": {},
          "output_type": "display_data"
        },
        {
          "data": {
            "application/vnd.jupyter.widget-view+json": {
              "model_id": "a9023afd2bda429e96b6b347fb76af31",
              "version_major": 2,
              "version_minor": 0
            },
            "text/plain": [
              "Validation: |          | 0/? [00:00<?, ?it/s]"
            ]
          },
          "metadata": {},
          "output_type": "display_data"
        },
        {
          "name": "stderr",
          "output_type": "stream",
          "text": [
            "Metric train_loss improved. New best score: 406.194\n"
          ]
        },
        {
          "data": {
            "application/vnd.jupyter.widget-view+json": {
              "model_id": "ea1a773bcc9c48e3b9835bc438e86222",
              "version_major": 2,
              "version_minor": 0
            },
            "text/plain": [
              "Validation: |          | 0/? [00:00<?, ?it/s]"
            ]
          },
          "metadata": {},
          "output_type": "display_data"
        },
        {
          "data": {
            "application/vnd.jupyter.widget-view+json": {
              "model_id": "d102461fa10e4699adb63f86aef68742",
              "version_major": 2,
              "version_minor": 0
            },
            "text/plain": [
              "Validation: |          | 0/? [00:00<?, ?it/s]"
            ]
          },
          "metadata": {},
          "output_type": "display_data"
        },
        {
          "name": "stderr",
          "output_type": "stream",
          "text": [
            "Metric train_loss improved by 369.534 >= min_delta = 0.0001. New best score: 36.660\n"
          ]
        },
        {
          "data": {
            "application/vnd.jupyter.widget-view+json": {
              "model_id": "45964a52089c4efcb8aa08ab71bcafa2",
              "version_major": 2,
              "version_minor": 0
            },
            "text/plain": [
              "Validation: |          | 0/? [00:00<?, ?it/s]"
            ]
          },
          "metadata": {},
          "output_type": "display_data"
        },
        {
          "data": {
            "application/vnd.jupyter.widget-view+json": {
              "model_id": "a0872cfcf2e14c4f975651b7d906943b",
              "version_major": 2,
              "version_minor": 0
            },
            "text/plain": [
              "Validation: |          | 0/? [00:00<?, ?it/s]"
            ]
          },
          "metadata": {},
          "output_type": "display_data"
        },
        {
          "data": {
            "application/vnd.jupyter.widget-view+json": {
              "model_id": "f24b9a425610476196fbb83eb5358547",
              "version_major": 2,
              "version_minor": 0
            },
            "text/plain": [
              "Validation: |          | 0/? [00:00<?, ?it/s]"
            ]
          },
          "metadata": {},
          "output_type": "display_data"
        },
        {
          "data": {
            "application/vnd.jupyter.widget-view+json": {
              "model_id": "fa8c37e7fb1a41a1a222cc67a9deef92",
              "version_major": 2,
              "version_minor": 0
            },
            "text/plain": [
              "Validation: |          | 0/? [00:00<?, ?it/s]"
            ]
          },
          "metadata": {},
          "output_type": "display_data"
        },
        {
          "name": "stderr",
          "output_type": "stream",
          "text": [
            "Metric train_loss improved by 6.882 >= min_delta = 0.0001. New best score: 29.777\n"
          ]
        },
        {
          "data": {
            "application/vnd.jupyter.widget-view+json": {
              "model_id": "4b33498a11f04b888235db9e78ef3b77",
              "version_major": 2,
              "version_minor": 0
            },
            "text/plain": [
              "Validation: |          | 0/? [00:00<?, ?it/s]"
            ]
          },
          "metadata": {},
          "output_type": "display_data"
        },
        {
          "data": {
            "application/vnd.jupyter.widget-view+json": {
              "model_id": "baf72510bf37443f80d76c523e387d25",
              "version_major": 2,
              "version_minor": 0
            },
            "text/plain": [
              "Validation: |          | 0/? [00:00<?, ?it/s]"
            ]
          },
          "metadata": {},
          "output_type": "display_data"
        },
        {
          "data": {
            "application/vnd.jupyter.widget-view+json": {
              "model_id": "d424ec73cd35433c8541f74f510e5001",
              "version_major": 2,
              "version_minor": 0
            },
            "text/plain": [
              "Validation: |          | 0/? [00:00<?, ?it/s]"
            ]
          },
          "metadata": {},
          "output_type": "display_data"
        },
        {
          "data": {
            "application/vnd.jupyter.widget-view+json": {
              "model_id": "23c1188ce8ec4e07b930f0262f301103",
              "version_major": 2,
              "version_minor": 0
            },
            "text/plain": [
              "Validation: |          | 0/? [00:00<?, ?it/s]"
            ]
          },
          "metadata": {},
          "output_type": "display_data"
        },
        {
          "name": "stderr",
          "output_type": "stream",
          "text": [
            "Metric train_loss improved by 24.827 >= min_delta = 0.0001. New best score: 4.950\n"
          ]
        },
        {
          "data": {
            "application/vnd.jupyter.widget-view+json": {
              "model_id": "a3b27ca5b0aa4b858764b37de24bb2ee",
              "version_major": 2,
              "version_minor": 0
            },
            "text/plain": [
              "Validation: |          | 0/? [00:00<?, ?it/s]"
            ]
          },
          "metadata": {},
          "output_type": "display_data"
        },
        {
          "data": {
            "application/vnd.jupyter.widget-view+json": {
              "model_id": "43bd510034bc441a9339e78b1236a574",
              "version_major": 2,
              "version_minor": 0
            },
            "text/plain": [
              "Validation: |          | 0/? [00:00<?, ?it/s]"
            ]
          },
          "metadata": {},
          "output_type": "display_data"
        },
        {
          "data": {
            "application/vnd.jupyter.widget-view+json": {
              "model_id": "fecef9bc5f804c728a76ef805edda04b",
              "version_major": 2,
              "version_minor": 0
            },
            "text/plain": [
              "Validation: |          | 0/? [00:00<?, ?it/s]"
            ]
          },
          "metadata": {},
          "output_type": "display_data"
        },
        {
          "data": {
            "application/vnd.jupyter.widget-view+json": {
              "model_id": "177f555c90754a1da69b81418d765f19",
              "version_major": 2,
              "version_minor": 0
            },
            "text/plain": [
              "Validation: |          | 0/? [00:00<?, ?it/s]"
            ]
          },
          "metadata": {},
          "output_type": "display_data"
        },
        {
          "data": {
            "application/vnd.jupyter.widget-view+json": {
              "model_id": "9643d81162b04cf497147beaddce8c6f",
              "version_major": 2,
              "version_minor": 0
            },
            "text/plain": [
              "Validation: |          | 0/? [00:00<?, ?it/s]"
            ]
          },
          "metadata": {},
          "output_type": "display_data"
        },
        {
          "name": "stderr",
          "output_type": "stream",
          "text": [
            "Monitored metric train_loss did not improve in the last 5 records. Best score: 4.950. Signaling Trainer to stop.\n"
          ]
        },
        {
          "name": "stdout",
          "output_type": "stream",
          "text": [
            "✅ Training completed!\n",
            "\n",
            "=== Loading Best Model and Creating Validation Dataset ===\n"
          ]
        },
        {
          "name": "stderr",
          "output_type": "stream",
          "text": [
            "💡 Tip: For seamless cloud uploads and versioning, try installing [litmodels](https://pypi.org/project/litmodels/) to enable LitModelCheckpoint, which syncs automatically with the Lightning model registry.\n",
            "GPU available: True (mps), used: True\n",
            "TPU available: False, using: 0 TPU cores\n",
            "HPU available: False, using: 0 HPUs\n"
          ]
        },
        {
          "name": "stdout",
          "output_type": "stream",
          "text": [
            "✓ Best model loaded from: /Users/hwang-yejin/Desktop/Financial Time Series Forecasting with Deep Learning Models and Social Media Sentiment/notebooks/checkpoints/tft-epoch=10-train_loss=4.9501.ckpt\n",
            "✓ Validation dataset created with 1 samples\n",
            "\n",
            "=== Making Predictions ===\n"
          ]
        },
        {
          "name": "stderr",
          "output_type": "stream",
          "text": [
            "Seed set to 44\n"
          ]
        },
        {
          "name": "stdout",
          "output_type": "stream",
          "text": [
            "✓ Predictions made successfully\n",
            "  - Prediction shape: torch.Size([1, 5])\n",
            "  - Actuals shape: torch.Size([1, 5])\n",
            "\n",
            "=== Performance Evaluation ===\n",
            "\n",
            "📊 Model Performance Metrics:\n",
            "  Metric    Value\n",
            "0    MAE   6.7474\n",
            "1    MSE  47.7138\n",
            "2   RMSE   6.9075\n",
            "3   MAPE   2.1312\n",
            "\n",
            "=== TFT Configuration (96-day training, 5-day prediction) ===\n",
            "\n",
            "✓ Configuration set:\n",
            "  - Training start: 2025-02-01\n",
            "  - Training days: 96\n",
            "  - Prediction days: 5\n",
            "  - Max epochs: 30\n",
            "  - Batch size: 128\n",
            "  - Learning rate: 0.03\n",
            "\n",
            "=== Loading and Preparing Data ===\n",
            "✓ Data loaded successfully from /Users/hwang-yejin/Desktop/Financial Time Series Forecasting with Deep Learning Models and Social Media Sentiment/data/processed/tsla_price_sentiment_spike.csv\n",
            "  - Shape: (232, 19)\n",
            "  - Date range: 2024-06-04 to 2025-07-22\n",
            "\n",
            "Data columns:\n",
            "['time_idx', 'date', 'close', 'volume', 'days_since_earning', 'month', 'day_of_week', 'quarter', 'year', 'is_month_end', 'is_month_start', 'rolling_volatility', 'return_1d', 'cumulative_return', 'unique_id', 'daily_sentiment', 'post_count', 'spike_presence', 'spike_intensity', 'daily_sentiment_lag1', 'daily_sentiment_lag2', 'daily_sentiment_lag3', 'daily_sentiment_lag4', 'daily_sentiment_lag5', 'daily_sentiment_mean_3', 'daily_sentiment_std_3', 'daily_sentiment_mean_7', 'daily_sentiment_std_7', 'daily_sentiment_mean_14', 'daily_sentiment_std_14', 'spike_presence_sum_3', 'spike_presence_sum_7', 'spike_presence_sum_14', 'spike_intensity_max_3', 'spike_intensity_max_7', 'spike_intensity_max_14']\n",
            "✓ Using date_anchor approach with user-specified start date\n",
            "  - Training start: 2025-02-01\n",
            "  - Training days: 96\n",
            "  - Prediction days: 5\n",
            "✓ Using 96 training days + 5 prediction days from 2025-02-01\n",
            "  - Total data range: 2025-02-03 00:00:00 to 2025-07-17 00:00:00\n",
            "  - Total data points: 101\n",
            "\n",
            "First few rows:\n",
            "     time_idx       date       close    volume  days_since_earning  month  \\\n",
            "128         0 2025-02-03  383.679993  93732100                   4      2   \n",
            "129         1 2025-02-04  392.209992  57072200                   5      2   \n",
            "130         2 2025-02-05  378.170013  57223300                   6      2   \n",
            "131         3 2025-02-06  374.320007  77918200                   7      2   \n",
            "132         4 2025-02-07  361.619995  70298300                   8      2   \n",
            "\n",
            "     day_of_week  quarter  year  is_month_end  ...  daily_sentiment_mean_7  \\\n",
            "128            0        1  2025             0  ...                0.096856   \n",
            "129            1        1  2025             0  ...                0.194673   \n",
            "130            2        1  2025             0  ...                0.099435   \n",
            "131            3        1  2025             0  ...                0.156311   \n",
            "132            4        1  2025             0  ...                0.030148   \n",
            "\n",
            "     daily_sentiment_std_7  daily_sentiment_mean_14  daily_sentiment_std_14  \\\n",
            "128               0.579758                 0.346741                0.566595   \n",
            "129               0.646536                 0.343357                0.563205   \n",
            "130               0.724404                 0.233630                0.601175   \n",
            "131               0.772430                 0.299381                0.617658   \n",
            "132               0.702926                 0.266204                0.620576   \n",
            "\n",
            "    spike_presence_sum_3  spike_presence_sum_7  spike_presence_sum_14  \\\n",
            "128                  0.0                   0.0                    0.0   \n",
            "129                  0.0                   0.0                    0.0   \n",
            "130                  0.0                   0.0                    0.0   \n",
            "131                  0.0                   0.0                    0.0   \n",
            "132                  0.0                   0.0                    0.0   \n",
            "\n",
            "     spike_intensity_max_3  spike_intensity_max_7  spike_intensity_max_14  \n",
            "128                    0.0                    0.0                     0.0  \n",
            "129                    0.0                    0.0                     0.0  \n",
            "130                    0.0                    0.0                     0.0  \n",
            "131                    0.0                    0.0                     0.0  \n",
            "132                    0.0                    0.0                     0.0  \n",
            "\n",
            "[5 rows x 36 columns]\n",
            "\n",
            "=== Creating TFT Dataset ===\n",
            "  - Total data points: 101\n",
            "  - Encoder length: 96 days\n",
            "  - Prediction length: 5 days\n",
            "  - Minimum required length: 101 days\n",
            "  - Adjusted encoder length to 95 to use all available data\n",
            "  - Using all 101 data points for training\n",
            "  - Known features: ['time_idx', 'month', 'day_of_week', 'quarter', 'year', 'is_month_end', 'is_month_start', 'days_since_earning', 'daily_sentiment_lag1', 'daily_sentiment_lag2', 'daily_sentiment_lag3', 'daily_sentiment_lag4', 'daily_sentiment_lag5', 'daily_sentiment_mean_3', 'daily_sentiment_mean_7', 'daily_sentiment_mean_14', 'daily_sentiment_std_7', 'daily_sentiment_std_14', 'spike_presence_sum_3', 'spike_presence_sum_7', 'spike_presence_sum_14', 'spike_intensity_max_3', 'spike_intensity_max_7', 'spike_intensity_max_14']\n",
            "  - Unknown features: ['close', 'volume', 'rolling_volatility']\n",
            "✓ Training dataset created with 2 samples\n",
            "\n",
            "=== Creating Model and DataLoader ===\n",
            "✓ DataLoader created with batch size 128\n",
            "✓ TFT model created with 50343 parameters\n",
            "  - Learning rate: 0.03\n",
            "  - Hidden size: 16\n",
            "  - Attention heads: 1\n",
            "\n",
            "=== Training TFT Model ===\n"
          ]
        },
        {
          "name": "stderr",
          "output_type": "stream",
          "text": [
            "GPU available: True (mps), used: True\n",
            "TPU available: False, using: 0 TPU cores\n",
            "HPU available: False, using: 0 HPUs\n",
            "\n",
            "   | Name                               | Type                            | Params | Mode \n",
            "------------------------------------------------------------------------------------------------\n",
            "0  | loss                               | TorchMetricWrapper              | 0      | train\n",
            "1  | logging_metrics                    | ModuleList                      | 0      | train\n",
            "2  | input_embeddings                   | MultiEmbedding                  | 1      | train\n",
            "3  | prescalers                         | ModuleDict                      | 432    | train\n",
            "4  | static_variable_selection          | VariableSelectionNetwork        | 48     | train\n",
            "5  | encoder_variable_selection         | VariableSelectionNetwork        | 19.3 K | train\n",
            "6  | decoder_variable_selection         | VariableSelectionNetwork        | 17.2 K | train\n",
            "7  | static_context_variable_selection  | GatedResidualNetwork            | 1.1 K  | train\n",
            "8  | static_context_initial_hidden_lstm | GatedResidualNetwork            | 1.1 K  | train\n",
            "9  | static_context_initial_cell_lstm   | GatedResidualNetwork            | 1.1 K  | train\n",
            "10 | static_context_enrichment          | GatedResidualNetwork            | 1.1 K  | train\n",
            "11 | lstm_encoder                       | LSTM                            | 2.2 K  | train\n",
            "12 | lstm_decoder                       | LSTM                            | 2.2 K  | train\n",
            "13 | post_lstm_gate_encoder             | GatedLinearUnit                 | 544    | train\n",
            "14 | post_lstm_add_norm_encoder         | AddNorm                         | 32     | train\n",
            "15 | static_enrichment                  | GatedResidualNetwork            | 1.4 K  | train\n",
            "16 | multihead_attn                     | InterpretableMultiHeadAttention | 1.1 K  | train\n",
            "17 | post_attn_gate_norm                | GateAddNorm                     | 576    | train\n",
            "18 | pos_wise_ff                        | GatedResidualNetwork            | 1.1 K  | train\n",
            "19 | pre_output_gate_norm               | GateAddNorm                     | 576    | train\n",
            "20 | output_layer                       | Linear                          | 17     | train\n",
            "------------------------------------------------------------------------------------------------\n",
            "50.3 K    Trainable params\n",
            "0         Non-trainable params\n",
            "50.3 K    Total params\n",
            "0.201     Total estimated model params size (MB)\n",
            "888       Modules in train mode\n",
            "0         Modules in eval mode\n"
          ]
        },
        {
          "name": "stdout",
          "output_type": "stream",
          "text": [
            "✓ Trainer configured with 30 max epochs (monitoring train_loss)\n",
            "  - Early stopping enabled\n",
            "  - Learning rate monitoring enabled\n",
            "  - Model checkpointing enabled\n",
            "\n",
            "Starting model training...\n"
          ]
        },
        {
          "data": {
            "application/vnd.jupyter.widget-view+json": {
              "model_id": "8296cb364b3145239e78f71188a87171",
              "version_major": 2,
              "version_minor": 0
            },
            "text/plain": [
              "Sanity Checking: |          | 0/? [00:00<?, ?it/s]"
            ]
          },
          "metadata": {},
          "output_type": "display_data"
        },
        {
          "data": {
            "application/vnd.jupyter.widget-view+json": {
              "model_id": "345d2cdb2bf24f5091a23a606822fc27",
              "version_major": 2,
              "version_minor": 0
            },
            "text/plain": [
              "Training: |          | 0/? [00:00<?, ?it/s]"
            ]
          },
          "metadata": {},
          "output_type": "display_data"
        },
        {
          "data": {
            "application/vnd.jupyter.widget-view+json": {
              "model_id": "1f87d5904e344d7c9c9d62a70b7d055c",
              "version_major": 2,
              "version_minor": 0
            },
            "text/plain": [
              "Validation: |          | 0/? [00:00<?, ?it/s]"
            ]
          },
          "metadata": {},
          "output_type": "display_data"
        },
        {
          "name": "stderr",
          "output_type": "stream",
          "text": [
            "Metric train_loss improved. New best score: 1853.620\n"
          ]
        },
        {
          "data": {
            "application/vnd.jupyter.widget-view+json": {
              "model_id": "95a160698988406a93142a06d42aa7e3",
              "version_major": 2,
              "version_minor": 0
            },
            "text/plain": [
              "Validation: |          | 0/? [00:00<?, ?it/s]"
            ]
          },
          "metadata": {},
          "output_type": "display_data"
        },
        {
          "data": {
            "application/vnd.jupyter.widget-view+json": {
              "model_id": "a3888871e5be4b98af0f297ec9fcf211",
              "version_major": 2,
              "version_minor": 0
            },
            "text/plain": [
              "Validation: |          | 0/? [00:00<?, ?it/s]"
            ]
          },
          "metadata": {},
          "output_type": "display_data"
        },
        {
          "name": "stderr",
          "output_type": "stream",
          "text": [
            "Metric train_loss improved by 713.455 >= min_delta = 0.0001. New best score: 1140.165\n"
          ]
        },
        {
          "data": {
            "application/vnd.jupyter.widget-view+json": {
              "model_id": "c846fa2985894be0b52c43fa772a3123",
              "version_major": 2,
              "version_minor": 0
            },
            "text/plain": [
              "Validation: |          | 0/? [00:00<?, ?it/s]"
            ]
          },
          "metadata": {},
          "output_type": "display_data"
        },
        {
          "name": "stderr",
          "output_type": "stream",
          "text": [
            "Metric train_loss improved by 831.023 >= min_delta = 0.0001. New best score: 309.141\n"
          ]
        },
        {
          "data": {
            "application/vnd.jupyter.widget-view+json": {
              "model_id": "1b679a89d05d4b72b06bd265e7310810",
              "version_major": 2,
              "version_minor": 0
            },
            "text/plain": [
              "Validation: |          | 0/? [00:00<?, ?it/s]"
            ]
          },
          "metadata": {},
          "output_type": "display_data"
        },
        {
          "name": "stderr",
          "output_type": "stream",
          "text": [
            "Metric train_loss improved by 153.717 >= min_delta = 0.0001. New best score: 155.424\n"
          ]
        },
        {
          "data": {
            "application/vnd.jupyter.widget-view+json": {
              "model_id": "cea04519cc4b457e91fcd25ce0c3b668",
              "version_major": 2,
              "version_minor": 0
            },
            "text/plain": [
              "Validation: |          | 0/? [00:00<?, ?it/s]"
            ]
          },
          "metadata": {},
          "output_type": "display_data"
        },
        {
          "name": "stderr",
          "output_type": "stream",
          "text": [
            "Metric train_loss improved by 18.809 >= min_delta = 0.0001. New best score: 136.616\n"
          ]
        },
        {
          "data": {
            "application/vnd.jupyter.widget-view+json": {
              "model_id": "2451982b831a452f9bc8199280b423bb",
              "version_major": 2,
              "version_minor": 0
            },
            "text/plain": [
              "Validation: |          | 0/? [00:00<?, ?it/s]"
            ]
          },
          "metadata": {},
          "output_type": "display_data"
        },
        {
          "name": "stderr",
          "output_type": "stream",
          "text": [
            "Metric train_loss improved by 72.220 >= min_delta = 0.0001. New best score: 64.395\n"
          ]
        },
        {
          "data": {
            "application/vnd.jupyter.widget-view+json": {
              "model_id": "348d342645af45ed85020312e40c153c",
              "version_major": 2,
              "version_minor": 0
            },
            "text/plain": [
              "Validation: |          | 0/? [00:00<?, ?it/s]"
            ]
          },
          "metadata": {},
          "output_type": "display_data"
        },
        {
          "data": {
            "application/vnd.jupyter.widget-view+json": {
              "model_id": "7dde252cc7a646b4a7f6df3d3ecda1b9",
              "version_major": 2,
              "version_minor": 0
            },
            "text/plain": [
              "Validation: |          | 0/? [00:00<?, ?it/s]"
            ]
          },
          "metadata": {},
          "output_type": "display_data"
        },
        {
          "data": {
            "application/vnd.jupyter.widget-view+json": {
              "model_id": "5301a7db98494852abe282853ad07201",
              "version_major": 2,
              "version_minor": 0
            },
            "text/plain": [
              "Validation: |          | 0/? [00:00<?, ?it/s]"
            ]
          },
          "metadata": {},
          "output_type": "display_data"
        },
        {
          "name": "stderr",
          "output_type": "stream",
          "text": [
            "Metric train_loss improved by 14.590 >= min_delta = 0.0001. New best score: 49.805\n"
          ]
        },
        {
          "data": {
            "application/vnd.jupyter.widget-view+json": {
              "model_id": "8ea30cd3e6a247caaf86592e0327c4cf",
              "version_major": 2,
              "version_minor": 0
            },
            "text/plain": [
              "Validation: |          | 0/? [00:00<?, ?it/s]"
            ]
          },
          "metadata": {},
          "output_type": "display_data"
        },
        {
          "data": {
            "application/vnd.jupyter.widget-view+json": {
              "model_id": "d55bbe8006ec40608a84f0e6312ce5af",
              "version_major": 2,
              "version_minor": 0
            },
            "text/plain": [
              "Validation: |          | 0/? [00:00<?, ?it/s]"
            ]
          },
          "metadata": {},
          "output_type": "display_data"
        },
        {
          "data": {
            "application/vnd.jupyter.widget-view+json": {
              "model_id": "3aa2d59fc73444a9b62b8c7d15910426",
              "version_major": 2,
              "version_minor": 0
            },
            "text/plain": [
              "Validation: |          | 0/? [00:00<?, ?it/s]"
            ]
          },
          "metadata": {},
          "output_type": "display_data"
        },
        {
          "data": {
            "application/vnd.jupyter.widget-view+json": {
              "model_id": "6343f64e7af24b98926860e6e6caa6f7",
              "version_major": 2,
              "version_minor": 0
            },
            "text/plain": [
              "Validation: |          | 0/? [00:00<?, ?it/s]"
            ]
          },
          "metadata": {},
          "output_type": "display_data"
        },
        {
          "data": {
            "application/vnd.jupyter.widget-view+json": {
              "model_id": "fa5af2158f51452c8e06f631cda9a654",
              "version_major": 2,
              "version_minor": 0
            },
            "text/plain": [
              "Validation: |          | 0/? [00:00<?, ?it/s]"
            ]
          },
          "metadata": {},
          "output_type": "display_data"
        },
        {
          "name": "stderr",
          "output_type": "stream",
          "text": [
            "Metric train_loss improved by 3.218 >= min_delta = 0.0001. New best score: 46.588\n"
          ]
        },
        {
          "data": {
            "application/vnd.jupyter.widget-view+json": {
              "model_id": "b1247c690bd54eccabdad9973170fc7e",
              "version_major": 2,
              "version_minor": 0
            },
            "text/plain": [
              "Validation: |          | 0/? [00:00<?, ?it/s]"
            ]
          },
          "metadata": {},
          "output_type": "display_data"
        },
        {
          "data": {
            "application/vnd.jupyter.widget-view+json": {
              "model_id": "9667dc6279e845fcbadf0bf236303471",
              "version_major": 2,
              "version_minor": 0
            },
            "text/plain": [
              "Validation: |          | 0/? [00:00<?, ?it/s]"
            ]
          },
          "metadata": {},
          "output_type": "display_data"
        },
        {
          "data": {
            "application/vnd.jupyter.widget-view+json": {
              "model_id": "9e32b055460e4b729050c70fb5018318",
              "version_major": 2,
              "version_minor": 0
            },
            "text/plain": [
              "Validation: |          | 0/? [00:00<?, ?it/s]"
            ]
          },
          "metadata": {},
          "output_type": "display_data"
        },
        {
          "data": {
            "application/vnd.jupyter.widget-view+json": {
              "model_id": "b0cfac3d75134b1491f3d071f877f59c",
              "version_major": 2,
              "version_minor": 0
            },
            "text/plain": [
              "Validation: |          | 0/? [00:00<?, ?it/s]"
            ]
          },
          "metadata": {},
          "output_type": "display_data"
        },
        {
          "name": "stderr",
          "output_type": "stream",
          "text": [
            "Metric train_loss improved by 2.841 >= min_delta = 0.0001. New best score: 43.747\n"
          ]
        },
        {
          "data": {
            "application/vnd.jupyter.widget-view+json": {
              "model_id": "77477c6198fe49a184f64c92882c39a3",
              "version_major": 2,
              "version_minor": 0
            },
            "text/plain": [
              "Validation: |          | 0/? [00:00<?, ?it/s]"
            ]
          },
          "metadata": {},
          "output_type": "display_data"
        },
        {
          "data": {
            "application/vnd.jupyter.widget-view+json": {
              "model_id": "a4d52259f5054071af0747805abeb934",
              "version_major": 2,
              "version_minor": 0
            },
            "text/plain": [
              "Validation: |          | 0/? [00:00<?, ?it/s]"
            ]
          },
          "metadata": {},
          "output_type": "display_data"
        },
        {
          "data": {
            "application/vnd.jupyter.widget-view+json": {
              "model_id": "0ddf6636c7834716a90d3fde89d670e7",
              "version_major": 2,
              "version_minor": 0
            },
            "text/plain": [
              "Validation: |          | 0/? [00:00<?, ?it/s]"
            ]
          },
          "metadata": {},
          "output_type": "display_data"
        },
        {
          "name": "stderr",
          "output_type": "stream",
          "text": [
            "Metric train_loss improved by 13.099 >= min_delta = 0.0001. New best score: 30.648\n"
          ]
        },
        {
          "data": {
            "application/vnd.jupyter.widget-view+json": {
              "model_id": "7cd7a43c8f81446a88f62b094ea238d4",
              "version_major": 2,
              "version_minor": 0
            },
            "text/plain": [
              "Validation: |          | 0/? [00:00<?, ?it/s]"
            ]
          },
          "metadata": {},
          "output_type": "display_data"
        },
        {
          "name": "stderr",
          "output_type": "stream",
          "text": [
            "Metric train_loss improved by 6.211 >= min_delta = 0.0001. New best score: 24.437\n"
          ]
        },
        {
          "data": {
            "application/vnd.jupyter.widget-view+json": {
              "model_id": "5f90095829394c2caee190d4363f8a08",
              "version_major": 2,
              "version_minor": 0
            },
            "text/plain": [
              "Validation: |          | 0/? [00:00<?, ?it/s]"
            ]
          },
          "metadata": {},
          "output_type": "display_data"
        },
        {
          "name": "stderr",
          "output_type": "stream",
          "text": [
            "Metric train_loss improved by 2.291 >= min_delta = 0.0001. New best score: 22.146\n"
          ]
        },
        {
          "data": {
            "application/vnd.jupyter.widget-view+json": {
              "model_id": "174a9bd1c5b64855a85fad9e4b52fbaa",
              "version_major": 2,
              "version_minor": 0
            },
            "text/plain": [
              "Validation: |          | 0/? [00:00<?, ?it/s]"
            ]
          },
          "metadata": {},
          "output_type": "display_data"
        },
        {
          "name": "stderr",
          "output_type": "stream",
          "text": [
            "Metric train_loss improved by 7.725 >= min_delta = 0.0001. New best score: 14.421\n"
          ]
        },
        {
          "data": {
            "application/vnd.jupyter.widget-view+json": {
              "model_id": "07a9fbc4516645cfac6d1a3d3fb328d6",
              "version_major": 2,
              "version_minor": 0
            },
            "text/plain": [
              "Validation: |          | 0/? [00:00<?, ?it/s]"
            ]
          },
          "metadata": {},
          "output_type": "display_data"
        },
        {
          "data": {
            "application/vnd.jupyter.widget-view+json": {
              "model_id": "d784df6da86d45d6a4f9693accaa2975",
              "version_major": 2,
              "version_minor": 0
            },
            "text/plain": [
              "Validation: |          | 0/? [00:00<?, ?it/s]"
            ]
          },
          "metadata": {},
          "output_type": "display_data"
        },
        {
          "data": {
            "application/vnd.jupyter.widget-view+json": {
              "model_id": "04917de9e6bf463d8f43501a44e9b24a",
              "version_major": 2,
              "version_minor": 0
            },
            "text/plain": [
              "Validation: |          | 0/? [00:00<?, ?it/s]"
            ]
          },
          "metadata": {},
          "output_type": "display_data"
        },
        {
          "name": "stderr",
          "output_type": "stream",
          "text": [
            "Metric train_loss improved by 4.871 >= min_delta = 0.0001. New best score: 9.550\n"
          ]
        },
        {
          "data": {
            "application/vnd.jupyter.widget-view+json": {
              "model_id": "27caa963059549e0ac053ad52351ffbf",
              "version_major": 2,
              "version_minor": 0
            },
            "text/plain": [
              "Validation: |          | 0/? [00:00<?, ?it/s]"
            ]
          },
          "metadata": {},
          "output_type": "display_data"
        },
        {
          "data": {
            "application/vnd.jupyter.widget-view+json": {
              "model_id": "365572877f8b4554a5d3a936a883594b",
              "version_major": 2,
              "version_minor": 0
            },
            "text/plain": [
              "Validation: |          | 0/? [00:00<?, ?it/s]"
            ]
          },
          "metadata": {},
          "output_type": "display_data"
        },
        {
          "name": "stderr",
          "output_type": "stream",
          "text": [
            "`Trainer.fit` stopped: `max_epochs=30` reached.\n"
          ]
        },
        {
          "name": "stdout",
          "output_type": "stream",
          "text": [
            "✅ Training completed!\n",
            "\n",
            "=== Loading Best Model and Creating Validation Dataset ===\n"
          ]
        },
        {
          "name": "stderr",
          "output_type": "stream",
          "text": [
            "💡 Tip: For seamless cloud uploads and versioning, try installing [litmodels](https://pypi.org/project/litmodels/) to enable LitModelCheckpoint, which syncs automatically with the Lightning model registry.\n",
            "GPU available: True (mps), used: True\n",
            "TPU available: False, using: 0 TPU cores\n",
            "HPU available: False, using: 0 HPUs\n"
          ]
        },
        {
          "name": "stdout",
          "output_type": "stream",
          "text": [
            "✓ Best model loaded from: /Users/hwang-yejin/Desktop/Financial Time Series Forecasting with Deep Learning Models and Social Media Sentiment/notebooks/checkpoints/tft-epoch=27-train_loss=9.5502.ckpt\n",
            "✓ Validation dataset created with 1 samples\n",
            "\n",
            "=== Making Predictions ===\n"
          ]
        },
        {
          "name": "stderr",
          "output_type": "stream",
          "text": [
            "Seed set to 44\n"
          ]
        },
        {
          "name": "stdout",
          "output_type": "stream",
          "text": [
            "✓ Predictions made successfully\n",
            "  - Prediction shape: torch.Size([1, 5])\n",
            "  - Actuals shape: torch.Size([1, 5])\n",
            "\n",
            "=== Performance Evaluation ===\n",
            "\n",
            "📊 Model Performance Metrics:\n",
            "  Metric   Value\n",
            "0    MAE  1.7114\n",
            "1    MSE  3.8613\n",
            "2   RMSE  1.9650\n",
            "3   MAPE  0.5430\n",
            "\n",
            "=== TFT Configuration (96-day training, 5-day prediction) ===\n",
            "\n",
            "✓ Configuration set:\n",
            "  - Training start: 2025-02-01\n",
            "  - Training days: 96\n",
            "  - Prediction days: 5\n",
            "  - Max epochs: 30\n",
            "  - Batch size: 128\n",
            "  - Learning rate: 0.03\n",
            "\n",
            "=== Loading and Preparing Data ===\n",
            "✓ Data loaded successfully from /Users/hwang-yejin/Desktop/Financial Time Series Forecasting with Deep Learning Models and Social Media Sentiment/data/processed/tsla_price_sentiment_spike_new.csv\n",
            "  - Shape: (232, 20)\n",
            "  - Date range: 2024-06-04 to 2025-07-22\n",
            "\n",
            "Data columns:\n",
            "['time_idx', 'date', 'close', 'volume', 'days_since_earning', 'month', 'day_of_week', 'quarter', 'year', 'is_month_end', 'is_month_start', 'rolling_volatility', 'return_1d', 'cumulative_return', 'unique_id', 'daily_sentiment', 'post_count', 'spike_presence', 'spike_intensity', 'log_close', 'daily_sentiment_lag1', 'daily_sentiment_lag2', 'daily_sentiment_lag3', 'daily_sentiment_lag4', 'daily_sentiment_lag5', 'daily_sentiment_mean_3', 'daily_sentiment_std_3', 'daily_sentiment_mean_7', 'daily_sentiment_std_7', 'daily_sentiment_mean_14', 'daily_sentiment_std_14', 'spike_presence_sum_3', 'spike_presence_sum_7', 'spike_presence_sum_14', 'spike_intensity_max_3', 'spike_intensity_max_7', 'spike_intensity_max_14']\n",
            "✓ Using date_anchor approach with user-specified start date\n",
            "  - Training start: 2025-02-01\n",
            "  - Training days: 96\n",
            "  - Prediction days: 5\n",
            "✓ Using 96 training days + 5 prediction days from 2025-02-01\n",
            "  - Total data range: 2025-02-03 00:00:00 to 2025-07-17 00:00:00\n",
            "  - Total data points: 101\n",
            "\n",
            "First few rows:\n",
            "     time_idx       date       close    volume  days_since_earning  month  \\\n",
            "128         0 2025-02-03  383.679993  93732100                   4      2   \n",
            "129         1 2025-02-04  392.209992  57072200                   5      2   \n",
            "130         2 2025-02-05  378.170013  57223300                   6      2   \n",
            "131         3 2025-02-06  374.320007  77918200                   7      2   \n",
            "132         4 2025-02-07  361.619995  70298300                   8      2   \n",
            "\n",
            "     day_of_week  quarter  year  is_month_end  ...  daily_sentiment_mean_7  \\\n",
            "128            0        1  2025             0  ...                0.362728   \n",
            "129            1        1  2025             0  ...                0.413299   \n",
            "130            2        1  2025             0  ...                0.222823   \n",
            "131            3        1  2025             0  ...                0.206395   \n",
            "132            4        1  2025             0  ...                0.202109   \n",
            "\n",
            "     daily_sentiment_std_7  daily_sentiment_mean_14  daily_sentiment_std_14  \\\n",
            "128               0.696502                 0.574935                0.556323   \n",
            "129               0.721875                 0.575293                0.556525   \n",
            "130               0.747503                 0.479340                0.607818   \n",
            "131               0.730046                 0.520769                0.610743   \n",
            "132               0.725506                 0.542554                0.617081   \n",
            "\n",
            "    spike_presence_sum_3  spike_presence_sum_7  spike_presence_sum_14  \\\n",
            "128                  0.0                   0.0                    0.0   \n",
            "129                  0.0                   0.0                    0.0   \n",
            "130                  0.0                   0.0                    0.0   \n",
            "131                  0.0                   0.0                    0.0   \n",
            "132                  0.0                   0.0                    0.0   \n",
            "\n",
            "     spike_intensity_max_3  spike_intensity_max_7  spike_intensity_max_14  \n",
            "128                    0.0                    0.0                     0.0  \n",
            "129                    0.0                    0.0                     0.0  \n",
            "130                    0.0                    0.0                     0.0  \n",
            "131                    0.0                    0.0                     0.0  \n",
            "132                    0.0                    0.0                     0.0  \n",
            "\n",
            "[5 rows x 37 columns]\n",
            "\n",
            "=== Creating TFT Dataset ===\n",
            "  - Total data points: 101\n",
            "  - Encoder length: 96 days\n",
            "  - Prediction length: 5 days\n",
            "  - Minimum required length: 101 days\n",
            "  - Adjusted encoder length to 95 to use all available data\n",
            "  - Using all 101 data points for training\n",
            "  - Known features: ['time_idx', 'month', 'day_of_week', 'quarter', 'year', 'is_month_end', 'is_month_start', 'days_since_earning', 'daily_sentiment_lag1', 'daily_sentiment_lag2', 'daily_sentiment_lag3', 'daily_sentiment_lag4', 'daily_sentiment_lag5', 'daily_sentiment_mean_3', 'daily_sentiment_mean_7', 'daily_sentiment_mean_14', 'daily_sentiment_std_7', 'daily_sentiment_std_14', 'spike_presence_sum_3', 'spike_presence_sum_7', 'spike_presence_sum_14', 'spike_intensity_max_3', 'spike_intensity_max_7', 'spike_intensity_max_14']\n",
            "  - Unknown features: ['close', 'volume', 'rolling_volatility']\n"
          ]
        },
        {
          "name": "stderr",
          "output_type": "stream",
          "text": [
            "GPU available: True (mps), used: True\n",
            "TPU available: False, using: 0 TPU cores\n",
            "HPU available: False, using: 0 HPUs\n"
          ]
        },
        {
          "name": "stdout",
          "output_type": "stream",
          "text": [
            "✓ Training dataset created with 2 samples\n",
            "\n",
            "=== Creating Model and DataLoader ===\n",
            "✓ DataLoader created with batch size 128\n",
            "✓ TFT model created with 50343 parameters\n",
            "  - Learning rate: 0.03\n",
            "  - Hidden size: 16\n",
            "  - Attention heads: 1\n",
            "\n",
            "=== Training TFT Model ===\n",
            "✓ Trainer configured with 30 max epochs (monitoring train_loss)\n",
            "  - Early stopping enabled\n",
            "  - Learning rate monitoring enabled\n",
            "  - Model checkpointing enabled\n",
            "\n",
            "Starting model training...\n"
          ]
        },
        {
          "name": "stderr",
          "output_type": "stream",
          "text": [
            "\n",
            "   | Name                               | Type                            | Params | Mode \n",
            "------------------------------------------------------------------------------------------------\n",
            "0  | loss                               | TorchMetricWrapper              | 0      | train\n",
            "1  | logging_metrics                    | ModuleList                      | 0      | train\n",
            "2  | input_embeddings                   | MultiEmbedding                  | 1      | train\n",
            "3  | prescalers                         | ModuleDict                      | 432    | train\n",
            "4  | static_variable_selection          | VariableSelectionNetwork        | 48     | train\n",
            "5  | encoder_variable_selection         | VariableSelectionNetwork        | 19.3 K | train\n",
            "6  | decoder_variable_selection         | VariableSelectionNetwork        | 17.2 K | train\n",
            "7  | static_context_variable_selection  | GatedResidualNetwork            | 1.1 K  | train\n",
            "8  | static_context_initial_hidden_lstm | GatedResidualNetwork            | 1.1 K  | train\n",
            "9  | static_context_initial_cell_lstm   | GatedResidualNetwork            | 1.1 K  | train\n",
            "10 | static_context_enrichment          | GatedResidualNetwork            | 1.1 K  | train\n",
            "11 | lstm_encoder                       | LSTM                            | 2.2 K  | train\n",
            "12 | lstm_decoder                       | LSTM                            | 2.2 K  | train\n",
            "13 | post_lstm_gate_encoder             | GatedLinearUnit                 | 544    | train\n",
            "14 | post_lstm_add_norm_encoder         | AddNorm                         | 32     | train\n",
            "15 | static_enrichment                  | GatedResidualNetwork            | 1.4 K  | train\n",
            "16 | multihead_attn                     | InterpretableMultiHeadAttention | 1.1 K  | train\n",
            "17 | post_attn_gate_norm                | GateAddNorm                     | 576    | train\n",
            "18 | pos_wise_ff                        | GatedResidualNetwork            | 1.1 K  | train\n",
            "19 | pre_output_gate_norm               | GateAddNorm                     | 576    | train\n",
            "20 | output_layer                       | Linear                          | 17     | train\n",
            "------------------------------------------------------------------------------------------------\n",
            "50.3 K    Trainable params\n",
            "0         Non-trainable params\n",
            "50.3 K    Total params\n",
            "0.201     Total estimated model params size (MB)\n",
            "888       Modules in train mode\n",
            "0         Modules in eval mode\n"
          ]
        },
        {
          "data": {
            "application/vnd.jupyter.widget-view+json": {
              "model_id": "33760a1460004e869e7bc527afa28b5d",
              "version_major": 2,
              "version_minor": 0
            },
            "text/plain": [
              "Sanity Checking: |          | 0/? [00:00<?, ?it/s]"
            ]
          },
          "metadata": {},
          "output_type": "display_data"
        },
        {
          "data": {
            "application/vnd.jupyter.widget-view+json": {
              "model_id": "96fb8222d5794eeb9d627378c1a257ee",
              "version_major": 2,
              "version_minor": 0
            },
            "text/plain": [
              "Training: |          | 0/? [00:00<?, ?it/s]"
            ]
          },
          "metadata": {},
          "output_type": "display_data"
        },
        {
          "data": {
            "application/vnd.jupyter.widget-view+json": {
              "model_id": "00c47bd5a72d406f865dc7dfd526911a",
              "version_major": 2,
              "version_minor": 0
            },
            "text/plain": [
              "Validation: |          | 0/? [00:00<?, ?it/s]"
            ]
          },
          "metadata": {},
          "output_type": "display_data"
        },
        {
          "name": "stderr",
          "output_type": "stream",
          "text": [
            "Metric train_loss improved. New best score: 1870.110\n"
          ]
        },
        {
          "data": {
            "application/vnd.jupyter.widget-view+json": {
              "model_id": "690c9a8e8864462ba49d90ff00c26b1f",
              "version_major": 2,
              "version_minor": 0
            },
            "text/plain": [
              "Validation: |          | 0/? [00:00<?, ?it/s]"
            ]
          },
          "metadata": {},
          "output_type": "display_data"
        },
        {
          "data": {
            "application/vnd.jupyter.widget-view+json": {
              "model_id": "6348f265fcb24ab2b01a1795cf228910",
              "version_major": 2,
              "version_minor": 0
            },
            "text/plain": [
              "Validation: |          | 0/? [00:00<?, ?it/s]"
            ]
          },
          "metadata": {},
          "output_type": "display_data"
        },
        {
          "name": "stderr",
          "output_type": "stream",
          "text": [
            "Metric train_loss improved by 1027.540 >= min_delta = 0.0001. New best score: 842.570\n"
          ]
        },
        {
          "data": {
            "application/vnd.jupyter.widget-view+json": {
              "model_id": "8cc5ddfb885447dd85f24fc9fa53ac9f",
              "version_major": 2,
              "version_minor": 0
            },
            "text/plain": [
              "Validation: |          | 0/? [00:00<?, ?it/s]"
            ]
          },
          "metadata": {},
          "output_type": "display_data"
        },
        {
          "name": "stderr",
          "output_type": "stream",
          "text": [
            "Metric train_loss improved by 307.427 >= min_delta = 0.0001. New best score: 535.143\n"
          ]
        },
        {
          "data": {
            "application/vnd.jupyter.widget-view+json": {
              "model_id": "ccbc85a5ad8a483287494db45d6d0e7a",
              "version_major": 2,
              "version_minor": 0
            },
            "text/plain": [
              "Validation: |          | 0/? [00:00<?, ?it/s]"
            ]
          },
          "metadata": {},
          "output_type": "display_data"
        },
        {
          "name": "stderr",
          "output_type": "stream",
          "text": [
            "Metric train_loss improved by 472.953 >= min_delta = 0.0001. New best score: 62.190\n"
          ]
        },
        {
          "data": {
            "application/vnd.jupyter.widget-view+json": {
              "model_id": "43cba98f6dce4ef6aa4e1cfd08d8cc48",
              "version_major": 2,
              "version_minor": 0
            },
            "text/plain": [
              "Validation: |          | 0/? [00:00<?, ?it/s]"
            ]
          },
          "metadata": {},
          "output_type": "display_data"
        },
        {
          "data": {
            "application/vnd.jupyter.widget-view+json": {
              "model_id": "acbf0889481c46d19a1655930b11508b",
              "version_major": 2,
              "version_minor": 0
            },
            "text/plain": [
              "Validation: |          | 0/? [00:00<?, ?it/s]"
            ]
          },
          "metadata": {},
          "output_type": "display_data"
        },
        {
          "data": {
            "application/vnd.jupyter.widget-view+json": {
              "model_id": "be74e472f57a42afb7500bc887d9b08a",
              "version_major": 2,
              "version_minor": 0
            },
            "text/plain": [
              "Validation: |          | 0/? [00:00<?, ?it/s]"
            ]
          },
          "metadata": {},
          "output_type": "display_data"
        },
        {
          "data": {
            "application/vnd.jupyter.widget-view+json": {
              "model_id": "7b75dc6fa5694a94a4b6792061dbb371",
              "version_major": 2,
              "version_minor": 0
            },
            "text/plain": [
              "Validation: |          | 0/? [00:00<?, ?it/s]"
            ]
          },
          "metadata": {},
          "output_type": "display_data"
        },
        {
          "data": {
            "application/vnd.jupyter.widget-view+json": {
              "model_id": "5770d4fb22934495a6ae73910fff97ca",
              "version_major": 2,
              "version_minor": 0
            },
            "text/plain": [
              "Validation: |          | 0/? [00:00<?, ?it/s]"
            ]
          },
          "metadata": {},
          "output_type": "display_data"
        },
        {
          "name": "stderr",
          "output_type": "stream",
          "text": [
            "Monitored metric train_loss did not improve in the last 5 records. Best score: 62.190. Signaling Trainer to stop.\n"
          ]
        },
        {
          "name": "stdout",
          "output_type": "stream",
          "text": [
            "✅ Training completed!\n",
            "\n",
            "=== Loading Best Model and Creating Validation Dataset ===\n"
          ]
        },
        {
          "name": "stderr",
          "output_type": "stream",
          "text": [
            "💡 Tip: For seamless cloud uploads and versioning, try installing [litmodels](https://pypi.org/project/litmodels/) to enable LitModelCheckpoint, which syncs automatically with the Lightning model registry.\n",
            "GPU available: True (mps), used: True\n",
            "TPU available: False, using: 0 TPU cores\n",
            "HPU available: False, using: 0 HPUs\n"
          ]
        },
        {
          "name": "stdout",
          "output_type": "stream",
          "text": [
            "✓ Best model loaded from: /Users/hwang-yejin/Desktop/Financial Time Series Forecasting with Deep Learning Models and Social Media Sentiment/notebooks/checkpoints/tft-epoch=04-train_loss=62.1899.ckpt\n",
            "✓ Validation dataset created with 1 samples\n",
            "\n",
            "=== Making Predictions ===\n"
          ]
        },
        {
          "name": "stderr",
          "output_type": "stream",
          "text": [
            "Seed set to 45\n"
          ]
        },
        {
          "name": "stdout",
          "output_type": "stream",
          "text": [
            "✓ Predictions made successfully\n",
            "  - Prediction shape: torch.Size([1, 5])\n",
            "  - Actuals shape: torch.Size([1, 5])\n",
            "\n",
            "=== Performance Evaluation ===\n",
            "\n",
            "📊 Model Performance Metrics:\n",
            "  Metric     Value\n",
            "0    MAE   14.7557\n",
            "1    MSE  235.4535\n",
            "2   RMSE   15.3445\n",
            "3   MAPE    4.6841\n",
            "\n",
            "=== TFT Configuration (96-day training, 5-day prediction) ===\n",
            "\n",
            "✓ Configuration set:\n",
            "  - Training start: 2025-02-01\n",
            "  - Training days: 96\n",
            "  - Prediction days: 5\n",
            "  - Max epochs: 30\n",
            "  - Batch size: 128\n",
            "  - Learning rate: 0.03\n",
            "\n",
            "=== Loading and Preparing Data ===\n",
            "✓ Data loaded successfully from /Users/hwang-yejin/Desktop/Financial Time Series Forecasting with Deep Learning Models and Social Media Sentiment/data/processed/tsla_price_sentiment_spike.csv\n",
            "  - Shape: (232, 19)\n",
            "  - Date range: 2024-06-04 to 2025-07-22\n",
            "\n",
            "Data columns:\n",
            "['time_idx', 'date', 'close', 'volume', 'days_since_earning', 'month', 'day_of_week', 'quarter', 'year', 'is_month_end', 'is_month_start', 'rolling_volatility', 'return_1d', 'cumulative_return', 'unique_id', 'daily_sentiment', 'post_count', 'spike_presence', 'spike_intensity', 'daily_sentiment_lag1', 'daily_sentiment_lag2', 'daily_sentiment_lag3', 'daily_sentiment_lag4', 'daily_sentiment_lag5', 'daily_sentiment_mean_3', 'daily_sentiment_std_3', 'daily_sentiment_mean_7', 'daily_sentiment_std_7', 'daily_sentiment_mean_14', 'daily_sentiment_std_14', 'spike_presence_sum_3', 'spike_presence_sum_7', 'spike_presence_sum_14', 'spike_intensity_max_3', 'spike_intensity_max_7', 'spike_intensity_max_14']\n",
            "✓ Using date_anchor approach with user-specified start date\n",
            "  - Training start: 2025-02-01\n",
            "  - Training days: 96\n",
            "  - Prediction days: 5\n",
            "✓ Using 96 training days + 5 prediction days from 2025-02-01\n",
            "  - Total data range: 2025-02-03 00:00:00 to 2025-07-17 00:00:00\n",
            "  - Total data points: 101\n",
            "\n",
            "First few rows:\n",
            "     time_idx       date       close    volume  days_since_earning  month  \\\n",
            "128         0 2025-02-03  383.679993  93732100                   4      2   \n",
            "129         1 2025-02-04  392.209992  57072200                   5      2   \n",
            "130         2 2025-02-05  378.170013  57223300                   6      2   \n",
            "131         3 2025-02-06  374.320007  77918200                   7      2   \n",
            "132         4 2025-02-07  361.619995  70298300                   8      2   \n",
            "\n",
            "     day_of_week  quarter  year  is_month_end  ...  daily_sentiment_mean_7  \\\n",
            "128            0        1  2025             0  ...                0.096856   \n",
            "129            1        1  2025             0  ...                0.194673   \n",
            "130            2        1  2025             0  ...                0.099435   \n",
            "131            3        1  2025             0  ...                0.156311   \n",
            "132            4        1  2025             0  ...                0.030148   \n",
            "\n",
            "     daily_sentiment_std_7  daily_sentiment_mean_14  daily_sentiment_std_14  \\\n",
            "128               0.579758                 0.346741                0.566595   \n",
            "129               0.646536                 0.343357                0.563205   \n",
            "130               0.724404                 0.233630                0.601175   \n",
            "131               0.772430                 0.299381                0.617658   \n",
            "132               0.702926                 0.266204                0.620576   \n",
            "\n",
            "    spike_presence_sum_3  spike_presence_sum_7  spike_presence_sum_14  \\\n",
            "128                  0.0                   0.0                    0.0   \n",
            "129                  0.0                   0.0                    0.0   \n",
            "130                  0.0                   0.0                    0.0   \n",
            "131                  0.0                   0.0                    0.0   \n",
            "132                  0.0                   0.0                    0.0   \n",
            "\n",
            "     spike_intensity_max_3  spike_intensity_max_7  spike_intensity_max_14  \n",
            "128                    0.0                    0.0                     0.0  \n",
            "129                    0.0                    0.0                     0.0  \n",
            "130                    0.0                    0.0                     0.0  \n",
            "131                    0.0                    0.0                     0.0  \n",
            "132                    0.0                    0.0                     0.0  \n",
            "\n",
            "[5 rows x 36 columns]\n",
            "\n",
            "=== Creating TFT Dataset ===\n",
            "  - Total data points: 101\n",
            "  - Encoder length: 96 days\n",
            "  - Prediction length: 5 days\n",
            "  - Minimum required length: 101 days\n",
            "  - Adjusted encoder length to 95 to use all available data\n",
            "  - Using all 101 data points for training\n",
            "  - Known features: ['time_idx', 'month', 'day_of_week', 'quarter', 'year', 'is_month_end', 'is_month_start', 'days_since_earning', 'daily_sentiment_lag1', 'daily_sentiment_lag2', 'daily_sentiment_lag3', 'daily_sentiment_lag4', 'daily_sentiment_lag5', 'daily_sentiment_mean_3', 'daily_sentiment_mean_7', 'daily_sentiment_mean_14', 'daily_sentiment_std_7', 'daily_sentiment_std_14', 'spike_presence_sum_3', 'spike_presence_sum_7', 'spike_presence_sum_14', 'spike_intensity_max_3', 'spike_intensity_max_7', 'spike_intensity_max_14']\n",
            "  - Unknown features: ['close', 'volume', 'rolling_volatility']\n"
          ]
        },
        {
          "name": "stderr",
          "output_type": "stream",
          "text": [
            "GPU available: True (mps), used: True\n",
            "TPU available: False, using: 0 TPU cores\n",
            "HPU available: False, using: 0 HPUs\n"
          ]
        },
        {
          "name": "stdout",
          "output_type": "stream",
          "text": [
            "✓ Training dataset created with 2 samples\n",
            "\n",
            "=== Creating Model and DataLoader ===\n",
            "✓ DataLoader created with batch size 128\n",
            "✓ TFT model created with 50343 parameters\n",
            "  - Learning rate: 0.03\n",
            "  - Hidden size: 16\n",
            "  - Attention heads: 1\n",
            "\n",
            "=== Training TFT Model ===\n",
            "✓ Trainer configured with 30 max epochs (monitoring train_loss)\n",
            "  - Early stopping enabled\n",
            "  - Learning rate monitoring enabled\n",
            "  - Model checkpointing enabled\n",
            "\n",
            "Starting model training...\n"
          ]
        },
        {
          "name": "stderr",
          "output_type": "stream",
          "text": [
            "\n",
            "   | Name                               | Type                            | Params | Mode \n",
            "------------------------------------------------------------------------------------------------\n",
            "0  | loss                               | TorchMetricWrapper              | 0      | train\n",
            "1  | logging_metrics                    | ModuleList                      | 0      | train\n",
            "2  | input_embeddings                   | MultiEmbedding                  | 1      | train\n",
            "3  | prescalers                         | ModuleDict                      | 432    | train\n",
            "4  | static_variable_selection          | VariableSelectionNetwork        | 48     | train\n",
            "5  | encoder_variable_selection         | VariableSelectionNetwork        | 19.3 K | train\n",
            "6  | decoder_variable_selection         | VariableSelectionNetwork        | 17.2 K | train\n",
            "7  | static_context_variable_selection  | GatedResidualNetwork            | 1.1 K  | train\n",
            "8  | static_context_initial_hidden_lstm | GatedResidualNetwork            | 1.1 K  | train\n",
            "9  | static_context_initial_cell_lstm   | GatedResidualNetwork            | 1.1 K  | train\n",
            "10 | static_context_enrichment          | GatedResidualNetwork            | 1.1 K  | train\n",
            "11 | lstm_encoder                       | LSTM                            | 2.2 K  | train\n",
            "12 | lstm_decoder                       | LSTM                            | 2.2 K  | train\n",
            "13 | post_lstm_gate_encoder             | GatedLinearUnit                 | 544    | train\n",
            "14 | post_lstm_add_norm_encoder         | AddNorm                         | 32     | train\n",
            "15 | static_enrichment                  | GatedResidualNetwork            | 1.4 K  | train\n",
            "16 | multihead_attn                     | InterpretableMultiHeadAttention | 1.1 K  | train\n",
            "17 | post_attn_gate_norm                | GateAddNorm                     | 576    | train\n",
            "18 | pos_wise_ff                        | GatedResidualNetwork            | 1.1 K  | train\n",
            "19 | pre_output_gate_norm               | GateAddNorm                     | 576    | train\n",
            "20 | output_layer                       | Linear                          | 17     | train\n",
            "------------------------------------------------------------------------------------------------\n",
            "50.3 K    Trainable params\n",
            "0         Non-trainable params\n",
            "50.3 K    Total params\n",
            "0.201     Total estimated model params size (MB)\n",
            "888       Modules in train mode\n",
            "0         Modules in eval mode\n"
          ]
        },
        {
          "data": {
            "application/vnd.jupyter.widget-view+json": {
              "model_id": "6ef792566a2a4a96879f231b99e6d998",
              "version_major": 2,
              "version_minor": 0
            },
            "text/plain": [
              "Sanity Checking: |          | 0/? [00:00<?, ?it/s]"
            ]
          },
          "metadata": {},
          "output_type": "display_data"
        },
        {
          "data": {
            "application/vnd.jupyter.widget-view+json": {
              "model_id": "12a2c17cc65448dabee05463b9ce24ff",
              "version_major": 2,
              "version_minor": 0
            },
            "text/plain": [
              "Training: |          | 0/? [00:00<?, ?it/s]"
            ]
          },
          "metadata": {},
          "output_type": "display_data"
        },
        {
          "data": {
            "application/vnd.jupyter.widget-view+json": {
              "model_id": "31b539c3726745c5bba532d9570d948b",
              "version_major": 2,
              "version_minor": 0
            },
            "text/plain": [
              "Validation: |          | 0/? [00:00<?, ?it/s]"
            ]
          },
          "metadata": {},
          "output_type": "display_data"
        },
        {
          "name": "stderr",
          "output_type": "stream",
          "text": [
            "Metric train_loss improved. New best score: 136.524\n"
          ]
        },
        {
          "data": {
            "application/vnd.jupyter.widget-view+json": {
              "model_id": "a562dd7454744cc2b7f83c2ae2b1278b",
              "version_major": 2,
              "version_minor": 0
            },
            "text/plain": [
              "Validation: |          | 0/? [00:00<?, ?it/s]"
            ]
          },
          "metadata": {},
          "output_type": "display_data"
        },
        {
          "data": {
            "application/vnd.jupyter.widget-view+json": {
              "model_id": "9e10baa61d6c43d1a23d8320b4b28873",
              "version_major": 2,
              "version_minor": 0
            },
            "text/plain": [
              "Validation: |          | 0/? [00:00<?, ?it/s]"
            ]
          },
          "metadata": {},
          "output_type": "display_data"
        },
        {
          "data": {
            "application/vnd.jupyter.widget-view+json": {
              "model_id": "299b59098d3c4d2784c932cb36198257",
              "version_major": 2,
              "version_minor": 0
            },
            "text/plain": [
              "Validation: |          | 0/? [00:00<?, ?it/s]"
            ]
          },
          "metadata": {},
          "output_type": "display_data"
        },
        {
          "name": "stderr",
          "output_type": "stream",
          "text": [
            "Metric train_loss improved by 73.328 >= min_delta = 0.0001. New best score: 63.196\n"
          ]
        },
        {
          "data": {
            "application/vnd.jupyter.widget-view+json": {
              "model_id": "77870dcd24ea4571ab2fd5cbff74d7ce",
              "version_major": 2,
              "version_minor": 0
            },
            "text/plain": [
              "Validation: |          | 0/? [00:00<?, ?it/s]"
            ]
          },
          "metadata": {},
          "output_type": "display_data"
        },
        {
          "data": {
            "application/vnd.jupyter.widget-view+json": {
              "model_id": "d75c4417a30b470780973d5afe9536ce",
              "version_major": 2,
              "version_minor": 0
            },
            "text/plain": [
              "Validation: |          | 0/? [00:00<?, ?it/s]"
            ]
          },
          "metadata": {},
          "output_type": "display_data"
        },
        {
          "data": {
            "application/vnd.jupyter.widget-view+json": {
              "model_id": "bd3d7e5b07b74526907a849e7dab4dfa",
              "version_major": 2,
              "version_minor": 0
            },
            "text/plain": [
              "Validation: |          | 0/? [00:00<?, ?it/s]"
            ]
          },
          "metadata": {},
          "output_type": "display_data"
        },
        {
          "data": {
            "application/vnd.jupyter.widget-view+json": {
              "model_id": "4e01fa22f6514e8680d7a112ac7a1a6b",
              "version_major": 2,
              "version_minor": 0
            },
            "text/plain": [
              "Validation: |          | 0/? [00:00<?, ?it/s]"
            ]
          },
          "metadata": {},
          "output_type": "display_data"
        },
        {
          "data": {
            "application/vnd.jupyter.widget-view+json": {
              "model_id": "a01c9f8cd58c419a8633220bfa937bb8",
              "version_major": 2,
              "version_minor": 0
            },
            "text/plain": [
              "Validation: |          | 0/? [00:00<?, ?it/s]"
            ]
          },
          "metadata": {},
          "output_type": "display_data"
        },
        {
          "name": "stderr",
          "output_type": "stream",
          "text": [
            "Metric train_loss improved by 36.137 >= min_delta = 0.0001. New best score: 27.059\n"
          ]
        },
        {
          "data": {
            "application/vnd.jupyter.widget-view+json": {
              "model_id": "6e71ce1b75974d5f94f1c8467e3ded1f",
              "version_major": 2,
              "version_minor": 0
            },
            "text/plain": [
              "Validation: |          | 0/? [00:00<?, ?it/s]"
            ]
          },
          "metadata": {},
          "output_type": "display_data"
        },
        {
          "data": {
            "application/vnd.jupyter.widget-view+json": {
              "model_id": "af1c4135c4304b93af53aaff7b55329a",
              "version_major": 2,
              "version_minor": 0
            },
            "text/plain": [
              "Validation: |          | 0/? [00:00<?, ?it/s]"
            ]
          },
          "metadata": {},
          "output_type": "display_data"
        },
        {
          "name": "stderr",
          "output_type": "stream",
          "text": [
            "Metric train_loss improved by 16.288 >= min_delta = 0.0001. New best score: 10.771\n"
          ]
        },
        {
          "data": {
            "application/vnd.jupyter.widget-view+json": {
              "model_id": "36bbee218b67404fa35131eaf9f20c3a",
              "version_major": 2,
              "version_minor": 0
            },
            "text/plain": [
              "Validation: |          | 0/? [00:00<?, ?it/s]"
            ]
          },
          "metadata": {},
          "output_type": "display_data"
        },
        {
          "data": {
            "application/vnd.jupyter.widget-view+json": {
              "model_id": "733bb2bab4f14adf86941323f051b6dc",
              "version_major": 2,
              "version_minor": 0
            },
            "text/plain": [
              "Validation: |          | 0/? [00:00<?, ?it/s]"
            ]
          },
          "metadata": {},
          "output_type": "display_data"
        },
        {
          "data": {
            "application/vnd.jupyter.widget-view+json": {
              "model_id": "f16a5a356c1448efaff1e70411cc1156",
              "version_major": 2,
              "version_minor": 0
            },
            "text/plain": [
              "Validation: |          | 0/? [00:00<?, ?it/s]"
            ]
          },
          "metadata": {},
          "output_type": "display_data"
        },
        {
          "data": {
            "application/vnd.jupyter.widget-view+json": {
              "model_id": "04f7050695d44bfabebfb4651d6efffd",
              "version_major": 2,
              "version_minor": 0
            },
            "text/plain": [
              "Validation: |          | 0/? [00:00<?, ?it/s]"
            ]
          },
          "metadata": {},
          "output_type": "display_data"
        },
        {
          "data": {
            "application/vnd.jupyter.widget-view+json": {
              "model_id": "cfb2ce45444340a7998b0121ed2023a2",
              "version_major": 2,
              "version_minor": 0
            },
            "text/plain": [
              "Validation: |          | 0/? [00:00<?, ?it/s]"
            ]
          },
          "metadata": {},
          "output_type": "display_data"
        },
        {
          "name": "stderr",
          "output_type": "stream",
          "text": [
            "Metric train_loss improved by 3.668 >= min_delta = 0.0001. New best score: 7.103\n"
          ]
        },
        {
          "data": {
            "application/vnd.jupyter.widget-view+json": {
              "model_id": "e316fbbdd4a3442abec74c1ccf7d327c",
              "version_major": 2,
              "version_minor": 0
            },
            "text/plain": [
              "Validation: |          | 0/? [00:00<?, ?it/s]"
            ]
          },
          "metadata": {},
          "output_type": "display_data"
        },
        {
          "data": {
            "application/vnd.jupyter.widget-view+json": {
              "model_id": "a841ee0d956a45a1a92c67cc25403ac4",
              "version_major": 2,
              "version_minor": 0
            },
            "text/plain": [
              "Validation: |          | 0/? [00:00<?, ?it/s]"
            ]
          },
          "metadata": {},
          "output_type": "display_data"
        },
        {
          "name": "stderr",
          "output_type": "stream",
          "text": [
            "Metric train_loss improved by 1.292 >= min_delta = 0.0001. New best score: 5.811\n"
          ]
        },
        {
          "data": {
            "application/vnd.jupyter.widget-view+json": {
              "model_id": "0d1315b7a2074c25856a32e5440c513b",
              "version_major": 2,
              "version_minor": 0
            },
            "text/plain": [
              "Validation: |          | 0/? [00:00<?, ?it/s]"
            ]
          },
          "metadata": {},
          "output_type": "display_data"
        },
        {
          "data": {
            "application/vnd.jupyter.widget-view+json": {
              "model_id": "9281799fe3f64ae4a905180cb9ed4cd3",
              "version_major": 2,
              "version_minor": 0
            },
            "text/plain": [
              "Validation: |          | 0/? [00:00<?, ?it/s]"
            ]
          },
          "metadata": {},
          "output_type": "display_data"
        },
        {
          "data": {
            "application/vnd.jupyter.widget-view+json": {
              "model_id": "6cb6902649e84009865d29f20dc264d8",
              "version_major": 2,
              "version_minor": 0
            },
            "text/plain": [
              "Validation: |          | 0/? [00:00<?, ?it/s]"
            ]
          },
          "metadata": {},
          "output_type": "display_data"
        },
        {
          "data": {
            "application/vnd.jupyter.widget-view+json": {
              "model_id": "5f3ddc278b584670b99bb4634a079ae0",
              "version_major": 2,
              "version_minor": 0
            },
            "text/plain": [
              "Validation: |          | 0/? [00:00<?, ?it/s]"
            ]
          },
          "metadata": {},
          "output_type": "display_data"
        },
        {
          "name": "stderr",
          "output_type": "stream",
          "text": [
            "Metric train_loss improved by 0.818 >= min_delta = 0.0001. New best score: 4.993\n"
          ]
        },
        {
          "data": {
            "application/vnd.jupyter.widget-view+json": {
              "model_id": "e22d53148b5f4fe893c8d7be8bad8fd4",
              "version_major": 2,
              "version_minor": 0
            },
            "text/plain": [
              "Validation: |          | 0/? [00:00<?, ?it/s]"
            ]
          },
          "metadata": {},
          "output_type": "display_data"
        },
        {
          "data": {
            "application/vnd.jupyter.widget-view+json": {
              "model_id": "9d1a37014f894b37988d43b36f4f50eb",
              "version_major": 2,
              "version_minor": 0
            },
            "text/plain": [
              "Validation: |          | 0/? [00:00<?, ?it/s]"
            ]
          },
          "metadata": {},
          "output_type": "display_data"
        },
        {
          "name": "stderr",
          "output_type": "stream",
          "text": [
            "Metric train_loss improved by 3.124 >= min_delta = 0.0001. New best score: 1.869\n"
          ]
        },
        {
          "data": {
            "application/vnd.jupyter.widget-view+json": {
              "model_id": "9078550a263c46b091a1c0ca5041dc5a",
              "version_major": 2,
              "version_minor": 0
            },
            "text/plain": [
              "Validation: |          | 0/? [00:00<?, ?it/s]"
            ]
          },
          "metadata": {},
          "output_type": "display_data"
        },
        {
          "data": {
            "application/vnd.jupyter.widget-view+json": {
              "model_id": "c981700210c943148ba9c4788a15f646",
              "version_major": 2,
              "version_minor": 0
            },
            "text/plain": [
              "Validation: |          | 0/? [00:00<?, ?it/s]"
            ]
          },
          "metadata": {},
          "output_type": "display_data"
        },
        {
          "data": {
            "application/vnd.jupyter.widget-view+json": {
              "model_id": "71b5447e6ad5433287f5af9251543740",
              "version_major": 2,
              "version_minor": 0
            },
            "text/plain": [
              "Validation: |          | 0/? [00:00<?, ?it/s]"
            ]
          },
          "metadata": {},
          "output_type": "display_data"
        },
        {
          "data": {
            "application/vnd.jupyter.widget-view+json": {
              "model_id": "4d784bdc6e6a482abfaccfe015c6e5b1",
              "version_major": 2,
              "version_minor": 0
            },
            "text/plain": [
              "Validation: |          | 0/? [00:00<?, ?it/s]"
            ]
          },
          "metadata": {},
          "output_type": "display_data"
        },
        {
          "data": {
            "application/vnd.jupyter.widget-view+json": {
              "model_id": "afd2317f055844efab5ec6c286411439",
              "version_major": 2,
              "version_minor": 0
            },
            "text/plain": [
              "Validation: |          | 0/? [00:00<?, ?it/s]"
            ]
          },
          "metadata": {},
          "output_type": "display_data"
        },
        {
          "name": "stderr",
          "output_type": "stream",
          "text": [
            "Monitored metric train_loss did not improve in the last 5 records. Best score: 1.869. Signaling Trainer to stop.\n"
          ]
        },
        {
          "name": "stdout",
          "output_type": "stream",
          "text": [
            "✅ Training completed!\n",
            "\n",
            "=== Loading Best Model and Creating Validation Dataset ===\n"
          ]
        },
        {
          "name": "stderr",
          "output_type": "stream",
          "text": [
            "💡 Tip: For seamless cloud uploads and versioning, try installing [litmodels](https://pypi.org/project/litmodels/) to enable LitModelCheckpoint, which syncs automatically with the Lightning model registry.\n",
            "GPU available: True (mps), used: True\n",
            "TPU available: False, using: 0 TPU cores\n",
            "HPU available: False, using: 0 HPUs\n"
          ]
        },
        {
          "name": "stdout",
          "output_type": "stream",
          "text": [
            "✓ Best model loaded from: /Users/hwang-yejin/Desktop/Financial Time Series Forecasting with Deep Learning Models and Social Media Sentiment/notebooks/checkpoints/tft-epoch=23-train_loss=1.8686.ckpt\n",
            "✓ Validation dataset created with 1 samples\n",
            "\n",
            "=== Making Predictions ===\n"
          ]
        },
        {
          "name": "stderr",
          "output_type": "stream",
          "text": [
            "Seed set to 45\n"
          ]
        },
        {
          "name": "stdout",
          "output_type": "stream",
          "text": [
            "✓ Predictions made successfully\n",
            "  - Prediction shape: torch.Size([1, 5])\n",
            "  - Actuals shape: torch.Size([1, 5])\n",
            "\n",
            "=== Performance Evaluation ===\n",
            "\n",
            "📊 Model Performance Metrics:\n",
            "  Metric   Value\n",
            "0    MAE  1.3124\n",
            "1    MSE  3.1258\n",
            "2   RMSE  1.7680\n",
            "3   MAPE  0.4190\n",
            "\n",
            "=== TFT Configuration (96-day training, 5-day prediction) ===\n",
            "\n",
            "✓ Configuration set:\n",
            "  - Training start: 2025-02-01\n",
            "  - Training days: 96\n",
            "  - Prediction days: 5\n",
            "  - Max epochs: 30\n",
            "  - Batch size: 128\n",
            "  - Learning rate: 0.03\n",
            "\n",
            "=== Loading and Preparing Data ===\n",
            "✓ Data loaded successfully from /Users/hwang-yejin/Desktop/Financial Time Series Forecasting with Deep Learning Models and Social Media Sentiment/data/processed/tsla_price_sentiment_spike_new.csv\n",
            "  - Shape: (232, 20)\n",
            "  - Date range: 2024-06-04 to 2025-07-22\n"
          ]
        },
        {
          "name": "stderr",
          "output_type": "stream",
          "text": [
            "GPU available: True (mps), used: True\n",
            "TPU available: False, using: 0 TPU cores\n",
            "HPU available: False, using: 0 HPUs\n"
          ]
        },
        {
          "name": "stdout",
          "output_type": "stream",
          "text": [
            "\n",
            "Data columns:\n",
            "['time_idx', 'date', 'close', 'volume', 'days_since_earning', 'month', 'day_of_week', 'quarter', 'year', 'is_month_end', 'is_month_start', 'rolling_volatility', 'return_1d', 'cumulative_return', 'unique_id', 'daily_sentiment', 'post_count', 'spike_presence', 'spike_intensity', 'log_close', 'daily_sentiment_lag1', 'daily_sentiment_lag2', 'daily_sentiment_lag3', 'daily_sentiment_lag4', 'daily_sentiment_lag5', 'daily_sentiment_mean_3', 'daily_sentiment_std_3', 'daily_sentiment_mean_7', 'daily_sentiment_std_7', 'daily_sentiment_mean_14', 'daily_sentiment_std_14', 'spike_presence_sum_3', 'spike_presence_sum_7', 'spike_presence_sum_14', 'spike_intensity_max_3', 'spike_intensity_max_7', 'spike_intensity_max_14']\n",
            "✓ Using date_anchor approach with user-specified start date\n",
            "  - Training start: 2025-02-01\n",
            "  - Training days: 96\n",
            "  - Prediction days: 5\n",
            "✓ Using 96 training days + 5 prediction days from 2025-02-01\n",
            "  - Total data range: 2025-02-03 00:00:00 to 2025-07-17 00:00:00\n",
            "  - Total data points: 101\n",
            "\n",
            "First few rows:\n",
            "     time_idx       date       close    volume  days_since_earning  month  \\\n",
            "128         0 2025-02-03  383.679993  93732100                   4      2   \n",
            "129         1 2025-02-04  392.209992  57072200                   5      2   \n",
            "130         2 2025-02-05  378.170013  57223300                   6      2   \n",
            "131         3 2025-02-06  374.320007  77918200                   7      2   \n",
            "132         4 2025-02-07  361.619995  70298300                   8      2   \n",
            "\n",
            "     day_of_week  quarter  year  is_month_end  ...  daily_sentiment_mean_7  \\\n",
            "128            0        1  2025             0  ...                0.362728   \n",
            "129            1        1  2025             0  ...                0.413299   \n",
            "130            2        1  2025             0  ...                0.222823   \n",
            "131            3        1  2025             0  ...                0.206395   \n",
            "132            4        1  2025             0  ...                0.202109   \n",
            "\n",
            "     daily_sentiment_std_7  daily_sentiment_mean_14  daily_sentiment_std_14  \\\n",
            "128               0.696502                 0.574935                0.556323   \n",
            "129               0.721875                 0.575293                0.556525   \n",
            "130               0.747503                 0.479340                0.607818   \n",
            "131               0.730046                 0.520769                0.610743   \n",
            "132               0.725506                 0.542554                0.617081   \n",
            "\n",
            "    spike_presence_sum_3  spike_presence_sum_7  spike_presence_sum_14  \\\n",
            "128                  0.0                   0.0                    0.0   \n",
            "129                  0.0                   0.0                    0.0   \n",
            "130                  0.0                   0.0                    0.0   \n",
            "131                  0.0                   0.0                    0.0   \n",
            "132                  0.0                   0.0                    0.0   \n",
            "\n",
            "     spike_intensity_max_3  spike_intensity_max_7  spike_intensity_max_14  \n",
            "128                    0.0                    0.0                     0.0  \n",
            "129                    0.0                    0.0                     0.0  \n",
            "130                    0.0                    0.0                     0.0  \n",
            "131                    0.0                    0.0                     0.0  \n",
            "132                    0.0                    0.0                     0.0  \n",
            "\n",
            "[5 rows x 37 columns]\n",
            "\n",
            "=== Creating TFT Dataset ===\n",
            "  - Total data points: 101\n",
            "  - Encoder length: 96 days\n",
            "  - Prediction length: 5 days\n",
            "  - Minimum required length: 101 days\n",
            "  - Adjusted encoder length to 95 to use all available data\n",
            "  - Using all 101 data points for training\n",
            "  - Known features: ['time_idx', 'month', 'day_of_week', 'quarter', 'year', 'is_month_end', 'is_month_start', 'days_since_earning', 'daily_sentiment_lag1', 'daily_sentiment_lag2', 'daily_sentiment_lag3', 'daily_sentiment_lag4', 'daily_sentiment_lag5', 'daily_sentiment_mean_3', 'daily_sentiment_mean_7', 'daily_sentiment_mean_14', 'daily_sentiment_std_7', 'daily_sentiment_std_14', 'spike_presence_sum_3', 'spike_presence_sum_7', 'spike_presence_sum_14', 'spike_intensity_max_3', 'spike_intensity_max_7', 'spike_intensity_max_14']\n",
            "  - Unknown features: ['close', 'volume', 'rolling_volatility']\n",
            "✓ Training dataset created with 2 samples\n",
            "\n",
            "=== Creating Model and DataLoader ===\n",
            "✓ DataLoader created with batch size 128\n",
            "✓ TFT model created with 50343 parameters\n",
            "  - Learning rate: 0.03\n",
            "  - Hidden size: 16\n",
            "  - Attention heads: 1\n",
            "\n",
            "=== Training TFT Model ===\n",
            "✓ Trainer configured with 30 max epochs (monitoring train_loss)\n",
            "  - Early stopping enabled\n",
            "  - Learning rate monitoring enabled\n",
            "  - Model checkpointing enabled\n",
            "\n",
            "Starting model training...\n"
          ]
        },
        {
          "name": "stderr",
          "output_type": "stream",
          "text": [
            "\n",
            "   | Name                               | Type                            | Params | Mode \n",
            "------------------------------------------------------------------------------------------------\n",
            "0  | loss                               | TorchMetricWrapper              | 0      | train\n",
            "1  | logging_metrics                    | ModuleList                      | 0      | train\n",
            "2  | input_embeddings                   | MultiEmbedding                  | 1      | train\n",
            "3  | prescalers                         | ModuleDict                      | 432    | train\n",
            "4  | static_variable_selection          | VariableSelectionNetwork        | 48     | train\n",
            "5  | encoder_variable_selection         | VariableSelectionNetwork        | 19.3 K | train\n",
            "6  | decoder_variable_selection         | VariableSelectionNetwork        | 17.2 K | train\n",
            "7  | static_context_variable_selection  | GatedResidualNetwork            | 1.1 K  | train\n",
            "8  | static_context_initial_hidden_lstm | GatedResidualNetwork            | 1.1 K  | train\n",
            "9  | static_context_initial_cell_lstm   | GatedResidualNetwork            | 1.1 K  | train\n",
            "10 | static_context_enrichment          | GatedResidualNetwork            | 1.1 K  | train\n",
            "11 | lstm_encoder                       | LSTM                            | 2.2 K  | train\n",
            "12 | lstm_decoder                       | LSTM                            | 2.2 K  | train\n",
            "13 | post_lstm_gate_encoder             | GatedLinearUnit                 | 544    | train\n",
            "14 | post_lstm_add_norm_encoder         | AddNorm                         | 32     | train\n",
            "15 | static_enrichment                  | GatedResidualNetwork            | 1.4 K  | train\n",
            "16 | multihead_attn                     | InterpretableMultiHeadAttention | 1.1 K  | train\n",
            "17 | post_attn_gate_norm                | GateAddNorm                     | 576    | train\n",
            "18 | pos_wise_ff                        | GatedResidualNetwork            | 1.1 K  | train\n",
            "19 | pre_output_gate_norm               | GateAddNorm                     | 576    | train\n",
            "20 | output_layer                       | Linear                          | 17     | train\n",
            "------------------------------------------------------------------------------------------------\n",
            "50.3 K    Trainable params\n",
            "0         Non-trainable params\n",
            "50.3 K    Total params\n",
            "0.201     Total estimated model params size (MB)\n",
            "888       Modules in train mode\n",
            "0         Modules in eval mode\n"
          ]
        },
        {
          "data": {
            "application/vnd.jupyter.widget-view+json": {
              "model_id": "99c9debdd6344b00addb0926068f79b6",
              "version_major": 2,
              "version_minor": 0
            },
            "text/plain": [
              "Sanity Checking: |          | 0/? [00:00<?, ?it/s]"
            ]
          },
          "metadata": {},
          "output_type": "display_data"
        },
        {
          "data": {
            "application/vnd.jupyter.widget-view+json": {
              "model_id": "b2771172a9144c82a4bc1faa9f74bb40",
              "version_major": 2,
              "version_minor": 0
            },
            "text/plain": [
              "Training: |          | 0/? [00:00<?, ?it/s]"
            ]
          },
          "metadata": {},
          "output_type": "display_data"
        },
        {
          "data": {
            "application/vnd.jupyter.widget-view+json": {
              "model_id": "2fb033a06c954f49a99efa5c176e412f",
              "version_major": 2,
              "version_minor": 0
            },
            "text/plain": [
              "Validation: |          | 0/? [00:00<?, ?it/s]"
            ]
          },
          "metadata": {},
          "output_type": "display_data"
        },
        {
          "name": "stderr",
          "output_type": "stream",
          "text": [
            "Metric train_loss improved. New best score: 149.690\n"
          ]
        },
        {
          "data": {
            "application/vnd.jupyter.widget-view+json": {
              "model_id": "fc934ea53a554e56ba2bb49691ca95ca",
              "version_major": 2,
              "version_minor": 0
            },
            "text/plain": [
              "Validation: |          | 0/? [00:00<?, ?it/s]"
            ]
          },
          "metadata": {},
          "output_type": "display_data"
        },
        {
          "data": {
            "application/vnd.jupyter.widget-view+json": {
              "model_id": "cfa93cf67a484e1590e2d38089e13c81",
              "version_major": 2,
              "version_minor": 0
            },
            "text/plain": [
              "Validation: |          | 0/? [00:00<?, ?it/s]"
            ]
          },
          "metadata": {},
          "output_type": "display_data"
        },
        {
          "data": {
            "application/vnd.jupyter.widget-view+json": {
              "model_id": "cc9e594cf5214a79a81764a90724f62d",
              "version_major": 2,
              "version_minor": 0
            },
            "text/plain": [
              "Validation: |          | 0/? [00:00<?, ?it/s]"
            ]
          },
          "metadata": {},
          "output_type": "display_data"
        },
        {
          "data": {
            "application/vnd.jupyter.widget-view+json": {
              "model_id": "8722dc1f9d0a4cad934c28ec943874ef",
              "version_major": 2,
              "version_minor": 0
            },
            "text/plain": [
              "Validation: |          | 0/? [00:00<?, ?it/s]"
            ]
          },
          "metadata": {},
          "output_type": "display_data"
        },
        {
          "data": {
            "application/vnd.jupyter.widget-view+json": {
              "model_id": "afd4ca2e749b422383efada04eeb01a7",
              "version_major": 2,
              "version_minor": 0
            },
            "text/plain": [
              "Validation: |          | 0/? [00:00<?, ?it/s]"
            ]
          },
          "metadata": {},
          "output_type": "display_data"
        },
        {
          "name": "stderr",
          "output_type": "stream",
          "text": [
            "Metric train_loss improved by 65.602 >= min_delta = 0.0001. New best score: 84.088\n"
          ]
        },
        {
          "data": {
            "application/vnd.jupyter.widget-view+json": {
              "model_id": "4127c93b2a3f496c95bc3c37a4d74864",
              "version_major": 2,
              "version_minor": 0
            },
            "text/plain": [
              "Validation: |          | 0/? [00:00<?, ?it/s]"
            ]
          },
          "metadata": {},
          "output_type": "display_data"
        },
        {
          "name": "stderr",
          "output_type": "stream",
          "text": [
            "Metric train_loss improved by 24.243 >= min_delta = 0.0001. New best score: 59.845\n"
          ]
        },
        {
          "data": {
            "application/vnd.jupyter.widget-view+json": {
              "model_id": "a589c82af0fb4e0895058d48dcfd5ad4",
              "version_major": 2,
              "version_minor": 0
            },
            "text/plain": [
              "Validation: |          | 0/? [00:00<?, ?it/s]"
            ]
          },
          "metadata": {},
          "output_type": "display_data"
        },
        {
          "name": "stderr",
          "output_type": "stream",
          "text": [
            "Metric train_loss improved by 5.410 >= min_delta = 0.0001. New best score: 54.435\n"
          ]
        },
        {
          "data": {
            "application/vnd.jupyter.widget-view+json": {
              "model_id": "e9b56b556d374a22afca719f2d58b730",
              "version_major": 2,
              "version_minor": 0
            },
            "text/plain": [
              "Validation: |          | 0/? [00:00<?, ?it/s]"
            ]
          },
          "metadata": {},
          "output_type": "display_data"
        },
        {
          "name": "stderr",
          "output_type": "stream",
          "text": [
            "Metric train_loss improved by 10.361 >= min_delta = 0.0001. New best score: 44.074\n"
          ]
        },
        {
          "data": {
            "application/vnd.jupyter.widget-view+json": {
              "model_id": "f680de8ee9cc4e378a999ecb735f7de0",
              "version_major": 2,
              "version_minor": 0
            },
            "text/plain": [
              "Validation: |          | 0/? [00:00<?, ?it/s]"
            ]
          },
          "metadata": {},
          "output_type": "display_data"
        },
        {
          "name": "stderr",
          "output_type": "stream",
          "text": [
            "Metric train_loss improved by 1.032 >= min_delta = 0.0001. New best score: 43.043\n"
          ]
        },
        {
          "data": {
            "application/vnd.jupyter.widget-view+json": {
              "model_id": "4d81773422f744ecb16ab9493fe633b8",
              "version_major": 2,
              "version_minor": 0
            },
            "text/plain": [
              "Validation: |          | 0/? [00:00<?, ?it/s]"
            ]
          },
          "metadata": {},
          "output_type": "display_data"
        },
        {
          "name": "stderr",
          "output_type": "stream",
          "text": [
            "Metric train_loss improved by 9.829 >= min_delta = 0.0001. New best score: 33.213\n"
          ]
        },
        {
          "data": {
            "application/vnd.jupyter.widget-view+json": {
              "model_id": "3f9e1d73e92e4922aa14a6fd93c49768",
              "version_major": 2,
              "version_minor": 0
            },
            "text/plain": [
              "Validation: |          | 0/? [00:00<?, ?it/s]"
            ]
          },
          "metadata": {},
          "output_type": "display_data"
        },
        {
          "name": "stderr",
          "output_type": "stream",
          "text": [
            "Metric train_loss improved by 7.795 >= min_delta = 0.0001. New best score: 25.419\n"
          ]
        },
        {
          "data": {
            "application/vnd.jupyter.widget-view+json": {
              "model_id": "99a2306548f1472a928e749e6b7914c3",
              "version_major": 2,
              "version_minor": 0
            },
            "text/plain": [
              "Validation: |          | 0/? [00:00<?, ?it/s]"
            ]
          },
          "metadata": {},
          "output_type": "display_data"
        },
        {
          "name": "stderr",
          "output_type": "stream",
          "text": [
            "Metric train_loss improved by 8.110 >= min_delta = 0.0001. New best score: 17.309\n"
          ]
        },
        {
          "data": {
            "application/vnd.jupyter.widget-view+json": {
              "model_id": "861173a646cf419b9b8ea32d5ee40baf",
              "version_major": 2,
              "version_minor": 0
            },
            "text/plain": [
              "Validation: |          | 0/? [00:00<?, ?it/s]"
            ]
          },
          "metadata": {},
          "output_type": "display_data"
        },
        {
          "data": {
            "application/vnd.jupyter.widget-view+json": {
              "model_id": "d995ce52405544ad89693cd74683d283",
              "version_major": 2,
              "version_minor": 0
            },
            "text/plain": [
              "Validation: |          | 0/? [00:00<?, ?it/s]"
            ]
          },
          "metadata": {},
          "output_type": "display_data"
        },
        {
          "name": "stderr",
          "output_type": "stream",
          "text": [
            "Metric train_loss improved by 4.020 >= min_delta = 0.0001. New best score: 13.289\n"
          ]
        },
        {
          "data": {
            "application/vnd.jupyter.widget-view+json": {
              "model_id": "26438c9a19ce4a668acd0134fe7970de",
              "version_major": 2,
              "version_minor": 0
            },
            "text/plain": [
              "Validation: |          | 0/? [00:00<?, ?it/s]"
            ]
          },
          "metadata": {},
          "output_type": "display_data"
        },
        {
          "data": {
            "application/vnd.jupyter.widget-view+json": {
              "model_id": "415e021a811f494581d93df542207727",
              "version_major": 2,
              "version_minor": 0
            },
            "text/plain": [
              "Validation: |          | 0/? [00:00<?, ?it/s]"
            ]
          },
          "metadata": {},
          "output_type": "display_data"
        },
        {
          "data": {
            "application/vnd.jupyter.widget-view+json": {
              "model_id": "e0ff5964cafa48a4855aae2bd8c0ba31",
              "version_major": 2,
              "version_minor": 0
            },
            "text/plain": [
              "Validation: |          | 0/? [00:00<?, ?it/s]"
            ]
          },
          "metadata": {},
          "output_type": "display_data"
        },
        {
          "name": "stderr",
          "output_type": "stream",
          "text": [
            "Metric train_loss improved by 3.330 >= min_delta = 0.0001. New best score: 9.960\n"
          ]
        },
        {
          "data": {
            "application/vnd.jupyter.widget-view+json": {
              "model_id": "aede35f6300d4f5ea1ed8354ba69a753",
              "version_major": 2,
              "version_minor": 0
            },
            "text/plain": [
              "Validation: |          | 0/? [00:00<?, ?it/s]"
            ]
          },
          "metadata": {},
          "output_type": "display_data"
        },
        {
          "name": "stderr",
          "output_type": "stream",
          "text": [
            "Metric train_loss improved by 0.370 >= min_delta = 0.0001. New best score: 9.590\n"
          ]
        },
        {
          "data": {
            "application/vnd.jupyter.widget-view+json": {
              "model_id": "d5080445a0ee4bf2b26b6d192b58a729",
              "version_major": 2,
              "version_minor": 0
            },
            "text/plain": [
              "Validation: |          | 0/? [00:00<?, ?it/s]"
            ]
          },
          "metadata": {},
          "output_type": "display_data"
        },
        {
          "data": {
            "application/vnd.jupyter.widget-view+json": {
              "model_id": "887bed8094704502ae3ef8c72f4a0fa3",
              "version_major": 2,
              "version_minor": 0
            },
            "text/plain": [
              "Validation: |          | 0/? [00:00<?, ?it/s]"
            ]
          },
          "metadata": {},
          "output_type": "display_data"
        },
        {
          "data": {
            "application/vnd.jupyter.widget-view+json": {
              "model_id": "784c6cd24fa2433aad53952827028664",
              "version_major": 2,
              "version_minor": 0
            },
            "text/plain": [
              "Validation: |          | 0/? [00:00<?, ?it/s]"
            ]
          },
          "metadata": {},
          "output_type": "display_data"
        },
        {
          "data": {
            "application/vnd.jupyter.widget-view+json": {
              "model_id": "d117f90c786e476980208715c0b20b90",
              "version_major": 2,
              "version_minor": 0
            },
            "text/plain": [
              "Validation: |          | 0/? [00:00<?, ?it/s]"
            ]
          },
          "metadata": {},
          "output_type": "display_data"
        },
        {
          "data": {
            "application/vnd.jupyter.widget-view+json": {
              "model_id": "a548a744942a4ea599759cf4e2769cf6",
              "version_major": 2,
              "version_minor": 0
            },
            "text/plain": [
              "Validation: |          | 0/? [00:00<?, ?it/s]"
            ]
          },
          "metadata": {},
          "output_type": "display_data"
        },
        {
          "name": "stderr",
          "output_type": "stream",
          "text": [
            "Monitored metric train_loss did not improve in the last 5 records. Best score: 9.590. Signaling Trainer to stop.\n"
          ]
        },
        {
          "name": "stdout",
          "output_type": "stream",
          "text": [
            "✅ Training completed!\n",
            "\n",
            "=== Loading Best Model and Creating Validation Dataset ===\n"
          ]
        },
        {
          "name": "stderr",
          "output_type": "stream",
          "text": [
            "💡 Tip: For seamless cloud uploads and versioning, try installing [litmodels](https://pypi.org/project/litmodels/) to enable LitModelCheckpoint, which syncs automatically with the Lightning model registry.\n",
            "GPU available: True (mps), used: True\n",
            "TPU available: False, using: 0 TPU cores\n",
            "HPU available: False, using: 0 HPUs\n"
          ]
        },
        {
          "name": "stdout",
          "output_type": "stream",
          "text": [
            "✓ Best model loaded from: /Users/hwang-yejin/Desktop/Financial Time Series Forecasting with Deep Learning Models and Social Media Sentiment/notebooks/checkpoints/tft-epoch=18-train_loss=9.5899.ckpt\n",
            "✓ Validation dataset created with 1 samples\n",
            "\n",
            "=== Making Predictions ===\n"
          ]
        },
        {
          "name": "stderr",
          "output_type": "stream",
          "text": [
            "Seed set to 46\n"
          ]
        },
        {
          "name": "stdout",
          "output_type": "stream",
          "text": [
            "✓ Predictions made successfully\n",
            "  - Prediction shape: torch.Size([1, 5])\n",
            "  - Actuals shape: torch.Size([1, 5])\n",
            "\n",
            "=== Performance Evaluation ===\n",
            "\n",
            "📊 Model Performance Metrics:\n",
            "  Metric   Value\n",
            "0    MAE  1.8132\n",
            "1    MSE  5.9111\n",
            "2   RMSE  2.4313\n",
            "3   MAPE  0.5761\n",
            "\n",
            "=== TFT Configuration (96-day training, 5-day prediction) ===\n",
            "\n",
            "✓ Configuration set:\n",
            "  - Training start: 2025-02-01\n",
            "  - Training days: 96\n",
            "  - Prediction days: 5\n",
            "  - Max epochs: 30\n",
            "  - Batch size: 128\n",
            "  - Learning rate: 0.03\n",
            "\n",
            "=== Loading and Preparing Data ===\n",
            "✓ Data loaded successfully from /Users/hwang-yejin/Desktop/Financial Time Series Forecasting with Deep Learning Models and Social Media Sentiment/data/processed/tsla_price_sentiment_spike.csv\n",
            "  - Shape: (232, 19)\n",
            "  - Date range: 2024-06-04 to 2025-07-22\n",
            "\n",
            "Data columns:\n",
            "['time_idx', 'date', 'close', 'volume', 'days_since_earning', 'month', 'day_of_week', 'quarter', 'year', 'is_month_end', 'is_month_start', 'rolling_volatility', 'return_1d', 'cumulative_return', 'unique_id', 'daily_sentiment', 'post_count', 'spike_presence', 'spike_intensity', 'daily_sentiment_lag1', 'daily_sentiment_lag2', 'daily_sentiment_lag3', 'daily_sentiment_lag4', 'daily_sentiment_lag5', 'daily_sentiment_mean_3', 'daily_sentiment_std_3', 'daily_sentiment_mean_7', 'daily_sentiment_std_7', 'daily_sentiment_mean_14', 'daily_sentiment_std_14', 'spike_presence_sum_3', 'spike_presence_sum_7', 'spike_presence_sum_14', 'spike_intensity_max_3', 'spike_intensity_max_7', 'spike_intensity_max_14']\n",
            "✓ Using date_anchor approach with user-specified start date\n",
            "  - Training start: 2025-02-01\n",
            "  - Training days: 96\n",
            "  - Prediction days: 5\n",
            "✓ Using 96 training days + 5 prediction days from 2025-02-01\n",
            "  - Total data range: 2025-02-03 00:00:00 to 2025-07-17 00:00:00\n",
            "  - Total data points: 101\n",
            "\n",
            "First few rows:\n"
          ]
        },
        {
          "name": "stderr",
          "output_type": "stream",
          "text": [
            "GPU available: True (mps), used: True\n",
            "TPU available: False, using: 0 TPU cores\n",
            "HPU available: False, using: 0 HPUs\n"
          ]
        },
        {
          "name": "stdout",
          "output_type": "stream",
          "text": [
            "     time_idx       date       close    volume  days_since_earning  month  \\\n",
            "128         0 2025-02-03  383.679993  93732100                   4      2   \n",
            "129         1 2025-02-04  392.209992  57072200                   5      2   \n",
            "130         2 2025-02-05  378.170013  57223300                   6      2   \n",
            "131         3 2025-02-06  374.320007  77918200                   7      2   \n",
            "132         4 2025-02-07  361.619995  70298300                   8      2   \n",
            "\n",
            "     day_of_week  quarter  year  is_month_end  ...  daily_sentiment_mean_7  \\\n",
            "128            0        1  2025             0  ...                0.096856   \n",
            "129            1        1  2025             0  ...                0.194673   \n",
            "130            2        1  2025             0  ...                0.099435   \n",
            "131            3        1  2025             0  ...                0.156311   \n",
            "132            4        1  2025             0  ...                0.030148   \n",
            "\n",
            "     daily_sentiment_std_7  daily_sentiment_mean_14  daily_sentiment_std_14  \\\n",
            "128               0.579758                 0.346741                0.566595   \n",
            "129               0.646536                 0.343357                0.563205   \n",
            "130               0.724404                 0.233630                0.601175   \n",
            "131               0.772430                 0.299381                0.617658   \n",
            "132               0.702926                 0.266204                0.620576   \n",
            "\n",
            "    spike_presence_sum_3  spike_presence_sum_7  spike_presence_sum_14  \\\n",
            "128                  0.0                   0.0                    0.0   \n",
            "129                  0.0                   0.0                    0.0   \n",
            "130                  0.0                   0.0                    0.0   \n",
            "131                  0.0                   0.0                    0.0   \n",
            "132                  0.0                   0.0                    0.0   \n",
            "\n",
            "     spike_intensity_max_3  spike_intensity_max_7  spike_intensity_max_14  \n",
            "128                    0.0                    0.0                     0.0  \n",
            "129                    0.0                    0.0                     0.0  \n",
            "130                    0.0                    0.0                     0.0  \n",
            "131                    0.0                    0.0                     0.0  \n",
            "132                    0.0                    0.0                     0.0  \n",
            "\n",
            "[5 rows x 36 columns]\n",
            "\n",
            "=== Creating TFT Dataset ===\n",
            "  - Total data points: 101\n",
            "  - Encoder length: 96 days\n",
            "  - Prediction length: 5 days\n",
            "  - Minimum required length: 101 days\n",
            "  - Adjusted encoder length to 95 to use all available data\n",
            "  - Using all 101 data points for training\n",
            "  - Known features: ['time_idx', 'month', 'day_of_week', 'quarter', 'year', 'is_month_end', 'is_month_start', 'days_since_earning', 'daily_sentiment_lag1', 'daily_sentiment_lag2', 'daily_sentiment_lag3', 'daily_sentiment_lag4', 'daily_sentiment_lag5', 'daily_sentiment_mean_3', 'daily_sentiment_mean_7', 'daily_sentiment_mean_14', 'daily_sentiment_std_7', 'daily_sentiment_std_14', 'spike_presence_sum_3', 'spike_presence_sum_7', 'spike_presence_sum_14', 'spike_intensity_max_3', 'spike_intensity_max_7', 'spike_intensity_max_14']\n",
            "  - Unknown features: ['close', 'volume', 'rolling_volatility']\n",
            "✓ Training dataset created with 2 samples\n",
            "\n",
            "=== Creating Model and DataLoader ===\n",
            "✓ DataLoader created with batch size 128\n",
            "✓ TFT model created with 50343 parameters\n",
            "  - Learning rate: 0.03\n",
            "  - Hidden size: 16\n",
            "  - Attention heads: 1\n",
            "\n",
            "=== Training TFT Model ===\n",
            "✓ Trainer configured with 30 max epochs (monitoring train_loss)\n",
            "  - Early stopping enabled\n",
            "  - Learning rate monitoring enabled\n",
            "  - Model checkpointing enabled\n",
            "\n",
            "Starting model training...\n"
          ]
        },
        {
          "name": "stderr",
          "output_type": "stream",
          "text": [
            "\n",
            "   | Name                               | Type                            | Params | Mode \n",
            "------------------------------------------------------------------------------------------------\n",
            "0  | loss                               | TorchMetricWrapper              | 0      | train\n",
            "1  | logging_metrics                    | ModuleList                      | 0      | train\n",
            "2  | input_embeddings                   | MultiEmbedding                  | 1      | train\n",
            "3  | prescalers                         | ModuleDict                      | 432    | train\n",
            "4  | static_variable_selection          | VariableSelectionNetwork        | 48     | train\n",
            "5  | encoder_variable_selection         | VariableSelectionNetwork        | 19.3 K | train\n",
            "6  | decoder_variable_selection         | VariableSelectionNetwork        | 17.2 K | train\n",
            "7  | static_context_variable_selection  | GatedResidualNetwork            | 1.1 K  | train\n",
            "8  | static_context_initial_hidden_lstm | GatedResidualNetwork            | 1.1 K  | train\n",
            "9  | static_context_initial_cell_lstm   | GatedResidualNetwork            | 1.1 K  | train\n",
            "10 | static_context_enrichment          | GatedResidualNetwork            | 1.1 K  | train\n",
            "11 | lstm_encoder                       | LSTM                            | 2.2 K  | train\n",
            "12 | lstm_decoder                       | LSTM                            | 2.2 K  | train\n",
            "13 | post_lstm_gate_encoder             | GatedLinearUnit                 | 544    | train\n",
            "14 | post_lstm_add_norm_encoder         | AddNorm                         | 32     | train\n",
            "15 | static_enrichment                  | GatedResidualNetwork            | 1.4 K  | train\n",
            "16 | multihead_attn                     | InterpretableMultiHeadAttention | 1.1 K  | train\n",
            "17 | post_attn_gate_norm                | GateAddNorm                     | 576    | train\n",
            "18 | pos_wise_ff                        | GatedResidualNetwork            | 1.1 K  | train\n",
            "19 | pre_output_gate_norm               | GateAddNorm                     | 576    | train\n",
            "20 | output_layer                       | Linear                          | 17     | train\n",
            "------------------------------------------------------------------------------------------------\n",
            "50.3 K    Trainable params\n",
            "0         Non-trainable params\n",
            "50.3 K    Total params\n",
            "0.201     Total estimated model params size (MB)\n",
            "888       Modules in train mode\n",
            "0         Modules in eval mode\n"
          ]
        },
        {
          "data": {
            "application/vnd.jupyter.widget-view+json": {
              "model_id": "8dd4fdad7aae47f9a63b491e9087ecdf",
              "version_major": 2,
              "version_minor": 0
            },
            "text/plain": [
              "Sanity Checking: |          | 0/? [00:00<?, ?it/s]"
            ]
          },
          "metadata": {},
          "output_type": "display_data"
        },
        {
          "data": {
            "application/vnd.jupyter.widget-view+json": {
              "model_id": "c3a4e4d7e1284a098f05d7b33bb32964",
              "version_major": 2,
              "version_minor": 0
            },
            "text/plain": [
              "Training: |          | 0/? [00:00<?, ?it/s]"
            ]
          },
          "metadata": {},
          "output_type": "display_data"
        },
        {
          "data": {
            "application/vnd.jupyter.widget-view+json": {
              "model_id": "60087d4beae64a5eb038c35e9ac2d5cc",
              "version_major": 2,
              "version_minor": 0
            },
            "text/plain": [
              "Validation: |          | 0/? [00:00<?, ?it/s]"
            ]
          },
          "metadata": {},
          "output_type": "display_data"
        },
        {
          "name": "stderr",
          "output_type": "stream",
          "text": [
            "Metric train_loss improved. New best score: 260.259\n"
          ]
        },
        {
          "data": {
            "application/vnd.jupyter.widget-view+json": {
              "model_id": "76b3ed966e3740269b4bda35f2fc4b85",
              "version_major": 2,
              "version_minor": 0
            },
            "text/plain": [
              "Validation: |          | 0/? [00:00<?, ?it/s]"
            ]
          },
          "metadata": {},
          "output_type": "display_data"
        },
        {
          "data": {
            "application/vnd.jupyter.widget-view+json": {
              "model_id": "c6e9b26788014c1f9950e321a3e53cc8",
              "version_major": 2,
              "version_minor": 0
            },
            "text/plain": [
              "Validation: |          | 0/? [00:00<?, ?it/s]"
            ]
          },
          "metadata": {},
          "output_type": "display_data"
        },
        {
          "data": {
            "application/vnd.jupyter.widget-view+json": {
              "model_id": "2bf7936835f6453d8540c86e074285a5",
              "version_major": 2,
              "version_minor": 0
            },
            "text/plain": [
              "Validation: |          | 0/? [00:00<?, ?it/s]"
            ]
          },
          "metadata": {},
          "output_type": "display_data"
        },
        {
          "data": {
            "application/vnd.jupyter.widget-view+json": {
              "model_id": "6a0db4d28af4458e91a374d79f618b3a",
              "version_major": 2,
              "version_minor": 0
            },
            "text/plain": [
              "Validation: |          | 0/? [00:00<?, ?it/s]"
            ]
          },
          "metadata": {},
          "output_type": "display_data"
        },
        {
          "data": {
            "application/vnd.jupyter.widget-view+json": {
              "model_id": "60bbd88077944877958c7acd230d2f01",
              "version_major": 2,
              "version_minor": 0
            },
            "text/plain": [
              "Validation: |          | 0/? [00:00<?, ?it/s]"
            ]
          },
          "metadata": {},
          "output_type": "display_data"
        },
        {
          "name": "stderr",
          "output_type": "stream",
          "text": [
            "Monitored metric train_loss did not improve in the last 5 records. Best score: 260.259. Signaling Trainer to stop.\n"
          ]
        },
        {
          "name": "stdout",
          "output_type": "stream",
          "text": [
            "✅ Training completed!\n",
            "\n",
            "=== Loading Best Model and Creating Validation Dataset ===\n"
          ]
        },
        {
          "name": "stderr",
          "output_type": "stream",
          "text": [
            "💡 Tip: For seamless cloud uploads and versioning, try installing [litmodels](https://pypi.org/project/litmodels/) to enable LitModelCheckpoint, which syncs automatically with the Lightning model registry.\n",
            "GPU available: True (mps), used: True\n",
            "TPU available: False, using: 0 TPU cores\n",
            "HPU available: False, using: 0 HPUs\n"
          ]
        },
        {
          "name": "stdout",
          "output_type": "stream",
          "text": [
            "✓ Best model loaded from: /Users/hwang-yejin/Desktop/Financial Time Series Forecasting with Deep Learning Models and Social Media Sentiment/notebooks/checkpoints/tft-epoch=00-train_loss=260.2586.ckpt\n",
            "✓ Validation dataset created with 1 samples\n",
            "\n",
            "=== Making Predictions ===\n"
          ]
        },
        {
          "name": "stderr",
          "output_type": "stream",
          "text": [
            "Seed set to 46\n"
          ]
        },
        {
          "name": "stdout",
          "output_type": "stream",
          "text": [
            "✓ Predictions made successfully\n",
            "  - Prediction shape: torch.Size([1, 5])\n",
            "  - Actuals shape: torch.Size([1, 5])\n",
            "\n",
            "=== Performance Evaluation ===\n",
            "\n",
            "📊 Model Performance Metrics:\n",
            "  Metric      Value\n",
            "0    MAE    80.7637\n",
            "1    MSE  6544.5747\n",
            "2   RMSE    80.8985\n",
            "3   MAPE    25.5217\n",
            "\n",
            "=== TFT Configuration (96-day training, 5-day prediction) ===\n",
            "\n",
            "✓ Configuration set:\n",
            "  - Training start: 2025-02-01\n",
            "  - Training days: 96\n",
            "  - Prediction days: 5\n",
            "  - Max epochs: 30\n",
            "  - Batch size: 128\n",
            "  - Learning rate: 0.03\n",
            "\n",
            "=== Loading and Preparing Data ===\n",
            "✓ Data loaded successfully from /Users/hwang-yejin/Desktop/Financial Time Series Forecasting with Deep Learning Models and Social Media Sentiment/data/processed/tsla_price_sentiment_spike_new.csv\n",
            "  - Shape: (232, 20)\n",
            "  - Date range: 2024-06-04 to 2025-07-22\n",
            "\n",
            "Data columns:\n",
            "['time_idx', 'date', 'close', 'volume', 'days_since_earning', 'month', 'day_of_week', 'quarter', 'year', 'is_month_end', 'is_month_start', 'rolling_volatility', 'return_1d', 'cumulative_return', 'unique_id', 'daily_sentiment', 'post_count', 'spike_presence', 'spike_intensity', 'log_close', 'daily_sentiment_lag1', 'daily_sentiment_lag2', 'daily_sentiment_lag3', 'daily_sentiment_lag4', 'daily_sentiment_lag5', 'daily_sentiment_mean_3', 'daily_sentiment_std_3', 'daily_sentiment_mean_7', 'daily_sentiment_std_7', 'daily_sentiment_mean_14', 'daily_sentiment_std_14', 'spike_presence_sum_3', 'spike_presence_sum_7', 'spike_presence_sum_14', 'spike_intensity_max_3', 'spike_intensity_max_7', 'spike_intensity_max_14']\n",
            "✓ Using date_anchor approach with user-specified start date\n",
            "  - Training start: 2025-02-01\n",
            "  - Training days: 96\n",
            "  - Prediction days: 5\n",
            "✓ Using 96 training days + 5 prediction days from 2025-02-01\n",
            "  - Total data range: 2025-02-03 00:00:00 to 2025-07-17 00:00:00\n",
            "  - Total data points: 101\n",
            "\n",
            "First few rows:\n",
            "     time_idx       date       close    volume  days_since_earning  month  \\\n",
            "128         0 2025-02-03  383.679993  93732100                   4      2   \n",
            "129         1 2025-02-04  392.209992  57072200                   5      2   \n",
            "130         2 2025-02-05  378.170013  57223300                   6      2   \n",
            "131         3 2025-02-06  374.320007  77918200                   7      2   \n",
            "132         4 2025-02-07  361.619995  70298300                   8      2   \n",
            "\n",
            "     day_of_week  quarter  year  is_month_end  ...  daily_sentiment_mean_7  \\\n",
            "128            0        1  2025             0  ...                0.362728   \n",
            "129            1        1  2025             0  ...                0.413299   \n",
            "130            2        1  2025             0  ...                0.222823   \n",
            "131            3        1  2025             0  ...                0.206395   \n",
            "132            4        1  2025             0  ...                0.202109   \n",
            "\n",
            "     daily_sentiment_std_7  daily_sentiment_mean_14  daily_sentiment_std_14  \\\n",
            "128               0.696502                 0.574935                0.556323   \n",
            "129               0.721875                 0.575293                0.556525   \n",
            "130               0.747503                 0.479340                0.607818   \n",
            "131               0.730046                 0.520769                0.610743   \n",
            "132               0.725506                 0.542554                0.617081   \n",
            "\n",
            "    spike_presence_sum_3  spike_presence_sum_7  spike_presence_sum_14  \\\n",
            "128                  0.0                   0.0                    0.0   \n",
            "129                  0.0                   0.0                    0.0   \n",
            "130                  0.0                   0.0                    0.0   \n",
            "131                  0.0                   0.0                    0.0   \n",
            "132                  0.0                   0.0                    0.0   \n",
            "\n",
            "     spike_intensity_max_3  spike_intensity_max_7  spike_intensity_max_14  \n",
            "128                    0.0                    0.0                     0.0  \n",
            "129                    0.0                    0.0                     0.0  \n",
            "130                    0.0                    0.0                     0.0  \n",
            "131                    0.0                    0.0                     0.0  \n",
            "132                    0.0                    0.0                     0.0  \n",
            "\n",
            "[5 rows x 37 columns]\n",
            "\n",
            "=== Creating TFT Dataset ===\n",
            "  - Total data points: 101\n",
            "  - Encoder length: 96 days\n",
            "  - Prediction length: 5 days\n",
            "  - Minimum required length: 101 days\n",
            "  - Adjusted encoder length to 95 to use all available data\n",
            "  - Using all 101 data points for training\n",
            "  - Known features: ['time_idx', 'month', 'day_of_week', 'quarter', 'year', 'is_month_end', 'is_month_start', 'days_since_earning', 'daily_sentiment_lag1', 'daily_sentiment_lag2', 'daily_sentiment_lag3', 'daily_sentiment_lag4', 'daily_sentiment_lag5', 'daily_sentiment_mean_3', 'daily_sentiment_mean_7', 'daily_sentiment_mean_14', 'daily_sentiment_std_7', 'daily_sentiment_std_14', 'spike_presence_sum_3', 'spike_presence_sum_7', 'spike_presence_sum_14', 'spike_intensity_max_3', 'spike_intensity_max_7', 'spike_intensity_max_14']\n",
            "  - Unknown features: ['close', 'volume', 'rolling_volatility']\n"
          ]
        },
        {
          "name": "stderr",
          "output_type": "stream",
          "text": [
            "GPU available: True (mps), used: True\n",
            "TPU available: False, using: 0 TPU cores\n",
            "HPU available: False, using: 0 HPUs\n"
          ]
        },
        {
          "name": "stdout",
          "output_type": "stream",
          "text": [
            "✓ Training dataset created with 2 samples\n",
            "\n",
            "=== Creating Model and DataLoader ===\n",
            "✓ DataLoader created with batch size 128\n",
            "✓ TFT model created with 50343 parameters\n",
            "  - Learning rate: 0.03\n",
            "  - Hidden size: 16\n",
            "  - Attention heads: 1\n",
            "\n",
            "=== Training TFT Model ===\n",
            "✓ Trainer configured with 30 max epochs (monitoring train_loss)\n",
            "  - Early stopping enabled\n",
            "  - Learning rate monitoring enabled\n",
            "  - Model checkpointing enabled\n",
            "\n",
            "Starting model training...\n"
          ]
        },
        {
          "name": "stderr",
          "output_type": "stream",
          "text": [
            "\n",
            "   | Name                               | Type                            | Params | Mode \n",
            "------------------------------------------------------------------------------------------------\n",
            "0  | loss                               | TorchMetricWrapper              | 0      | train\n",
            "1  | logging_metrics                    | ModuleList                      | 0      | train\n",
            "2  | input_embeddings                   | MultiEmbedding                  | 1      | train\n",
            "3  | prescalers                         | ModuleDict                      | 432    | train\n",
            "4  | static_variable_selection          | VariableSelectionNetwork        | 48     | train\n",
            "5  | encoder_variable_selection         | VariableSelectionNetwork        | 19.3 K | train\n",
            "6  | decoder_variable_selection         | VariableSelectionNetwork        | 17.2 K | train\n",
            "7  | static_context_variable_selection  | GatedResidualNetwork            | 1.1 K  | train\n",
            "8  | static_context_initial_hidden_lstm | GatedResidualNetwork            | 1.1 K  | train\n",
            "9  | static_context_initial_cell_lstm   | GatedResidualNetwork            | 1.1 K  | train\n",
            "10 | static_context_enrichment          | GatedResidualNetwork            | 1.1 K  | train\n",
            "11 | lstm_encoder                       | LSTM                            | 2.2 K  | train\n",
            "12 | lstm_decoder                       | LSTM                            | 2.2 K  | train\n",
            "13 | post_lstm_gate_encoder             | GatedLinearUnit                 | 544    | train\n",
            "14 | post_lstm_add_norm_encoder         | AddNorm                         | 32     | train\n",
            "15 | static_enrichment                  | GatedResidualNetwork            | 1.4 K  | train\n",
            "16 | multihead_attn                     | InterpretableMultiHeadAttention | 1.1 K  | train\n",
            "17 | post_attn_gate_norm                | GateAddNorm                     | 576    | train\n",
            "18 | pos_wise_ff                        | GatedResidualNetwork            | 1.1 K  | train\n",
            "19 | pre_output_gate_norm               | GateAddNorm                     | 576    | train\n",
            "20 | output_layer                       | Linear                          | 17     | train\n",
            "------------------------------------------------------------------------------------------------\n",
            "50.3 K    Trainable params\n",
            "0         Non-trainable params\n",
            "50.3 K    Total params\n",
            "0.201     Total estimated model params size (MB)\n",
            "888       Modules in train mode\n",
            "0         Modules in eval mode\n"
          ]
        },
        {
          "data": {
            "application/vnd.jupyter.widget-view+json": {
              "model_id": "a19d9dc0506249a8a1716a2dc48535e9",
              "version_major": 2,
              "version_minor": 0
            },
            "text/plain": [
              "Sanity Checking: |          | 0/? [00:00<?, ?it/s]"
            ]
          },
          "metadata": {},
          "output_type": "display_data"
        },
        {
          "data": {
            "application/vnd.jupyter.widget-view+json": {
              "model_id": "8f359f16010a429e823c315c5f87cc4d",
              "version_major": 2,
              "version_minor": 0
            },
            "text/plain": [
              "Training: |          | 0/? [00:00<?, ?it/s]"
            ]
          },
          "metadata": {},
          "output_type": "display_data"
        },
        {
          "data": {
            "application/vnd.jupyter.widget-view+json": {
              "model_id": "c6782cd04b684200a9114034e2ebb38c",
              "version_major": 2,
              "version_minor": 0
            },
            "text/plain": [
              "Validation: |          | 0/? [00:00<?, ?it/s]"
            ]
          },
          "metadata": {},
          "output_type": "display_data"
        },
        {
          "name": "stderr",
          "output_type": "stream",
          "text": [
            "Metric train_loss improved. New best score: 259.777\n"
          ]
        },
        {
          "data": {
            "application/vnd.jupyter.widget-view+json": {
              "model_id": "eaaae42d338c4dd3b184d771488dd24c",
              "version_major": 2,
              "version_minor": 0
            },
            "text/plain": [
              "Validation: |          | 0/? [00:00<?, ?it/s]"
            ]
          },
          "metadata": {},
          "output_type": "display_data"
        },
        {
          "data": {
            "application/vnd.jupyter.widget-view+json": {
              "model_id": "b080fa3b1ad14221a535c616181469ba",
              "version_major": 2,
              "version_minor": 0
            },
            "text/plain": [
              "Validation: |          | 0/? [00:00<?, ?it/s]"
            ]
          },
          "metadata": {},
          "output_type": "display_data"
        },
        {
          "data": {
            "application/vnd.jupyter.widget-view+json": {
              "model_id": "b3b36c3758ce44a3857dccd34421a01e",
              "version_major": 2,
              "version_minor": 0
            },
            "text/plain": [
              "Validation: |          | 0/? [00:00<?, ?it/s]"
            ]
          },
          "metadata": {},
          "output_type": "display_data"
        },
        {
          "data": {
            "application/vnd.jupyter.widget-view+json": {
              "model_id": "1532a4a8c8dd4c5da78fb764538b1441",
              "version_major": 2,
              "version_minor": 0
            },
            "text/plain": [
              "Validation: |          | 0/? [00:00<?, ?it/s]"
            ]
          },
          "metadata": {},
          "output_type": "display_data"
        },
        {
          "data": {
            "application/vnd.jupyter.widget-view+json": {
              "model_id": "426aa2d71438437f96fe137194f656ac",
              "version_major": 2,
              "version_minor": 0
            },
            "text/plain": [
              "Validation: |          | 0/? [00:00<?, ?it/s]"
            ]
          },
          "metadata": {},
          "output_type": "display_data"
        },
        {
          "name": "stderr",
          "output_type": "stream",
          "text": [
            "Metric train_loss improved by 196.726 >= min_delta = 0.0001. New best score: 63.051\n"
          ]
        },
        {
          "data": {
            "application/vnd.jupyter.widget-view+json": {
              "model_id": "649ebaff552e4c8ea927b50b6f32a5df",
              "version_major": 2,
              "version_minor": 0
            },
            "text/plain": [
              "Validation: |          | 0/? [00:00<?, ?it/s]"
            ]
          },
          "metadata": {},
          "output_type": "display_data"
        },
        {
          "data": {
            "application/vnd.jupyter.widget-view+json": {
              "model_id": "3b940993de254608b9585dd7c8aed2c8",
              "version_major": 2,
              "version_minor": 0
            },
            "text/plain": [
              "Validation: |          | 0/? [00:00<?, ?it/s]"
            ]
          },
          "metadata": {},
          "output_type": "display_data"
        },
        {
          "data": {
            "application/vnd.jupyter.widget-view+json": {
              "model_id": "0f0730d3984747b39510e537a56587dc",
              "version_major": 2,
              "version_minor": 0
            },
            "text/plain": [
              "Validation: |          | 0/? [00:00<?, ?it/s]"
            ]
          },
          "metadata": {},
          "output_type": "display_data"
        },
        {
          "data": {
            "application/vnd.jupyter.widget-view+json": {
              "model_id": "354f6f8ee03f473d92d42da7178bbe56",
              "version_major": 2,
              "version_minor": 0
            },
            "text/plain": [
              "Validation: |          | 0/? [00:00<?, ?it/s]"
            ]
          },
          "metadata": {},
          "output_type": "display_data"
        },
        {
          "data": {
            "application/vnd.jupyter.widget-view+json": {
              "model_id": "3eb8a181a21a4c19a91ee88a4913ccdd",
              "version_major": 2,
              "version_minor": 0
            },
            "text/plain": [
              "Validation: |          | 0/? [00:00<?, ?it/s]"
            ]
          },
          "metadata": {},
          "output_type": "display_data"
        },
        {
          "name": "stderr",
          "output_type": "stream",
          "text": [
            "Monitored metric train_loss did not improve in the last 5 records. Best score: 63.051. Signaling Trainer to stop.\n"
          ]
        },
        {
          "name": "stdout",
          "output_type": "stream",
          "text": [
            "✅ Training completed!\n",
            "\n",
            "=== Loading Best Model and Creating Validation Dataset ===\n"
          ]
        },
        {
          "name": "stderr",
          "output_type": "stream",
          "text": [
            "💡 Tip: For seamless cloud uploads and versioning, try installing [litmodels](https://pypi.org/project/litmodels/) to enable LitModelCheckpoint, which syncs automatically with the Lightning model registry.\n",
            "GPU available: True (mps), used: True\n",
            "TPU available: False, using: 0 TPU cores\n",
            "HPU available: False, using: 0 HPUs\n"
          ]
        },
        {
          "name": "stdout",
          "output_type": "stream",
          "text": [
            "✓ Best model loaded from: /Users/hwang-yejin/Desktop/Financial Time Series Forecasting with Deep Learning Models and Social Media Sentiment/notebooks/checkpoints/tft-epoch=05-train_loss=63.0506.ckpt\n",
            "✓ Validation dataset created with 1 samples\n",
            "\n",
            "=== Making Predictions ===\n",
            "✓ Predictions made successfully\n",
            "  - Prediction shape: torch.Size([1, 5])\n",
            "  - Actuals shape: torch.Size([1, 5])\n",
            "\n",
            "=== Performance Evaluation ===\n",
            "\n",
            "📊 Model Performance Metrics:\n",
            "  Metric     Value\n",
            "0    MAE   20.9365\n",
            "1    MSE  455.0829\n",
            "2   RMSE   21.3327\n",
            "3   MAPE    6.6037\n",
            "\n",
            "Per-seed A (Upvote):\n",
            "             MAE          MSE       RMSE       MAPE    Time(s)\n",
            "seed                                                         \n",
            "42     4.397833    20.192596   4.493618   1.390320  63.757982\n",
            "43     3.458209    13.455104   3.668120   1.094604  64.680809\n",
            "44     1.711438     3.861286   1.965015   0.542998  61.537073\n",
            "45     1.312439     3.125810   1.767996   0.419040  70.999236\n",
            "46    80.763687  6544.574707  80.898544  25.521740  22.752243\n",
            "\n",
            "Per-seed B (FinBERT):\n",
            "             MAE         MSE       RMSE      MAPE    Time(s)\n",
            "seed                                                       \n",
            "42     5.551111   34.046959   5.834977  1.759849  43.465069\n",
            "43     6.747394   47.713783   6.907516  2.131168  50.900401\n",
            "44    14.755689  235.453537  15.344496  4.684050  23.309640\n",
            "45     1.813226    5.911119   2.431279  0.576063  51.303723\n",
            "46    20.936548  455.082916  21.332672  6.603738  31.432009\n",
            "\n",
            "Robustness summary (mean±std):\n",
            "                          value\n",
            "A Upvote  MAE mean   18.328721\n",
            "          MAE std    34.924972\n",
            "          RMSE mean  18.558659\n",
            "          RMSE std   34.867930\n",
            "          MAPE mean   5.793741\n",
            "          MAPE std   11.035439\n",
            "B FinBERT MAE mean    9.960794\n",
            "          MAE std     7.739708\n",
            "          RMSE mean  10.370188\n",
            "          RMSE std    7.754101\n",
            "          MAPE mean   3.150974\n",
            "          MAPE std    2.443220\n",
            "Saved CSVs to /Users/hwang-yejin/Desktop/Financial Time Series Forecasting with Deep Learning Models and Social Media Sentiment/results\n"
          ]
        }
      ],
      "source": [
        "# Robustness: seeds mean/std\n",
        "import time, pandas as pd\n",
        "seeds = [42, 43, 44, 45, 46]\n",
        "rows_A, rows_B = [], []\n",
        "for s in seeds:\n",
        "    t0 = time.time(); mA = run_with_data_seeded(A_PATH, s); dtA = time.time()-t0\n",
        "    rows_A.append({\"seed\": s, **mA, \"Time(s)\": dtA})\n",
        "    t0 = time.time(); mB = run_with_data_seeded(B_PATH, s); dtB = time.time()-t0\n",
        "    rows_B.append({\"seed\": s, **mB, \"Time(s)\": dtB})\n",
        "A_df = pd.DataFrame(rows_A).set_index('seed')\n",
        "B_df = pd.DataFrame(rows_B).set_index('seed')\n",
        "\n",
        "summary = pd.DataFrame({\n",
        "    ('A Upvote','MAE mean'): [A_df['MAE'].mean()],\n",
        "    ('A Upvote','MAE std'): [A_df['MAE'].std(ddof=1)],\n",
        "    ('A Upvote','RMSE mean'): [A_df['RMSE'].mean()],\n",
        "    ('A Upvote','RMSE std'): [A_df['RMSE'].std(ddof=1)],\n",
        "    ('A Upvote','MAPE mean'): [A_df['MAPE'].mean()],\n",
        "    ('A Upvote','MAPE std'): [A_df['MAPE'].std(ddof=1)],\n",
        "    ('B FinBERT','MAE mean'): [B_df['MAE'].mean()],\n",
        "    ('B FinBERT','MAE std'): [B_df['MAE'].std(ddof=1)],\n",
        "    ('B FinBERT','RMSE mean'): [B_df['RMSE'].mean()],\n",
        "    ('B FinBERT','RMSE std'): [B_df['RMSE'].std(ddof=1)],\n",
        "    ('B FinBERT','MAPE mean'): [B_df['MAPE'].mean()],\n",
        "    ('B FinBERT','MAPE std'): [B_df['MAPE'].std(ddof=1)],\n",
        "}).T\n",
        "summary.columns = ['value']\n",
        "\n",
        "print('\\nPer-seed A (Upvote):\\n', A_df)\n",
        "print('\\nPer-seed B (FinBERT):\\n', B_df)\n",
        "print('\\nRobustness summary (mean±std):\\n', summary)\n",
        "\n",
        "# Save\n",
        "import os\n",
        "A_df.to_csv(os.path.join(RESULTS_DIR, 'TSLA_neutral_ab_seeds_A_upvote.csv'))\n",
        "B_df.to_csv(os.path.join(RESULTS_DIR, 'TSLA_neutral_ab_seeds_B_finbert.csv'))\n",
        "summary.to_csv(os.path.join(RESULTS_DIR, 'TSLA_neutral_ab_summary.csv'))\n",
        "print('Saved CSVs to', RESULTS_DIR)\n"
      ]
    },
    {
      "cell_type": "code",
      "execution_count": null,
      "metadata": {},
      "outputs": [],
      "source": [
        "\n"
      ]
    },
    {
      "cell_type": "code",
      "execution_count": 11,
      "metadata": {},
      "outputs": [
        {
          "name": "stdout",
          "output_type": "stream",
          "text": [
            "\n",
            "Per-seed A (Upvote):\n",
            "             MAE          MSE       RMSE       MAPE    Time(s)\n",
            "seed                                                         \n",
            "42     4.397833    20.192596   4.493618   1.390320  63.757982\n",
            "43     3.458209    13.455104   3.668120   1.094604  64.680809\n",
            "44     1.711438     3.861286   1.965015   0.542998  61.537073\n",
            "45     1.312439     3.125810   1.767996   0.419040  70.999236\n",
            "46    80.763687  6544.574707  80.898544  25.521740  22.752243\n",
            "\n",
            "Per-seed B (FinBERT):\n",
            "             MAE         MSE       RMSE      MAPE    Time(s)\n",
            "seed                                                       \n",
            "42     5.551111   34.046959   5.834977  1.759849  43.465069\n",
            "43     6.747394   47.713783   6.907516  2.131168  50.900401\n",
            "44    14.755689  235.453537  15.344496  4.684050  23.309640\n",
            "45     1.813226    5.911119   2.431279  0.576063  51.303723\n",
            "46    20.936548  455.082916  21.332672  6.603738  31.432009\n",
            "\n",
            "Robustness summary (mean±std):\n",
            "       A Upvote mean  A Upvote std  B FinBERT mean  B FinBERT std\n",
            "MAE       18.328721     34.924972        9.960794       7.739708\n",
            "RMSE      18.558659     34.867930       10.370188       7.754101\n",
            "MAPE       5.793741     11.035439        3.150974       2.443220\n"
          ]
        }
      ],
      "source": [
        "# Show per-seed and summary results instead of global results matrix\n",
        "import os, pandas as pd\n",
        "\n",
        "A_df_path = os.path.join(RESULTS_DIR, 'TSLA_neutral_ab_seeds_A_upvote.csv')\n",
        "B_df_path = os.path.join(RESULTS_DIR, 'TSLA_neutral_ab_seeds_B_finbert.csv')\n",
        "summary_path = os.path.join(RESULTS_DIR, 'TSLA_neutral_ab_summary.csv')\n",
        "\n",
        "if os.path.exists(A_df_path) and os.path.exists(B_df_path) and os.path.exists(summary_path):\n",
        "    A_df = pd.read_csv(A_df_path, index_col=0)\n",
        "    B_df = pd.read_csv(B_df_path, index_col=0)\n",
        "    summary = pd.read_csv(summary_path, index_col=0)\n",
        "    print('\\nPer-seed A (Upvote):\\n', A_df)\n",
        "    print('\\nPer-seed B (FinBERT):\\n', B_df)\n",
        "    print('\\nRobustness summary (mean±std):\\n', summary)\n",
        "else:\n",
        "    print('One or more result CSVs not found in:', RESULTS_DIR)\n"
      ]
    }
  ],
  "metadata": {
    "kernelspec": {
      "display_name": "base",
      "language": "python",
      "name": "python3"
    },
    "language_info": {
      "codemirror_mode": {
        "name": "ipython",
        "version": 3
      },
      "file_extension": ".py",
      "mimetype": "text/x-python",
      "name": "python",
      "nbconvert_exporter": "python",
      "pygments_lexer": "ipython3",
      "version": "3.12.2"
    }
  },
  "nbformat": 4,
  "nbformat_minor": 2
}

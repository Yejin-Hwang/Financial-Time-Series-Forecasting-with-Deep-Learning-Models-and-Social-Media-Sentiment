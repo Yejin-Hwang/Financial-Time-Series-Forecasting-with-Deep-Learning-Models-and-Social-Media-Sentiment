{
  "cells": [
    {
      "cell_type": "markdown",
      "metadata": {},
      "source": [
        "# Volume Normalization Experiment (TSLA)\n",
        "\n",
        "Goal: Visualize volume skew in the 96-day training window (starting 2025-02-01), then normalize inputs (log1p + scaler), save a normalized CSV, and compare model performance (TFT Baseline / TFT + Reddit).\n",
        "\n"
      ]
    },
    {
      "cell_type": "code",
      "execution_count": 1,
      "metadata": {},
      "outputs": [
        {
          "name": "stdout",
          "output_type": "stream",
          "text": [
            "Project root: /Users/hwang-yejin/Desktop/Financial Time Series Forecasting with Deep Learning Models and Social Media Sentiment\n",
            "Data path: /Users/hwang-yejin/Desktop/Financial Time Series Forecasting with Deep Learning Models and Social Media Sentiment/data/processed/tsla_price_sentiment_spike.csv\n"
          ]
        }
      ],
      "source": [
        "# Setup\n",
        "import os, sys\n",
        "import pandas as pd\n",
        "import numpy as np\n",
        "import matplotlib.pyplot as plt\n",
        "from datetime import datetime\n",
        "from scipy.stats import skew, kurtosis\n",
        "\n",
        "PROJECT_ROOT = os.path.abspath(os.path.join(os.getcwd(), '..'))\n",
        "DATA_PATH = os.path.join(PROJECT_ROOT, 'data', 'processed', 'tsla_price_sentiment_spike.csv')\n",
        "RESULTS_DIR = os.path.join(PROJECT_ROOT, 'results')\n",
        "os.makedirs(RESULTS_DIR, exist_ok=True)\n",
        "\n",
        "print('Project root:', PROJECT_ROOT)\n",
        "print('Data path:', DATA_PATH)\n"
      ]
    },
    {
      "cell_type": "code",
      "execution_count": 2,
      "metadata": {},
      "outputs": [
        {
          "name": "stdout",
          "output_type": "stream",
          "text": [
            "          date       close    volume\n",
            "128 2025-02-03  383.679993  93732100\n",
            "129 2025-02-04  392.209992  57072200\n",
            "130 2025-02-05  378.170013  57223300\n",
            "131 2025-02-06  374.320007  77918200\n",
            "132 2025-02-07  361.619995  70298300\n",
            "Slice rows: 101\n"
          ]
        }
      ],
      "source": [
        "# Load data and slice 96-day training window starting 2025-02-01\n",
        "import pandas as pd\n",
        "\n",
        "df = pd.read_csv(DATA_PATH)\n",
        "df['date'] = pd.to_datetime(df['date'], errors='coerce')\n",
        "start_dt = pd.to_datetime('2025-02-01')\n",
        "# Find first index >= start_dt\n",
        "start_idx = df.index[df['date'] >= start_dt]\n",
        "start_idx = int(start_idx[0]) if len(start_idx) > 0 else 0\n",
        "training_days = 96\n",
        "pred_days = 5\n",
        "total_rows = training_days + pred_days\n",
        "end_idx = min(start_idx + total_rows, len(df))\n",
        "\n",
        "df_slice = df.iloc[start_idx:end_idx].copy()\n",
        "print(df_slice[['date','close','volume']].head())\n",
        "print('Slice rows:', len(df_slice))\n"
      ]
    },
    {
      "cell_type": "code",
      "execution_count": 3,
      "metadata": {},
      "outputs": [
        {
          "data": {
            "image/png": "[encoded data removed]",
            "text/plain": [
              "<Figure size 1200x400 with 2 Axes>"
            ]
          },
          "metadata": {},
          "output_type": "display_data"
        },
        {
          "name": "stdout",
          "output_type": "stream",
          "text": [
            "Raw  skew: 1.2569507271289737\n",
            "Raw  kurt: 2.7311096970284003\n",
            "Log1p skew: 0.08295134247233231\n",
            "Log1p kurt: 0.24388110148002928\n"
          ]
        }
      ],
      "source": [
        "# Visualize volume distribution and skew/kurtosis\n",
        "v = df_slice['volume'].astype(float)\n",
        "fig, axes = plt.subplots(1, 2, figsize=(12,4))\n",
        "axes[0].hist(v, bins=30, color='steelblue', alpha=0.8)\n",
        "axes[0].set_title('Volume histogram (raw)')\n",
        "axes[0].set_xlabel('volume')\n",
        "axes[0].set_ylabel('count')\n",
        "\n",
        "v_log = np.log1p(v)\n",
        "axes[1].hist(v_log, bins=30, color='seagreen', alpha=0.8)\n",
        "axes[1].set_title('Volume histogram (log1p)')\n",
        "axes[1].set_xlabel('log1p(volume)')\n",
        "plt.tight_layout()\n",
        "plt.show()\n",
        "\n",
        "print('Raw  skew:', float(skew(v, nan_policy='omit')))\n",
        "print('Raw  kurt:', float(kurtosis(v, nan_policy='omit')))\n",
        "print('Log1p skew:', float(skew(v_log, nan_policy='omit')))\n",
        "print('Log1p kurt:', float(kurtosis(v_log, nan_policy='omit')))\n"
      ]
    },
    {
      "cell_type": "code",
      "execution_count": 4,
      "metadata": {},
      "outputs": [
        {
          "name": "stdout",
          "output_type": "stream",
          "text": [
            "Saved normalized dataset to: /Users/hwang-yejin/Desktop/Financial Time Series Forecasting with Deep Learning Models and Social Media Sentiment/data/processed/tsla_price_sentiment_spike_norm.csv\n"
          ]
        },
        {
          "name": "stderr",
          "output_type": "stream",
          "text": [
            "/var/folders/pq/ywh3rrys6n9dnn8yfd90rznm0000gn/T/ipykernel_11575/3323043538.py:25: FutureWarning: DataFrame.fillna with 'method' is deprecated and will raise in a future version. Use obj.ffill() or obj.bfill() instead.\n",
            "  normalized_df[['volume_log1p']].fillna(method='ffill').fillna(method='bfill')\n"
          ]
        }
      ],
      "source": [
        "# Fit scaler on train-only window and save normalized CSV\n",
        "from sklearn.preprocessing import StandardScaler, RobustScaler\n",
        "\n",
        "# Train/val/test split within the slice: first 96 train, last 5 forecast horizon\n",
        "train_df = df_slice.iloc[:training_days].copy()\n",
        "pred_df = df_slice.iloc[training_days:].copy()\n",
        "\n",
        "# Choose scaler; use RobustScaler by default for heavy tails\n",
        "use_robust = True\n",
        "scaler = RobustScaler() if use_robust else StandardScaler()\n",
        "\n",
        "# Log1p transform volume, then fit on train\n",
        "train_df['volume_log1p'] = np.log1p(train_df['volume'].astype(float))\n",
        "scaler.fit(train_df[['volume_log1p']])\n",
        "\n",
        "# Apply to full slice, create normalized column\n",
        "full = df_slice.copy()\n",
        "full['volume_log1p'] = np.log1p(full['volume'].astype(float))\n",
        "full['volume_norm'] = scaler.transform(full[['volume_log1p']])\n",
        "\n",
        "# Save a normalized copy for entire dataset (not just slice) to reuse in pipelines\n",
        "normalized_df = df.copy()\n",
        "normalized_df['volume_log1p'] = np.log1p(normalized_df['volume'].astype(float))\n",
        "normalized_df['volume_norm'] = scaler.transform(\n",
        "    normalized_df[['volume_log1p']].fillna(method='ffill').fillna(method='bfill')\n",
        ")\n",
        "\n",
        "out_csv = os.path.join(PROJECT_ROOT, 'data', 'processed', 'tsla_price_sentiment_spike_norm.csv')\n",
        "normalized_df.to_csv(out_csv, index=False)\n",
        "print('Saved normalized dataset to:', out_csv)\n"
      ]
    },
    {
      "cell_type": "code",
      "execution_count": null,
      "metadata": {},
      "outputs": [
        {
          "name": "stdout",
          "output_type": "stream",
          "text": [
            "\n",
            "Next steps:\n",
            "1) In TFT notebooks, point DATA_PATH to tsla_price_sentiment_spike_norm.csv\n",
            "2) Re-run TFT Baseline & TFT + Reddit to compare RMSE/MAPE with/without volume_norm\n"
          ]
        }
      ],
      "source": [
        "# Optional: quick A/B run hooks (manual)\n",
        "print('\\nNext steps:')\n",
        "print('1) In TFT notebooks, point DATA_PATH to tsla_price_sentiment_spike_norm.csv')\n",
        "print('2) Re-run TFT Baseline & TFT + Reddit to compare RMSE/MAPE with/without volume_norm')"
      ]
    }
  ],
  "metadata": {
    "kernelspec": {
      "display_name": "base",
      "language": "python",
      "name": "python3"
    },
    "language_info": {
      "codemirror_mode": {
        "name": "ipython",
        "version": 3
      },
      "file_extension": ".py",
      "mimetype": "text/x-python",
      "name": "python",
      "nbconvert_exporter": "python",
      "pygments_lexer": "ipython3",
      "version": "3.12.2"
    }
  },
  "nbformat": 4,
  "nbformat_minor": 2
}
